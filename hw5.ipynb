{
 "cells": [
  {
   "cell_type": "markdown",
   "metadata": {},
   "source": [
    "### Data preprocessing for Deep Learning Model"
   ]
  },
  {
   "cell_type": "code",
   "execution_count": 629,
   "metadata": {},
   "outputs": [],
   "source": [
    "#載入套件\n",
    "import numpy\n",
    "%matplotlib inline\n",
    "import matplotlib\n",
    "import matplotlib.pyplot as plt\n",
    "import pandas as pd"
   ]
  },
  {
   "cell_type": "code",
   "execution_count": 2,
   "metadata": {},
   "outputs": [],
   "source": [
    "import d2l\n",
    "from mxnet import autograd, gluon, np, npx ,nd ,init\n",
    "from mxnet.gluon import nn\n",
    "npx.set_np()"
   ]
  },
  {
   "cell_type": "code",
   "execution_count": 3,
   "metadata": {},
   "outputs": [],
   "source": [
    "import mxnet as mx"
   ]
  },
  {
   "cell_type": "code",
   "execution_count": 4,
   "metadata": {},
   "outputs": [],
   "source": [
    "#載入套件 並讀入資料集\n",
    "import pickle\n",
    "\n",
    "with open('msd_full.pickle','rb') as f:\n",
    "    myobj = pickle.load(f)"
   ]
  },
  {
   "cell_type": "code",
   "execution_count": 5,
   "metadata": {},
   "outputs": [
    {
     "data": {
      "text/plain": [
       "{'X_train': array([[  53.39967,   56.67781,   55.63508, ...,    1.3159 ,    2.37448,\n",
       "            1.85999],\n",
       "        [  42.83464,  -33.90478,   38.97704, ...,    9.72827, -175.51446,\n",
       "          -15.8389 ],\n",
       "        [  49.88591,   23.30563,   54.79012, ...,    1.94152,  101.27241,\n",
       "            8.99355],\n",
       "        ...,\n",
       "        [  48.69997,   72.78532,   27.79159, ...,   -1.70515,   39.9382 ,\n",
       "            4.83517],\n",
       "        [  49.45505,   56.51035,   15.80259, ...,  -10.0645 ,   42.57409,\n",
       "          -12.3541 ],\n",
       "        [  40.31555,  -29.88336,    8.87396, ...,    5.81771,  -50.36502,\n",
       "           -8.57407]]),\n",
       " 'Y_train': array([1996., 2001., 2003., ..., 1991., 2005., 1996.]),\n",
       " 'X_test': array([[ 38.51784,  55.38723,  10.31652, ...,   6.66624, -73.75585,\n",
       "           9.47857],\n",
       "        [ 44.7309 ,  46.25776,   8.55636, ...,   4.5564 ,  53.49956,\n",
       "           5.39116],\n",
       "        [ 43.08912,  45.70197,  17.18467, ..., -13.64909,  -7.42137,\n",
       "          -4.97266],\n",
       "        ...,\n",
       "        [ 39.12578, -70.57977,  38.04236, ..., -27.23807, 617.75455,\n",
       "          26.79448],\n",
       "        [ 43.34389,  14.77166,   9.62647, ...,  38.26585, 262.25932,\n",
       "          47.52011],\n",
       "        [ 45.33986,  65.04372,  -3.40247, ...,  20.79499,  58.92149,\n",
       "           7.27194]]),\n",
       " 'Y_test': array([1998., 1988., 2005., ..., 2003., 2000., 2000.])}"
      ]
     },
     "execution_count": 5,
     "metadata": {},
     "output_type": "execute_result"
    }
   ],
   "source": [
    "myobj"
   ]
  },
  {
   "cell_type": "code",
   "execution_count": 6,
   "metadata": {},
   "outputs": [
    {
     "name": "stdout",
     "output_type": "stream",
     "text": [
      "(463715, 90)\n",
      "(463715,)\n",
      "(51630, 90)\n",
      "(51630,)\n"
     ]
    }
   ],
   "source": [
    "print(myobj['X_train'].shape)\n",
    "print(myobj['Y_train'].shape)\n",
    "print(myobj['X_test'].shape)\n",
    "print(myobj['Y_test'].shape)"
   ]
  },
  {
   "cell_type": "code",
   "execution_count": 7,
   "metadata": {},
   "outputs": [],
   "source": [
    "X_train=myobj['X_train']\n",
    "Y_train=myobj['Y_train']\n",
    "X_test=myobj['X_test']\n",
    "Y_test=myobj['Y_test']"
   ]
  },
  {
   "cell_type": "code",
   "execution_count": 8,
   "metadata": {},
   "outputs": [
    {
     "data": {
      "text/plain": [
       "numpy.ndarray"
      ]
     },
     "execution_count": 8,
     "metadata": {},
     "output_type": "execute_result"
    }
   ],
   "source": [
    "type(X_train)"
   ]
  },
  {
   "cell_type": "code",
   "execution_count": 9,
   "metadata": {},
   "outputs": [],
   "source": [
    "#載入sklearn的StandardScaler 用來標準化，並將train_x和test_x 都用train_x資料來做標準化，再跑regression\n",
    "from sklearn.preprocessing import StandardScaler\n",
    "scaler = StandardScaler()\n",
    "scaler.fit(X_train)\n",
    "X_train_standard = scaler.transform(X_train)\n",
    "X_test_standard = scaler.transform(X_test)"
   ]
  },
  {
   "cell_type": "code",
   "execution_count": 10,
   "metadata": {},
   "outputs": [],
   "source": [
    "#轉換mxnet資料型態\n",
    "X_train_standard=np.array(X_train_standard,dtype=np.float32)\n",
    "Y_train=np.array(Y_train,dtype=np.float32)\n",
    "X_test_standard=np.array(X_test_standard,dtype=np.float32)\n",
    "Y_test=np.array(Y_test,dtype=np.float32)"
   ]
  },
  {
   "cell_type": "code",
   "execution_count": 11,
   "metadata": {},
   "outputs": [
    {
     "data": {
      "text/plain": [
       "mxnet.numpy.ndarray"
      ]
     },
     "execution_count": 11,
     "metadata": {},
     "output_type": "execute_result"
    }
   ],
   "source": [
    "type(X_train_standard)"
   ]
  },
  {
   "cell_type": "code",
   "execution_count": 12,
   "metadata": {},
   "outputs": [
    {
     "data": {
      "text/plain": [
       "417343"
      ]
     },
     "execution_count": 12,
     "metadata": {},
     "output_type": "execute_result"
    }
   ],
   "source": [
    "size=int(len(X_train_standard)*0.9)\n",
    "size"
   ]
  },
  {
   "cell_type": "code",
   "execution_count": 13,
   "metadata": {},
   "outputs": [],
   "source": [
    "#reserve the last 10% of the training dataset as the validation set, and the remaining 90% as the subtraining set\n",
    "subtrain_x=X_train_standard[:size]\n",
    "validation_x=X_train_standard[size:]"
   ]
  },
  {
   "cell_type": "code",
   "execution_count": 14,
   "metadata": {},
   "outputs": [],
   "source": [
    "subtrain_y=Y_train[:size]\n",
    "validation_y=Y_train[size:]"
   ]
  },
  {
   "cell_type": "code",
   "execution_count": 15,
   "metadata": {},
   "outputs": [],
   "source": [
    "#取前10000筆 subtrain\n",
    "subtrain_x_10000=subtrain_x[:10000]\n",
    "subtrain_y_10000=subtrain_y[:10000]"
   ]
  },
  {
   "cell_type": "code",
   "execution_count": 16,
   "metadata": {},
   "outputs": [
    {
     "data": {
      "text/plain": [
       "(10000, 90)"
      ]
     },
     "execution_count": 16,
     "metadata": {},
     "output_type": "execute_result"
    }
   ],
   "source": [
    "subtrain_x_10000.shape"
   ]
  },
  {
   "cell_type": "code",
   "execution_count": 17,
   "metadata": {},
   "outputs": [
    {
     "data": {
      "text/plain": [
       "(10000,)"
      ]
     },
     "execution_count": 17,
     "metadata": {},
     "output_type": "execute_result"
    }
   ],
   "source": [
    "subtrain_y_10000.shape"
   ]
  },
  {
   "cell_type": "code",
   "execution_count": 18,
   "metadata": {},
   "outputs": [
    {
     "data": {
      "text/plain": [
       "mxnet.numpy.ndarray"
      ]
     },
     "execution_count": 18,
     "metadata": {},
     "output_type": "execute_result"
    }
   ],
   "source": [
    "type(subtrain_x_10000)"
   ]
  },
  {
   "cell_type": "code",
   "execution_count": 19,
   "metadata": {},
   "outputs": [
    {
     "data": {
      "text/plain": [
       "mxnet.numpy.ndarray"
      ]
     },
     "execution_count": 19,
     "metadata": {},
     "output_type": "execute_result"
    }
   ],
   "source": [
    "type(subtrain_y_10000)"
   ]
  },
  {
   "cell_type": "code",
   "execution_count": 20,
   "metadata": {},
   "outputs": [],
   "source": [
    "#定義出RMSE的函數\n",
    "def RMSE(y, y_pred):\n",
    "    mse = np.mean((y - y_pred)**2) \n",
    "    return  np.sqrt(mse)"
   ]
  },
  {
   "cell_type": "markdown",
   "metadata": {},
   "source": [
    "## Q1"
   ]
  },
  {
   "cell_type": "markdown",
   "metadata": {},
   "source": [
    "### Case OLS"
   ]
  },
  {
   "cell_type": "code",
   "execution_count": 21,
   "metadata": {},
   "outputs": [],
   "source": [
    "#載入sklearn的OLS regression\n",
    "from sklearn.linear_model import LinearRegression\n",
    "reg1 = LinearRegression().fit(subtrain_x_10000.asnumpy(),subtrain_y_10000.asnumpy())\n",
    "ypred1 = reg1.predict(X_test_standard.asnumpy())"
   ]
  },
  {
   "cell_type": "code",
   "execution_count": 22,
   "metadata": {},
   "outputs": [
    {
     "data": {
      "text/plain": [
       "array([1992.5251, 1998.2167, 2003.9835, ..., 1994.5137, 1996.6868,\n",
       "       1998.5167], dtype=float32)"
      ]
     },
     "execution_count": 22,
     "metadata": {},
     "output_type": "execute_result"
    }
   ],
   "source": [
    "ypred1"
   ]
  },
  {
   "cell_type": "code",
   "execution_count": 23,
   "metadata": {},
   "outputs": [
    {
     "data": {
      "text/plain": [
       "array([1998., 1988., 2005., ..., 2003., 2000., 2000.])"
      ]
     },
     "execution_count": 23,
     "metadata": {},
     "output_type": "execute_result"
    }
   ],
   "source": [
    "Y_test"
   ]
  },
  {
   "cell_type": "code",
   "execution_count": 24,
   "metadata": {},
   "outputs": [
    {
     "name": "stdout",
     "output_type": "stream",
     "text": [
      "9.550725\n"
     ]
    }
   ],
   "source": [
    "#印出RMSE\n",
    "RMSE1=RMSE(Y_test,np.array(ypred1))\n",
    "print(RMSE1)"
   ]
  },
  {
   "cell_type": "markdown",
   "metadata": {},
   "source": [
    "### MLP_0_dm"
   ]
  },
  {
   "cell_type": "code",
   "execution_count": 25,
   "metadata": {},
   "outputs": [
    {
     "data": {
      "text/plain": [
       "array(1998.3861)"
      ]
     },
     "execution_count": 25,
     "metadata": {},
     "output_type": "execute_result"
    }
   ],
   "source": [
    "#算出train_y的平均值\n",
    "train_y_mean= np.mean(Y_train,axis=0)\n",
    "train_y_mean"
   ]
  },
  {
   "cell_type": "code",
   "execution_count": 26,
   "metadata": {},
   "outputs": [],
   "source": [
    "#將y給demean 並用其來跑regression 並會將Y_test也減去 train_y的平均值\n",
    "train_y_demean = Y_train - train_y_mean\n",
    "test_y_demean = Y_test - train_y_mean"
   ]
  },
  {
   "cell_type": "code",
   "execution_count": 27,
   "metadata": {},
   "outputs": [],
   "source": [
    "#將y給demean \n",
    "subtrain_y_demean = subtrain_y-train_y_mean\n",
    "validation_y_demean = validation_y-train_y_mean\n",
    "subtrain_y_10000_demean = subtrain_y_10000-train_y_mean"
   ]
  },
  {
   "cell_type": "code",
   "execution_count": 28,
   "metadata": {},
   "outputs": [
    {
     "data": {
      "text/plain": [
       "mxnet.numpy.ndarray"
      ]
     },
     "execution_count": 28,
     "metadata": {},
     "output_type": "execute_result"
    }
   ],
   "source": [
    "type(subtrain_y_10000_demean)"
   ]
  },
  {
   "cell_type": "code",
   "execution_count": 29,
   "metadata": {},
   "outputs": [
    {
     "data": {
      "text/plain": [
       "mxnet.numpy.ndarray"
      ]
     },
     "execution_count": 29,
     "metadata": {},
     "output_type": "execute_result"
    }
   ],
   "source": [
    "type(validation_y_demean)"
   ]
  },
  {
   "cell_type": "code",
   "execution_count": 30,
   "metadata": {},
   "outputs": [],
   "source": [
    "data_ctx = mx.cpu()\n",
    "model_ctx = mx.cpu()"
   ]
  },
  {
   "cell_type": "code",
   "execution_count": 31,
   "metadata": {},
   "outputs": [],
   "source": [
    "batch_size = 10\n",
    "train_data = gluon.data.DataLoader(gluon.data.ArrayDataset(subtrain_x_10000, subtrain_y_10000_demean),\n",
    "                                      batch_size=batch_size, shuffle=True)"
   ]
  },
  {
   "cell_type": "code",
   "execution_count": 32,
   "metadata": {},
   "outputs": [],
   "source": [
    "net = nn.Sequential()\n",
    "net.add(nn.Dense(1))"
   ]
  },
  {
   "cell_type": "code",
   "execution_count": 33,
   "metadata": {},
   "outputs": [],
   "source": [
    "#net = gluon.nn.Dense(1, in_units=subtrain_x_10000.shape[1])"
   ]
  },
  {
   "cell_type": "code",
   "execution_count": 34,
   "metadata": {},
   "outputs": [],
   "source": [
    "net.initialize(init.Normal(sigma=0.01))"
   ]
  },
  {
   "cell_type": "code",
   "execution_count": 35,
   "metadata": {},
   "outputs": [
    {
     "data": {
      "text/plain": [
       "sequential0_ (\n",
       "  Parameter dense0_weight (shape=(1, -1), dtype=float32)\n",
       "  Parameter dense0_bias (shape=(1,), dtype=float32)\n",
       ")"
      ]
     },
     "execution_count": 35,
     "metadata": {},
     "output_type": "execute_result"
    }
   ],
   "source": [
    "net.collect_params()"
   ]
  },
  {
   "cell_type": "code",
   "execution_count": 36,
   "metadata": {},
   "outputs": [],
   "source": [
    "square_loss = gluon.loss.L2Loss()"
   ]
  },
  {
   "cell_type": "code",
   "execution_count": 37,
   "metadata": {},
   "outputs": [],
   "source": [
    "trainer = gluon.Trainer(net.collect_params(), 'sgd', {'learning_rate': 0.0001})"
   ]
  },
  {
   "cell_type": "code",
   "execution_count": 38,
   "metadata": {},
   "outputs": [],
   "source": [
    "num_examples = 10000"
   ]
  },
  {
   "cell_type": "code",
   "execution_count": 39,
   "metadata": {},
   "outputs": [],
   "source": [
    "epochs = 3000\n",
    "loss_sequence = []\n",
    "num_batches = num_examples / batch_size\n",
    "validation_RMSE=[]"
   ]
  },
  {
   "cell_type": "code",
   "execution_count": 40,
   "metadata": {},
   "outputs": [
    {
     "name": "stdout",
     "output_type": "stream",
     "text": [
      "Epoch 1, loss: 5.8319306,  validation RMSE: 10.635646\n",
      "Epoch 2, loss: 5.5991273,  validation RMSE: 10.459597\n",
      "Epoch 3, loss: 5.4503255,  validation RMSE: 10.336612\n",
      "Epoch 4, loss: 5.342558,  validation RMSE: 10.244406\n",
      "Epoch 5, loss: 5.259569,  validation RMSE: 10.172737\n",
      "Epoch 6, loss: 5.1931443,  validation RMSE: 10.1137905\n",
      "Epoch 7, loss: 5.137674,  validation RMSE: 10.064521\n",
      "Epoch 8, loss: 5.0907583,  validation RMSE: 10.023836\n",
      "Epoch 9, loss: 5.050577,  validation RMSE: 9.987762\n",
      "Epoch 10, loss: 5.0155377,  validation RMSE: 9.956691\n",
      "Epoch 11, loss: 4.984549,  validation RMSE: 9.928909\n",
      "Epoch 12, loss: 4.957027,  validation RMSE: 9.904368\n",
      "Epoch 13, loss: 4.9322424,  validation RMSE: 9.882248\n",
      "Epoch 14, loss: 4.9100585,  validation RMSE: 9.862255\n",
      "Epoch 15, loss: 4.8898516,  validation RMSE: 9.843902\n",
      "Epoch 16, loss: 4.8713326,  validation RMSE: 9.827572\n",
      "Epoch 17, loss: 4.854396,  validation RMSE: 9.811978\n",
      "Epoch 18, loss: 4.8388276,  validation RMSE: 9.798949\n",
      "Epoch 19, loss: 4.8244205,  validation RMSE: 9.785541\n",
      "Epoch 20, loss: 4.811223,  validation RMSE: 9.773792\n",
      "Epoch 21, loss: 4.7989383,  validation RMSE: 9.762804\n",
      "Epoch 22, loss: 4.7874603,  validation RMSE: 9.752662\n",
      "Epoch 23, loss: 4.7767696,  validation RMSE: 9.743238\n",
      "Epoch 24, loss: 4.7666306,  validation RMSE: 9.734017\n",
      "Epoch 25, loss: 4.7572603,  validation RMSE: 9.726437\n",
      "Epoch 26, loss: 4.748653,  validation RMSE: 9.718496\n",
      "Epoch 27, loss: 4.740519,  validation RMSE: 9.710474\n",
      "Epoch 28, loss: 4.7328877,  validation RMSE: 9.703977\n",
      "Epoch 29, loss: 4.7256217,  validation RMSE: 9.698083\n",
      "Epoch 30, loss: 4.7188582,  validation RMSE: 9.691551\n",
      "Epoch 31, loss: 4.7123127,  validation RMSE: 9.68505\n",
      "Epoch 32, loss: 4.7064614,  validation RMSE: 9.679309\n",
      "Epoch 33, loss: 4.7008905,  validation RMSE: 9.674681\n",
      "Epoch 34, loss: 4.695481,  validation RMSE: 9.670729\n",
      "Epoch 35, loss: 4.690425,  validation RMSE: 9.66518\n",
      "Epoch 36, loss: 4.6856623,  validation RMSE: 9.661551\n",
      "Epoch 37, loss: 4.6812935,  validation RMSE: 9.657357\n",
      "Epoch 38, loss: 4.676962,  validation RMSE: 9.654122\n",
      "Epoch 39, loss: 4.672973,  validation RMSE: 9.650105\n",
      "Epoch 40, loss: 4.6692185,  validation RMSE: 9.646341\n",
      "Epoch 41, loss: 4.665481,  validation RMSE: 9.64339\n",
      "Epoch 42, loss: 4.6621766,  validation RMSE: 9.639524\n",
      "Epoch 43, loss: 4.658986,  validation RMSE: 9.636407\n",
      "Epoch 44, loss: 4.655683,  validation RMSE: 9.633139\n",
      "Epoch 45, loss: 4.6527114,  validation RMSE: 9.631485\n",
      "Epoch 46, loss: 4.6501613,  validation RMSE: 9.6286545\n",
      "Epoch 47, loss: 4.6474643,  validation RMSE: 9.626617\n",
      "Epoch 48, loss: 4.645086,  validation RMSE: 9.624035\n",
      "Epoch 49, loss: 4.6427298,  validation RMSE: 9.622015\n",
      "Epoch 50, loss: 4.6404166,  validation RMSE: 9.620515\n",
      "Epoch 51, loss: 4.638232,  validation RMSE: 9.618631\n",
      "Epoch 52, loss: 4.6361194,  validation RMSE: 9.616581\n",
      "Epoch 53, loss: 4.634291,  validation RMSE: 9.614346\n",
      "Epoch 54, loss: 4.6323333,  validation RMSE: 9.611813\n",
      "Epoch 55, loss: 4.630632,  validation RMSE: 9.6099205\n",
      "Epoch 56, loss: 4.6288967,  validation RMSE: 9.608823\n",
      "Epoch 57, loss: 4.6272774,  validation RMSE: 9.607698\n",
      "Epoch 58, loss: 4.625792,  validation RMSE: 9.606296\n",
      "Epoch 59, loss: 4.6243186,  validation RMSE: 9.605611\n",
      "Epoch 60, loss: 4.6228833,  validation RMSE: 9.603631\n",
      "Epoch 61, loss: 4.62149,  validation RMSE: 9.602676\n",
      "Epoch 62, loss: 4.6203847,  validation RMSE: 9.601732\n",
      "Epoch 63, loss: 4.619144,  validation RMSE: 9.600642\n",
      "Epoch 64, loss: 4.6178627,  validation RMSE: 9.600075\n",
      "Epoch 65, loss: 4.616853,  validation RMSE: 9.597941\n",
      "Epoch 66, loss: 4.6156178,  validation RMSE: 9.597023\n",
      "Epoch 67, loss: 4.6147757,  validation RMSE: 9.596288\n",
      "Epoch 68, loss: 4.613734,  validation RMSE: 9.594703\n",
      "Epoch 69, loss: 4.6127753,  validation RMSE: 9.594\n",
      "Epoch 70, loss: 4.6117444,  validation RMSE: 9.592666\n",
      "Epoch 71, loss: 4.6110277,  validation RMSE: 9.592033\n",
      "Epoch 72, loss: 4.610208,  validation RMSE: 9.591438\n",
      "Epoch 73, loss: 4.609411,  validation RMSE: 9.591221\n",
      "Epoch 74, loss: 4.608572,  validation RMSE: 9.590052\n",
      "Epoch 75, loss: 4.607946,  validation RMSE: 9.589481\n",
      "Epoch 76, loss: 4.607169,  validation RMSE: 9.588581\n",
      "Epoch 77, loss: 4.6062713,  validation RMSE: 9.587515\n",
      "Epoch 78, loss: 4.6059294,  validation RMSE: 9.58743\n",
      "Epoch 79, loss: 4.605144,  validation RMSE: 9.586491\n",
      "Epoch 80, loss: 4.604646,  validation RMSE: 9.586171\n",
      "Epoch 81, loss: 4.603997,  validation RMSE: 9.585709\n",
      "Epoch 82, loss: 4.6034584,  validation RMSE: 9.585378\n",
      "Epoch 83, loss: 4.6030493,  validation RMSE: 9.585251\n",
      "Epoch 84, loss: 4.6024127,  validation RMSE: 9.58462\n",
      "Epoch 85, loss: 4.6018014,  validation RMSE: 9.583924\n",
      "Epoch 86, loss: 4.6013064,  validation RMSE: 9.582778\n",
      "Epoch 87, loss: 4.6010404,  validation RMSE: 9.582832\n",
      "Epoch 88, loss: 4.600464,  validation RMSE: 9.582868\n",
      "Epoch 89, loss: 4.5999737,  validation RMSE: 9.582445\n",
      "Epoch 90, loss: 4.599641,  validation RMSE: 9.581981\n",
      "Epoch 91, loss: 4.599232,  validation RMSE: 9.581519\n",
      "Epoch 92, loss: 4.598638,  validation RMSE: 9.580827\n",
      "Epoch 93, loss: 4.5982814,  validation RMSE: 9.581424\n",
      "Epoch 94, loss: 4.597848,  validation RMSE: 9.580018\n",
      "Epoch 95, loss: 4.5975995,  validation RMSE: 9.579623\n",
      "Epoch 96, loss: 4.5973477,  validation RMSE: 9.58007\n",
      "Epoch 97, loss: 4.5970287,  validation RMSE: 9.579934\n",
      "Epoch 98, loss: 4.596474,  validation RMSE: 9.579494\n",
      "Epoch 99, loss: 4.59638,  validation RMSE: 9.578792\n",
      "Epoch 100, loss: 4.596037,  validation RMSE: 9.578793\n",
      "Epoch 101, loss: 4.5957627,  validation RMSE: 9.578474\n",
      "Epoch 102, loss: 4.5952997,  validation RMSE: 9.577821\n",
      "Epoch 103, loss: 4.595286,  validation RMSE: 9.578064\n",
      "Epoch 104, loss: 4.594922,  validation RMSE: 9.577799\n",
      "Epoch 105, loss: 4.594563,  validation RMSE: 9.577261\n",
      "Epoch 106, loss: 4.5945277,  validation RMSE: 9.577293\n",
      "Epoch 107, loss: 4.5941195,  validation RMSE: 9.576898\n",
      "Epoch 108, loss: 4.5937986,  validation RMSE: 9.577254\n",
      "Epoch 109, loss: 4.593611,  validation RMSE: 9.576525\n",
      "Epoch 110, loss: 4.5932426,  validation RMSE: 9.57658\n",
      "Epoch 111, loss: 4.5932784,  validation RMSE: 9.576612\n",
      "Epoch 112, loss: 4.5930457,  validation RMSE: 9.576943\n",
      "Epoch 113, loss: 4.5926456,  validation RMSE: 9.57728\n",
      "Epoch 114, loss: 4.5925493,  validation RMSE: 9.575839\n",
      "Epoch 115, loss: 4.592447,  validation RMSE: 9.575948\n",
      "Epoch 116, loss: 4.592251,  validation RMSE: 9.576161\n",
      "Epoch 117, loss: 4.591926,  validation RMSE: 9.575986\n",
      "Epoch 118, loss: 4.591783,  validation RMSE: 9.576161\n",
      "Epoch 119, loss: 4.5915933,  validation RMSE: 9.575484\n",
      "Epoch 120, loss: 4.591519,  validation RMSE: 9.575202\n",
      "Epoch 121, loss: 4.590949,  validation RMSE: 9.576524\n",
      "Epoch 122, loss: 4.591234,  validation RMSE: 9.576273\n",
      "Epoch 123, loss: 4.5910935,  validation RMSE: 9.575703\n",
      "Epoch 124, loss: 4.590705,  validation RMSE: 9.574469\n",
      "Epoch 125, loss: 4.5905576,  validation RMSE: 9.57394\n",
      "Epoch 126, loss: 4.5904655,  validation RMSE: 9.574455\n",
      "Epoch 127, loss: 4.590441,  validation RMSE: 9.57423\n",
      "Epoch 128, loss: 4.5901856,  validation RMSE: 9.574027\n",
      "Epoch 129, loss: 4.590129,  validation RMSE: 9.574044\n",
      "Epoch 130, loss: 4.5898747,  validation RMSE: 9.573947\n",
      "Epoch 131, loss: 4.589824,  validation RMSE: 9.574011\n",
      "Epoch 132, loss: 4.589651,  validation RMSE: 9.573896\n",
      "Epoch 133, loss: 4.589519,  validation RMSE: 9.573976\n",
      "Epoch 134, loss: 4.589177,  validation RMSE: 9.573052\n",
      "Epoch 135, loss: 4.589154,  validation RMSE: 9.5741205\n",
      "Epoch 136, loss: 4.589233,  validation RMSE: 9.573485\n",
      "Epoch 137, loss: 4.589081,  validation RMSE: 9.572641\n",
      "Epoch 138, loss: 4.588987,  validation RMSE: 9.572774\n",
      "Epoch 139, loss: 4.5886607,  validation RMSE: 9.573645\n",
      "Epoch 140, loss: 4.5887794,  validation RMSE: 9.573557\n",
      "Epoch 141, loss: 4.5886493,  validation RMSE: 9.573346\n",
      "Epoch 142, loss: 4.588607,  validation RMSE: 9.5734215\n",
      "Epoch 143, loss: 4.58817,  validation RMSE: 9.572762\n",
      "Epoch 144, loss: 4.5882,  validation RMSE: 9.573039\n",
      "Epoch 145, loss: 4.58822,  validation RMSE: 9.573356\n",
      "Epoch 146, loss: 4.5880675,  validation RMSE: 9.572654\n",
      "Epoch 147, loss: 4.587969,  validation RMSE: 9.573065\n",
      "Epoch 148, loss: 4.587874,  validation RMSE: 9.572032\n",
      "Epoch 149, loss: 4.587859,  validation RMSE: 9.572052\n",
      "Epoch 150, loss: 4.5877557,  validation RMSE: 9.57254\n",
      "Epoch 151, loss: 4.587587,  validation RMSE: 9.572107\n",
      "Epoch 152, loss: 4.5876713,  validation RMSE: 9.572325\n",
      "Epoch 153, loss: 4.587635,  validation RMSE: 9.5727625\n"
     ]
    },
    {
     "name": "stdout",
     "output_type": "stream",
     "text": [
      "Epoch 154, loss: 4.5874596,  validation RMSE: 9.57223\n",
      "Epoch 155, loss: 4.5873384,  validation RMSE: 9.571873\n",
      "Epoch 156, loss: 4.587265,  validation RMSE: 9.571625\n",
      "Epoch 157, loss: 4.587235,  validation RMSE: 9.57209\n",
      "Epoch 158, loss: 4.5868115,  validation RMSE: 9.573352\n",
      "Epoch 159, loss: 4.5871487,  validation RMSE: 9.572937\n",
      "Epoch 160, loss: 4.5870314,  validation RMSE: 9.572575\n",
      "Epoch 161, loss: 4.5869193,  validation RMSE: 9.572675\n",
      "Epoch 162, loss: 4.586725,  validation RMSE: 9.571701\n",
      "Epoch 163, loss: 4.5866747,  validation RMSE: 9.572713\n",
      "Epoch 164, loss: 4.5867248,  validation RMSE: 9.572405\n",
      "Epoch 165, loss: 4.586576,  validation RMSE: 9.572691\n",
      "Epoch 166, loss: 4.586483,  validation RMSE: 9.571532\n",
      "Epoch 167, loss: 4.5865235,  validation RMSE: 9.571951\n",
      "Epoch 168, loss: 4.5863748,  validation RMSE: 9.571764\n",
      "Epoch 169, loss: 4.586459,  validation RMSE: 9.571915\n",
      "Epoch 170, loss: 4.5864377,  validation RMSE: 9.571674\n",
      "Epoch 171, loss: 4.5863485,  validation RMSE: 9.571593\n",
      "Epoch 172, loss: 4.5861673,  validation RMSE: 9.572279\n",
      "Epoch 173, loss: 4.5861793,  validation RMSE: 9.5723715\n",
      "Epoch 174, loss: 4.5861506,  validation RMSE: 9.572005\n",
      "Epoch 175, loss: 4.5860524,  validation RMSE: 9.571224\n",
      "Epoch 176, loss: 4.5858026,  validation RMSE: 9.570934\n",
      "Epoch 177, loss: 4.5858345,  validation RMSE: 9.570712\n",
      "Epoch 178, loss: 4.5859456,  validation RMSE: 9.571142\n",
      "Epoch 179, loss: 4.585865,  validation RMSE: 9.571872\n",
      "Epoch 180, loss: 4.585823,  validation RMSE: 9.571708\n",
      "Epoch 181, loss: 4.5857,  validation RMSE: 9.571397\n",
      "Epoch 182, loss: 4.585741,  validation RMSE: 9.571433\n",
      "Epoch 183, loss: 4.5852566,  validation RMSE: 9.570663\n",
      "Epoch 184, loss: 4.58575,  validation RMSE: 9.571238\n",
      "Epoch 185, loss: 4.58542,  validation RMSE: 9.571988\n",
      "Epoch 186, loss: 4.5854826,  validation RMSE: 9.572562\n"
     ]
    }
   ],
   "source": [
    "for e in range(epochs):\n",
    "    cumulative_loss = 0\n",
    "    # inner loop\n",
    "    for i, (data, label) in enumerate(train_data):\n",
    "        data = data.as_in_context(model_ctx)\n",
    "        label = label.as_in_context(model_ctx)\n",
    "        with autograd.record():\n",
    "            output = net(data)\n",
    "            loss = square_loss(output, label)\n",
    "        loss.backward()\n",
    "        trainer.step(batch_size)\n",
    "        cumulative_loss += np.mean(loss)\n",
    "        \n",
    "    pre=net(validation_x)\n",
    "    pre=pre.reshape(-1,)\n",
    "    v_RMSE=RMSE(validation_y_demean,pre)\n",
    "    validation_RMSE.append(v_RMSE)\n",
    "    print(\"Epoch %s, loss: %s,  validation RMSE: %s\" % (e+1, cumulative_loss / num_examples,v_RMSE))\n",
    "    loss_sequence.append(cumulative_loss)\n",
    "    \n",
    "    if len(validation_RMSE)>50:\n",
    "        if ( float(validation_RMSE[-50]) - float(validation_RMSE[-1])) <=0.001:\n",
    "            break #early stop"
   ]
  },
  {
   "cell_type": "code",
   "execution_count": 41,
   "metadata": {},
   "outputs": [
    {
     "data": {
      "text/plain": [
       "[array(58319.305),\n",
       " array(55991.273),\n",
       " array(54503.254),\n",
       " array(53425.58),\n",
       " array(52595.69),\n",
       " array(51931.44),\n",
       " array(51376.74),\n",
       " array(50907.582),\n",
       " array(50505.77),\n",
       " array(50155.38),\n",
       " array(49845.49),\n",
       " array(49570.27),\n",
       " array(49322.426),\n",
       " array(49100.586),\n",
       " array(48898.516),\n",
       " array(48713.324),\n",
       " array(48543.96),\n",
       " array(48388.277),\n",
       " array(48244.203),\n",
       " array(48112.23),\n",
       " array(47989.383),\n",
       " array(47874.605),\n",
       " array(47767.695),\n",
       " array(47666.305),\n",
       " array(47572.605),\n",
       " array(47486.53),\n",
       " array(47405.19),\n",
       " array(47328.88),\n",
       " array(47256.22),\n",
       " array(47188.582),\n",
       " array(47123.125),\n",
       " array(47064.613),\n",
       " array(47008.906),\n",
       " array(46954.81),\n",
       " array(46904.25),\n",
       " array(46856.62),\n",
       " array(46812.934),\n",
       " array(46769.617),\n",
       " array(46729.73),\n",
       " array(46692.188),\n",
       " array(46654.812),\n",
       " array(46621.766),\n",
       " array(46589.86),\n",
       " array(46556.832),\n",
       " array(46527.113),\n",
       " array(46501.613),\n",
       " array(46474.645),\n",
       " array(46450.86),\n",
       " array(46427.297),\n",
       " array(46404.164),\n",
       " array(46382.324),\n",
       " array(46361.195),\n",
       " array(46342.91),\n",
       " array(46323.332),\n",
       " array(46306.32),\n",
       " array(46288.965),\n",
       " array(46272.773),\n",
       " array(46257.918),\n",
       " array(46243.188),\n",
       " array(46228.832),\n",
       " array(46214.9),\n",
       " array(46203.848),\n",
       " array(46191.44),\n",
       " array(46178.625),\n",
       " array(46168.53),\n",
       " array(46156.18),\n",
       " array(46147.758),\n",
       " array(46137.336),\n",
       " array(46127.754),\n",
       " array(46117.445),\n",
       " array(46110.277),\n",
       " array(46102.08),\n",
       " array(46094.105),\n",
       " array(46085.72),\n",
       " array(46079.457),\n",
       " array(46071.69),\n",
       " array(46062.71),\n",
       " array(46059.293),\n",
       " array(46051.44),\n",
       " array(46046.46),\n",
       " array(46039.973),\n",
       " array(46034.582),\n",
       " array(46030.492),\n",
       " array(46024.125),\n",
       " array(46018.016),\n",
       " array(46013.066),\n",
       " array(46010.402),\n",
       " array(46004.637),\n",
       " array(45999.74),\n",
       " array(45996.406),\n",
       " array(45992.324),\n",
       " array(45986.38),\n",
       " array(45982.812),\n",
       " array(45978.48),\n",
       " array(45975.996),\n",
       " array(45973.477),\n",
       " array(45970.285),\n",
       " array(45964.742),\n",
       " array(45963.8),\n",
       " array(45960.367),\n",
       " array(45957.625),\n",
       " array(45952.996),\n",
       " array(45952.86),\n",
       " array(45949.22),\n",
       " array(45945.63),\n",
       " array(45945.277),\n",
       " array(45941.195),\n",
       " array(45937.984),\n",
       " array(45936.11),\n",
       " array(45932.426),\n",
       " array(45932.785),\n",
       " array(45930.457),\n",
       " array(45926.457),\n",
       " array(45925.492),\n",
       " array(45924.47),\n",
       " array(45922.508),\n",
       " array(45919.26),\n",
       " array(45917.832),\n",
       " array(45915.934),\n",
       " array(45915.188),\n",
       " array(45909.492),\n",
       " array(45912.34),\n",
       " array(45910.938),\n",
       " array(45907.05),\n",
       " array(45905.58),\n",
       " array(45904.656),\n",
       " array(45904.41),\n",
       " array(45901.855),\n",
       " array(45901.29),\n",
       " array(45898.746),\n",
       " array(45898.242),\n",
       " array(45896.51),\n",
       " array(45895.19),\n",
       " array(45891.773),\n",
       " array(45891.54),\n",
       " array(45892.33),\n",
       " array(45890.81),\n",
       " array(45889.87),\n",
       " array(45886.61),\n",
       " array(45887.793),\n",
       " array(45886.492),\n",
       " array(45886.07),\n",
       " array(45881.7),\n",
       " array(45882.),\n",
       " array(45882.203),\n",
       " array(45880.676),\n",
       " array(45879.688),\n",
       " array(45878.74),\n",
       " array(45878.594),\n",
       " array(45877.555),\n",
       " array(45875.87),\n",
       " array(45876.715),\n",
       " array(45876.35),\n",
       " array(45874.598),\n",
       " array(45873.383),\n",
       " array(45872.65),\n",
       " array(45872.348),\n",
       " array(45868.117),\n",
       " array(45871.484),\n",
       " array(45870.312),\n",
       " array(45869.19),\n",
       " array(45867.254),\n",
       " array(45866.746),\n",
       " array(45867.246),\n",
       " array(45865.76),\n",
       " array(45864.832),\n",
       " array(45865.234),\n",
       " array(45863.746),\n",
       " array(45864.594),\n",
       " array(45864.375),\n",
       " array(45863.484),\n",
       " array(45861.67),\n",
       " array(45861.793),\n",
       " array(45861.508),\n",
       " array(45860.523),\n",
       " array(45858.023),\n",
       " array(45858.344),\n",
       " array(45859.457),\n",
       " array(45858.65),\n",
       " array(45858.23),\n",
       " array(45857.),\n",
       " array(45857.41),\n",
       " array(45852.566),\n",
       " array(45857.5),\n",
       " array(45854.203),\n",
       " array(45854.824)]"
      ]
     },
     "execution_count": 41,
     "metadata": {},
     "output_type": "execute_result"
    }
   ],
   "source": [
    "loss_sequence"
   ]
  },
  {
   "cell_type": "code",
   "execution_count": 42,
   "metadata": {},
   "outputs": [
    {
     "data": {
      "text/plain": [
       "Text(0, 0.5, 'average loss')"
      ]
     },
     "execution_count": 42,
     "metadata": {},
     "output_type": "execute_result"
    },
    {
     "data": {
      "image/png": "[encoded data removed]",
      "text/plain": [
       "<Figure size 576x432 with 1 Axes>"
      ]
     },
     "metadata": {
      "needs_background": "light"
     },
     "output_type": "display_data"
    }
   ],
   "source": [
    "# plot the convergence of the estimated loss function\n",
    "plt.figure(num=None,figsize=(8, 6))\n",
    "plt.plot(loss_sequence,label=\"loss\")\n",
    "# Adding some bells and whistles to the plot\n",
    "plt.grid(True, which=\"both\")\n",
    "plt.xlabel('epoch',fontsize=14)\n",
    "plt.ylabel('average loss',fontsize=14)"
   ]
  },
  {
   "cell_type": "code",
   "execution_count": 43,
   "metadata": {},
   "outputs": [
    {
     "data": {
      "text/plain": [
       "Text(0, 0.5, 'validation RMSE')"
      ]
     },
     "execution_count": 43,
     "metadata": {},
     "output_type": "execute_result"
    },
    {
     "data": {
      "image/png": "[encoded data removed]",
      "text/plain": [
       "<Figure size 576x432 with 1 Axes>"
      ]
     },
     "metadata": {
      "needs_background": "light"
     },
     "output_type": "display_data"
    }
   ],
   "source": [
    "# plot the convergence of the validation RMSE\n",
    "plt.figure(num=None,figsize=(8, 6))\n",
    "plt.plot(validation_RMSE,c=\"red\",label=\"validation RMSE\")\n",
    "# Adding some bells and whistles to the plot\n",
    "plt.grid(True, which=\"both\")\n",
    "plt.xlabel('epoch',fontsize=14)\n",
    "plt.ylabel('validation RMSE',fontsize=14)"
   ]
  },
  {
   "cell_type": "code",
   "execution_count": 44,
   "metadata": {},
   "outputs": [
    {
     "name": "stdout",
     "output_type": "stream",
     "text": [
      "The type of \"params\" is a  <class 'mxnet.gluon.parameter.ParameterDict'>\n",
      "dense0_weight [[ 4.850594   -2.8671236  -1.4075136   0.00540132 -0.36790177 -2.9322195\n",
      "   0.09394313 -0.9050711  -0.6772961   0.11501078 -0.31197333 -0.2854725\n",
      "   0.8918524   0.29775017 -0.7279748   0.6934636   0.2099742   1.01035\n",
      "   0.5476642   0.8383359   0.21209957  0.12135356  1.4632825   0.44640276\n",
      "  -0.2947721   0.1333835   1.0514582   0.12012462  0.20019737 -0.10368352\n",
      "  -0.3374506  -0.26342586 -0.35661408 -0.02962561  0.03944996 -0.6030887\n",
      "   0.01275518  0.20696364  0.3421922  -0.17991193 -0.34384006 -0.20445566\n",
      "   0.01076313  0.08461602 -0.22557841  0.22893818 -0.07466001 -0.5214056\n",
      "  -0.10126784  0.46051025  0.29764435  0.05208644  0.06438173  0.18599986\n",
      "   0.17029755  0.06151357 -0.5574119   0.42075488 -0.11333305  0.09249829\n",
      "  -0.29415864  0.13142295 -0.29766712  0.25515234 -0.6319055   0.09050934\n",
      "  -0.03275031 -0.03853124 -0.38254425 -0.2281652  -0.670923   -0.02716398\n",
      "   0.16738348  0.43621984  0.15315111  0.52828574 -0.1927493  -0.789578\n",
      "  -0.21841405 -0.14907652  0.1072265  -0.11620511  0.1229374   0.09680577\n",
      "   0.47435692 -0.11499312  0.21657133 -0.49226078 -0.19977178 -0.13159487]]\n",
      "dense0_bias [0.04632297]\n"
     ]
    }
   ],
   "source": [
    "params = net.collect_params() # this returns a ParameterDict\n",
    "\n",
    "print('The type of \"params\" is a ',type(params))\n",
    "\n",
    "# A ParameterDict is a dictionary of Parameter class objects\n",
    "# therefore, here is how we can read off the parameters from it.\n",
    "\n",
    "for param in params.values():\n",
    "    print(param.name,param.data())"
   ]
  },
  {
   "cell_type": "code",
   "execution_count": 45,
   "metadata": {},
   "outputs": [
    {
     "data": {
      "text/plain": [
       "Sequential(\n",
       "  (0): Dense(90 -> 1, linear)\n",
       ")"
      ]
     },
     "execution_count": 45,
     "metadata": {},
     "output_type": "execute_result"
    }
   ],
   "source": [
    "net"
   ]
  },
  {
   "cell_type": "code",
   "execution_count": 46,
   "metadata": {},
   "outputs": [],
   "source": [
    "pre2=net(X_test_standard)"
   ]
  },
  {
   "cell_type": "code",
   "execution_count": 47,
   "metadata": {},
   "outputs": [],
   "source": [
    "pre2=pre2.reshape(-1,)"
   ]
  },
  {
   "cell_type": "code",
   "execution_count": 48,
   "metadata": {},
   "outputs": [
    {
     "data": {
      "text/plain": [
       "(51630,)"
      ]
     },
     "execution_count": 48,
     "metadata": {},
     "output_type": "execute_result"
    }
   ],
   "source": [
    "pre2.shape"
   ]
  },
  {
   "cell_type": "code",
   "execution_count": 49,
   "metadata": {},
   "outputs": [
    {
     "data": {
      "text/plain": [
       "(51630,)"
      ]
     },
     "execution_count": 49,
     "metadata": {},
     "output_type": "execute_result"
    }
   ],
   "source": [
    "Y_test.shape"
   ]
  },
  {
   "cell_type": "code",
   "execution_count": 50,
   "metadata": {},
   "outputs": [
    {
     "name": "stdout",
     "output_type": "stream",
     "text": [
      "9.549119\n"
     ]
    }
   ],
   "source": [
    "#印出RMSE\n",
    "RMSE2=RMSE(test_y_demean,pre2)\n",
    "print(RMSE2)"
   ]
  },
  {
   "cell_type": "markdown",
   "metadata": {},
   "source": [
    "### MLP_1_dm\t"
   ]
  },
  {
   "cell_type": "code",
   "execution_count": 51,
   "metadata": {},
   "outputs": [],
   "source": [
    "net = nn.Sequential()\n",
    "net.add(nn.Dense(45, activation='relu'),\n",
    "        nn.Dense(1))\n",
    "net.initialize(init.Normal(sigma=0.01))"
   ]
  },
  {
   "cell_type": "code",
   "execution_count": 52,
   "metadata": {},
   "outputs": [
    {
     "data": {
      "text/plain": [
       "sequential1_ (\n",
       "  Parameter dense1_weight (shape=(45, -1), dtype=float32)\n",
       "  Parameter dense1_bias (shape=(45,), dtype=float32)\n",
       "  Parameter dense2_weight (shape=(1, -1), dtype=float32)\n",
       "  Parameter dense2_bias (shape=(1,), dtype=float32)\n",
       ")"
      ]
     },
     "execution_count": 52,
     "metadata": {},
     "output_type": "execute_result"
    }
   ],
   "source": [
    "net.collect_params()"
   ]
  },
  {
   "cell_type": "code",
   "execution_count": 53,
   "metadata": {},
   "outputs": [],
   "source": [
    "square_loss = gluon.loss.L2Loss()\n",
    "trainer = gluon.Trainer(net.collect_params(), 'sgd', {'learning_rate': 0.0001})\n",
    "num_examples = 10000"
   ]
  },
  {
   "cell_type": "code",
   "execution_count": 54,
   "metadata": {},
   "outputs": [],
   "source": [
    "epochs = 3000\n",
    "loss_sequence = []\n",
    "num_batches = num_examples / batch_size\n",
    "validation_RMSE=[]"
   ]
  },
  {
   "cell_type": "code",
   "execution_count": 55,
   "metadata": {},
   "outputs": [
    {
     "name": "stdout",
     "output_type": "stream",
     "text": [
      "Epoch 1, loss: 5.982077,  validation RMSE: 10.920558\n",
      "Epoch 2, loss: 5.980888,  validation RMSE: 10.919212\n",
      "Epoch 3, loss: 5.9790244,  validation RMSE: 10.916887\n",
      "Epoch 4, loss: 5.9756155,  validation RMSE: 10.912534\n",
      "Epoch 5, loss: 5.969158,  validation RMSE: 10.904177\n",
      "Epoch 6, loss: 5.956708,  validation RMSE: 10.888115\n",
      "Epoch 7, loss: 5.932967,  validation RMSE: 10.857829\n",
      "Epoch 8, loss: 5.889707,  validation RMSE: 10.804256\n",
      "Epoch 9, loss: 5.8170037,  validation RMSE: 10.718113\n",
      "Epoch 10, loss: 5.708539,  validation RMSE: 10.596571\n",
      "Epoch 11, loss: 5.567174,  validation RMSE: 10.445756\n",
      "Epoch 12, loss: 5.400472,  validation RMSE: 10.271833\n",
      "Epoch 13, loss: 5.2176614,  validation RMSE: 10.08737\n",
      "Epoch 14, loss: 5.034131,  validation RMSE: 9.913194\n",
      "Epoch 15, loss: 4.868729,  validation RMSE: 9.75867\n",
      "Epoch 16, loss: 4.7293806,  validation RMSE: 9.638023\n",
      "Epoch 17, loss: 4.6184826,  validation RMSE: 9.542246\n",
      "Epoch 18, loss: 4.530657,  validation RMSE: 9.471058\n",
      "Epoch 19, loss: 4.4629216,  validation RMSE: 9.418174\n",
      "Epoch 20, loss: 4.410921,  validation RMSE: 9.3772\n",
      "Epoch 21, loss: 4.368779,  validation RMSE: 9.34325\n",
      "Epoch 22, loss: 4.3350687,  validation RMSE: 9.319537\n",
      "Epoch 23, loss: 4.3064184,  validation RMSE: 9.305039\n",
      "Epoch 24, loss: 4.2864404,  validation RMSE: 9.287779\n",
      "Epoch 25, loss: 4.2683268,  validation RMSE: 9.277716\n",
      "Epoch 26, loss: 4.252321,  validation RMSE: 9.270788\n",
      "Epoch 27, loss: 4.2380877,  validation RMSE: 9.25409\n",
      "Epoch 28, loss: 4.2265096,  validation RMSE: 9.248555\n",
      "Epoch 29, loss: 4.2148304,  validation RMSE: 9.244472\n",
      "Epoch 30, loss: 4.204489,  validation RMSE: 9.239021\n",
      "Epoch 31, loss: 4.1938457,  validation RMSE: 9.233701\n",
      "Epoch 32, loss: 4.182376,  validation RMSE: 9.232143\n",
      "Epoch 33, loss: 4.171111,  validation RMSE: 9.229176\n",
      "Epoch 34, loss: 4.164724,  validation RMSE: 9.217692\n",
      "Epoch 35, loss: 4.155178,  validation RMSE: 9.216748\n",
      "Epoch 36, loss: 4.143895,  validation RMSE: 9.2106285\n",
      "Epoch 37, loss: 4.1344924,  validation RMSE: 9.213326\n",
      "Epoch 38, loss: 4.126289,  validation RMSE: 9.204354\n",
      "Epoch 39, loss: 4.1175947,  validation RMSE: 9.206414\n",
      "Epoch 40, loss: 4.108174,  validation RMSE: 9.202313\n",
      "Epoch 41, loss: 4.1009507,  validation RMSE: 9.195421\n",
      "Epoch 42, loss: 4.093468,  validation RMSE: 9.198271\n",
      "Epoch 43, loss: 4.0841756,  validation RMSE: 9.192178\n",
      "Epoch 44, loss: 4.0761147,  validation RMSE: 9.191693\n",
      "Epoch 45, loss: 4.0683346,  validation RMSE: 9.191127\n",
      "Epoch 46, loss: 4.0607905,  validation RMSE: 9.187018\n",
      "Epoch 47, loss: 4.0520325,  validation RMSE: 9.192204\n",
      "Epoch 48, loss: 4.044627,  validation RMSE: 9.183577\n",
      "Epoch 49, loss: 4.035741,  validation RMSE: 9.184952\n",
      "Epoch 50, loss: 4.029495,  validation RMSE: 9.183313\n",
      "Epoch 51, loss: 4.020794,  validation RMSE: 9.181615\n",
      "Epoch 52, loss: 4.0110984,  validation RMSE: 9.183085\n",
      "Epoch 53, loss: 4.006703,  validation RMSE: 9.178401\n",
      "Epoch 54, loss: 3.9959476,  validation RMSE: 9.182948\n",
      "Epoch 55, loss: 3.9905148,  validation RMSE: 9.176491\n",
      "Epoch 56, loss: 3.9802926,  validation RMSE: 9.176334\n",
      "Epoch 57, loss: 3.9737418,  validation RMSE: 9.175523\n",
      "Epoch 58, loss: 3.9663293,  validation RMSE: 9.177187\n",
      "Epoch 59, loss: 3.9581013,  validation RMSE: 9.180605\n",
      "Epoch 60, loss: 3.9497433,  validation RMSE: 9.177818\n",
      "Epoch 61, loss: 3.9395988,  validation RMSE: 9.173284\n",
      "Epoch 62, loss: 3.932025,  validation RMSE: 9.171182\n",
      "Epoch 63, loss: 3.9246902,  validation RMSE: 9.17178\n",
      "Epoch 64, loss: 3.9158812,  validation RMSE: 9.176245\n",
      "Epoch 65, loss: 3.9061399,  validation RMSE: 9.171849\n",
      "Epoch 66, loss: 3.8992715,  validation RMSE: 9.170389\n",
      "Epoch 67, loss: 3.8916063,  validation RMSE: 9.169633\n",
      "Epoch 68, loss: 3.8819993,  validation RMSE: 9.173693\n",
      "Epoch 69, loss: 3.8741024,  validation RMSE: 9.16985\n",
      "Epoch 70, loss: 3.8644574,  validation RMSE: 9.174073\n",
      "Epoch 71, loss: 3.8582454,  validation RMSE: 9.172804\n",
      "Epoch 72, loss: 3.8478863,  validation RMSE: 9.171847\n",
      "Epoch 73, loss: 3.8398254,  validation RMSE: 9.172983\n",
      "Epoch 74, loss: 3.8309634,  validation RMSE: 9.17214\n",
      "Epoch 75, loss: 3.8223782,  validation RMSE: 9.172876\n",
      "Epoch 76, loss: 3.8166876,  validation RMSE: 9.17345\n",
      "Epoch 77, loss: 3.8060753,  validation RMSE: 9.176621\n",
      "Epoch 78, loss: 3.797447,  validation RMSE: 9.177533\n",
      "Epoch 79, loss: 3.7893856,  validation RMSE: 9.183857\n",
      "Epoch 80, loss: 3.7803292,  validation RMSE: 9.177342\n",
      "Epoch 81, loss: 3.7724402,  validation RMSE: 9.188472\n",
      "Epoch 82, loss: 3.763137,  validation RMSE: 9.19011\n",
      "Epoch 83, loss: 3.7573066,  validation RMSE: 9.18388\n",
      "Epoch 84, loss: 3.745743,  validation RMSE: 9.1811285\n",
      "Epoch 85, loss: 3.736861,  validation RMSE: 9.19541\n",
      "Epoch 86, loss: 3.7317383,  validation RMSE: 9.193238\n",
      "Epoch 87, loss: 3.722143,  validation RMSE: 9.1934595\n",
      "Epoch 88, loss: 3.7138739,  validation RMSE: 9.190159\n",
      "Epoch 89, loss: 3.7064097,  validation RMSE: 9.193049\n",
      "Epoch 90, loss: 3.6942449,  validation RMSE: 9.194034\n",
      "Epoch 91, loss: 3.68815,  validation RMSE: 9.200896\n"
     ]
    }
   ],
   "source": [
    "for e in range(epochs):\n",
    "    cumulative_loss = 0\n",
    "    # inner loop\n",
    "    for i, (data, label) in enumerate(train_data):\n",
    "        data = data.as_in_context(model_ctx)\n",
    "        label = label.as_in_context(model_ctx)\n",
    "        with autograd.record():\n",
    "            output = net(data)\n",
    "            loss = square_loss(output, label)\n",
    "        loss.backward()\n",
    "        trainer.step(batch_size)\n",
    "        cumulative_loss += np.mean(loss)\n",
    "        \n",
    "    pre=net(validation_x)\n",
    "    pre=pre.reshape(-1,)\n",
    "    v_RMSE=RMSE(validation_y_demean,pre)\n",
    "    validation_RMSE.append(v_RMSE)\n",
    "    print(\"Epoch %s, loss: %s,  validation RMSE: %s\" % (e+1, cumulative_loss / num_examples,v_RMSE))\n",
    "    loss_sequence.append(cumulative_loss)\n",
    "    \n",
    "    if len(validation_RMSE)>50:\n",
    "        if ( float(validation_RMSE[-50]) - float(validation_RMSE[-1])) <=0.001:\n",
    "            break #early stop"
   ]
  },
  {
   "cell_type": "code",
   "execution_count": 56,
   "metadata": {},
   "outputs": [
    {
     "data": {
      "text/plain": [
       "Text(0, 0.5, 'average loss')"
      ]
     },
     "execution_count": 56,
     "metadata": {},
     "output_type": "execute_result"
    },
    {
     "data": {
      "image/png": "[encoded data removed]",
      "text/plain": [
       "<Figure size 576x432 with 1 Axes>"
      ]
     },
     "metadata": {
      "needs_background": "light"
     },
     "output_type": "display_data"
    }
   ],
   "source": [
    "# plot the convergence of the estimated loss function\n",
    "plt.figure(num=None,figsize=(8, 6))\n",
    "plt.plot(loss_sequence,label=\"loss\")\n",
    "# Adding some bells and whistles to the plot\n",
    "plt.grid(True, which=\"both\")\n",
    "plt.xlabel('epoch',fontsize=14)\n",
    "plt.ylabel('average loss',fontsize=14)"
   ]
  },
  {
   "cell_type": "code",
   "execution_count": 57,
   "metadata": {},
   "outputs": [
    {
     "data": {
      "text/plain": [
       "Text(0, 0.5, 'validation RMSE')"
      ]
     },
     "execution_count": 57,
     "metadata": {},
     "output_type": "execute_result"
    },
    {
     "data": {
      "image/png": "[encoded data removed]",
      "text/plain": [
       "<Figure size 576x432 with 1 Axes>"
      ]
     },
     "metadata": {
      "needs_background": "light"
     },
     "output_type": "display_data"
    }
   ],
   "source": [
    "# plot the convergence of the validation RMSE\n",
    "plt.figure(num=None,figsize=(8, 6))\n",
    "plt.plot(validation_RMSE,c=\"red\",label=\"validation RMSE\")\n",
    "# Adding some bells and whistles to the plot\n",
    "plt.grid(True, which=\"both\")\n",
    "plt.xlabel('epoch',fontsize=14)\n",
    "plt.ylabel('validation RMSE',fontsize=14)"
   ]
  },
  {
   "cell_type": "code",
   "execution_count": 58,
   "metadata": {},
   "outputs": [
    {
     "data": {
      "text/plain": [
       "Sequential(\n",
       "  (0): Dense(90 -> 45, Activation(relu))\n",
       "  (1): Dense(45 -> 1, linear)\n",
       ")"
      ]
     },
     "execution_count": 58,
     "metadata": {},
     "output_type": "execute_result"
    }
   ],
   "source": [
    "net"
   ]
  },
  {
   "cell_type": "code",
   "execution_count": 59,
   "metadata": {},
   "outputs": [],
   "source": [
    "pre3=net(X_test_standard)\n",
    "pre3=pre3.reshape(-1,)"
   ]
  },
  {
   "cell_type": "code",
   "execution_count": 60,
   "metadata": {},
   "outputs": [
    {
     "name": "stdout",
     "output_type": "stream",
     "text": [
      "9.242959\n"
     ]
    }
   ],
   "source": [
    "#印出RMSE\n",
    "RMSE3=RMSE(test_y_demean,pre3)\n",
    "print(RMSE3)"
   ]
  },
  {
   "cell_type": "markdown",
   "metadata": {},
   "source": [
    "### MLP_2_dm"
   ]
  },
  {
   "cell_type": "code",
   "execution_count": 61,
   "metadata": {},
   "outputs": [],
   "source": [
    "net = nn.Sequential()\n",
    "net.add(nn.Dense(45, activation='relu'),nn.Dense(45, activation='relu'),\n",
    "        nn.Dense(1))\n",
    "net.initialize(init.Normal(sigma=0.01))"
   ]
  },
  {
   "cell_type": "code",
   "execution_count": 62,
   "metadata": {},
   "outputs": [
    {
     "data": {
      "text/plain": [
       "sequential2_ (\n",
       "  Parameter dense3_weight (shape=(45, -1), dtype=float32)\n",
       "  Parameter dense3_bias (shape=(45,), dtype=float32)\n",
       "  Parameter dense4_weight (shape=(45, -1), dtype=float32)\n",
       "  Parameter dense4_bias (shape=(45,), dtype=float32)\n",
       "  Parameter dense5_weight (shape=(1, -1), dtype=float32)\n",
       "  Parameter dense5_bias (shape=(1,), dtype=float32)\n",
       ")"
      ]
     },
     "execution_count": 62,
     "metadata": {},
     "output_type": "execute_result"
    }
   ],
   "source": [
    "net.collect_params()"
   ]
  },
  {
   "cell_type": "code",
   "execution_count": 63,
   "metadata": {},
   "outputs": [],
   "source": [
    "square_loss = gluon.loss.L2Loss()\n",
    "trainer = gluon.Trainer(net.collect_params(), 'sgd', {'learning_rate': 0.0001})\n",
    "num_examples = 10000"
   ]
  },
  {
   "cell_type": "code",
   "execution_count": 64,
   "metadata": {},
   "outputs": [],
   "source": [
    "epochs = 3000\n",
    "loss_sequence = []\n",
    "num_batches = num_examples / batch_size\n",
    "validation_RMSE=[]"
   ]
  },
  {
   "cell_type": "code",
   "execution_count": 65,
   "metadata": {},
   "outputs": [
    {
     "name": "stdout",
     "output_type": "stream",
     "text": [
      "Epoch 1, loss: 5.982506,  validation RMSE: 10.921444\n",
      "Epoch 2, loss: 5.9824915,  validation RMSE: 10.921435\n",
      "Epoch 3, loss: 5.9824924,  validation RMSE: 10.921427\n",
      "Epoch 4, loss: 5.9824753,  validation RMSE: 10.921418\n",
      "Epoch 5, loss: 5.9824715,  validation RMSE: 10.92141\n",
      "Epoch 6, loss: 5.9824624,  validation RMSE: 10.9214\n",
      "Epoch 7, loss: 5.982454,  validation RMSE: 10.9213915\n",
      "Epoch 8, loss: 5.9824376,  validation RMSE: 10.921384\n",
      "Epoch 9, loss: 5.982429,  validation RMSE: 10.921375\n",
      "Epoch 10, loss: 5.982422,  validation RMSE: 10.921367\n",
      "Epoch 11, loss: 5.9824142,  validation RMSE: 10.921357\n",
      "Epoch 12, loss: 5.982404,  validation RMSE: 10.921347\n",
      "Epoch 13, loss: 5.982392,  validation RMSE: 10.921336\n",
      "Epoch 14, loss: 5.982373,  validation RMSE: 10.921323\n",
      "Epoch 15, loss: 5.982366,  validation RMSE: 10.921309\n",
      "Epoch 16, loss: 5.9823513,  validation RMSE: 10.921295\n",
      "Epoch 17, loss: 5.9823246,  validation RMSE: 10.921278\n",
      "Epoch 18, loss: 5.982307,  validation RMSE: 10.92126\n",
      "Epoch 19, loss: 5.9822927,  validation RMSE: 10.92124\n",
      "Epoch 20, loss: 5.982272,  validation RMSE: 10.921217\n",
      "Epoch 21, loss: 5.9822435,  validation RMSE: 10.921192\n",
      "Epoch 22, loss: 5.982221,  validation RMSE: 10.921164\n",
      "Epoch 23, loss: 5.982189,  validation RMSE: 10.92113\n",
      "Epoch 24, loss: 5.9821463,  validation RMSE: 10.921093\n",
      "Epoch 25, loss: 5.982112,  validation RMSE: 10.92105\n",
      "Epoch 26, loss: 5.9820633,  validation RMSE: 10.921001\n",
      "Epoch 27, loss: 5.9819937,  validation RMSE: 10.920945\n",
      "Epoch 28, loss: 5.981928,  validation RMSE: 10.920879\n",
      "Epoch 29, loss: 5.981856,  validation RMSE: 10.920801\n",
      "Epoch 30, loss: 5.981768,  validation RMSE: 10.920711\n",
      "Epoch 31, loss: 5.981669,  validation RMSE: 10.920603\n",
      "Epoch 32, loss: 5.9815454,  validation RMSE: 10.920475\n",
      "Epoch 33, loss: 5.981388,  validation RMSE: 10.92032\n",
      "Epoch 34, loss: 5.9812107,  validation RMSE: 10.920133\n",
      "Epoch 35, loss: 5.9809875,  validation RMSE: 10.919904\n",
      "Epoch 36, loss: 5.980722,  validation RMSE: 10.91962\n",
      "Epoch 37, loss: 5.9803805,  validation RMSE: 10.919266\n",
      "Epoch 38, loss: 5.9799666,  validation RMSE: 10.918817\n",
      "Epoch 39, loss: 5.9794183,  validation RMSE: 10.9182415\n",
      "Epoch 40, loss: 5.978724,  validation RMSE: 10.917493\n",
      "Epoch 41, loss: 5.9778085,  validation RMSE: 10.916502\n",
      "Epoch 42, loss: 5.9765906,  validation RMSE: 10.915166\n",
      "Epoch 43, loss: 5.9749126,  validation RMSE: 10.913323\n",
      "Epoch 44, loss: 5.9725904,  validation RMSE: 10.91072\n",
      "Epoch 45, loss: 5.9692526,  validation RMSE: 10.906929\n",
      "Epoch 46, loss: 5.9643135,  validation RMSE: 10.901231\n",
      "Epoch 47, loss: 5.9567337,  validation RMSE: 10.892314\n",
      "Epoch 48, loss: 5.944599,  validation RMSE: 10.877696\n",
      "Epoch 49, loss: 5.924177,  validation RMSE: 10.8524275\n",
      "Epoch 50, loss: 5.8877664,  validation RMSE: 10.80603\n",
      "Epoch 51, loss: 5.8192043,  validation RMSE: 10.716317\n",
      "Epoch 52, loss: 5.6864414,  validation RMSE: 10.541546\n",
      "Epoch 53, loss: 5.4464765,  validation RMSE: 10.245953\n",
      "Epoch 54, loss: 5.1091847,  validation RMSE: 9.89218\n",
      "Epoch 55, loss: 4.7815185,  validation RMSE: 9.601418\n",
      "Epoch 56, loss: 4.5490503,  validation RMSE: 9.4286995\n",
      "Epoch 57, loss: 4.4056683,  validation RMSE: 9.329226\n",
      "Epoch 58, loss: 4.3170967,  validation RMSE: 9.28781\n",
      "Epoch 59, loss: 4.2634735,  validation RMSE: 9.239298\n",
      "Epoch 60, loss: 4.2292514,  validation RMSE: 9.205321\n",
      "Epoch 61, loss: 4.1903324,  validation RMSE: 9.196793\n",
      "Epoch 62, loss: 4.155149,  validation RMSE: 9.205007\n",
      "Epoch 63, loss: 4.1378107,  validation RMSE: 9.173245\n",
      "Epoch 64, loss: 4.1122336,  validation RMSE: 9.163362\n",
      "Epoch 65, loss: 4.0835924,  validation RMSE: 9.150032\n",
      "Epoch 66, loss: 4.059771,  validation RMSE: 9.133842\n",
      "Epoch 67, loss: 4.040344,  validation RMSE: 9.130586\n",
      "Epoch 68, loss: 4.011927,  validation RMSE: 9.125226\n",
      "Epoch 69, loss: 3.9930155,  validation RMSE: 9.127704\n",
      "Epoch 70, loss: 3.9691117,  validation RMSE: 9.113179\n",
      "Epoch 71, loss: 3.9426484,  validation RMSE: 9.124487\n",
      "Epoch 72, loss: 3.9199452,  validation RMSE: 9.113355\n",
      "Epoch 73, loss: 3.8841758,  validation RMSE: 9.113858\n",
      "Epoch 74, loss: 3.8670332,  validation RMSE: 9.098972\n",
      "Epoch 75, loss: 3.8373766,  validation RMSE: 9.110675\n",
      "Epoch 76, loss: 3.819785,  validation RMSE: 9.106257\n",
      "Epoch 77, loss: 3.7852688,  validation RMSE: 9.095513\n",
      "Epoch 78, loss: 3.760153,  validation RMSE: 9.089696\n",
      "Epoch 79, loss: 3.722371,  validation RMSE: 9.1053915\n",
      "Epoch 80, loss: 3.6943898,  validation RMSE: 9.10837\n",
      "Epoch 81, loss: 3.6660988,  validation RMSE: 9.1199665\n",
      "Epoch 82, loss: 3.6416419,  validation RMSE: 9.117533\n",
      "Epoch 83, loss: 3.6099446,  validation RMSE: 9.150535\n",
      "Epoch 84, loss: 3.5780976,  validation RMSE: 9.144719\n",
      "Epoch 85, loss: 3.5560448,  validation RMSE: 9.14897\n"
     ]
    }
   ],
   "source": [
    "for e in range(epochs):\n",
    "    cumulative_loss = 0\n",
    "    # inner loop\n",
    "    for i, (data, label) in enumerate(train_data):\n",
    "        data = data.as_in_context(model_ctx)\n",
    "        label = label.as_in_context(model_ctx)\n",
    "        with autograd.record():\n",
    "            output = net(data)\n",
    "            loss = square_loss(output, label)\n",
    "        loss.backward()\n",
    "        trainer.step(batch_size)\n",
    "        cumulative_loss += np.mean(loss)\n",
    "        \n",
    "    pre=net(validation_x)\n",
    "    pre=pre.reshape(-1,)\n",
    "    v_RMSE=RMSE(validation_y_demean,pre)\n",
    "    validation_RMSE.append(v_RMSE)\n",
    "    print(\"Epoch %s, loss: %s,  validation RMSE: %s\" % (e+1, cumulative_loss / num_examples,v_RMSE))\n",
    "    loss_sequence.append(cumulative_loss)\n",
    "    \n",
    "    if len(validation_RMSE)>50:\n",
    "        if ( float(validation_RMSE[-20]) - float(validation_RMSE[-1])) <=0.001:\n",
    "            break #early stop"
   ]
  },
  {
   "cell_type": "code",
   "execution_count": 66,
   "metadata": {},
   "outputs": [
    {
     "data": {
      "text/plain": [
       "Text(0, 0.5, 'average loss')"
      ]
     },
     "execution_count": 66,
     "metadata": {},
     "output_type": "execute_result"
    },
    {
     "data": {
      "image/png": "[encoded data removed]",
      "text/plain": [
       "<Figure size 576x432 with 1 Axes>"
      ]
     },
     "metadata": {
      "needs_background": "light"
     },
     "output_type": "display_data"
    }
   ],
   "source": [
    "# plot the convergence of the estimated loss function\n",
    "plt.figure(num=None,figsize=(8, 6))\n",
    "plt.plot(loss_sequence,label=\"loss\")\n",
    "# Adding some bells and whistles to the plot\n",
    "plt.grid(True, which=\"both\")\n",
    "plt.xlabel('epoch',fontsize=14)\n",
    "plt.ylabel('average loss',fontsize=14)"
   ]
  },
  {
   "cell_type": "code",
   "execution_count": 67,
   "metadata": {},
   "outputs": [
    {
     "data": {
      "text/plain": [
       "Text(0, 0.5, 'validation RMSE')"
      ]
     },
     "execution_count": 67,
     "metadata": {},
     "output_type": "execute_result"
    },
    {
     "data": {
      "image/png": "[encoded data removed]",
      "text/plain": [
       "<Figure size 576x432 with 1 Axes>"
      ]
     },
     "metadata": {
      "needs_background": "light"
     },
     "output_type": "display_data"
    }
   ],
   "source": [
    "# plot the convergence of the validation RMSE\n",
    "plt.figure(num=None,figsize=(8, 6))\n",
    "plt.plot(validation_RMSE,c=\"red\",label=\"validation RMSE\")\n",
    "# Adding some bells and whistles to the plot\n",
    "plt.grid(True, which=\"both\")\n",
    "plt.xlabel('epoch',fontsize=14)\n",
    "plt.ylabel('validation RMSE',fontsize=14)"
   ]
  },
  {
   "cell_type": "code",
   "execution_count": 68,
   "metadata": {},
   "outputs": [
    {
     "data": {
      "text/plain": [
       "Sequential(\n",
       "  (0): Dense(90 -> 45, Activation(relu))\n",
       "  (1): Dense(45 -> 45, Activation(relu))\n",
       "  (2): Dense(45 -> 1, linear)\n",
       ")"
      ]
     },
     "execution_count": 68,
     "metadata": {},
     "output_type": "execute_result"
    }
   ],
   "source": [
    "net"
   ]
  },
  {
   "cell_type": "code",
   "execution_count": 69,
   "metadata": {},
   "outputs": [],
   "source": [
    "pre4=net(X_test_standard)\n",
    "pre4=pre4.reshape(-1,)"
   ]
  },
  {
   "cell_type": "code",
   "execution_count": 70,
   "metadata": {},
   "outputs": [
    {
     "name": "stdout",
     "output_type": "stream",
     "text": [
      "9.216016\n"
     ]
    }
   ],
   "source": [
    "#印出RMSE\n",
    "RMSE4=RMSE(test_y_demean,pre4)\n",
    "print(RMSE4)"
   ]
  },
  {
   "cell_type": "markdown",
   "metadata": {},
   "source": [
    "### MLP_2_dm_L2"
   ]
  },
  {
   "cell_type": "code",
   "execution_count": 71,
   "metadata": {},
   "outputs": [],
   "source": [
    "net = nn.Sequential()\n",
    "net.add(nn.Dense(45, activation='relu'),nn.Dense(45, activation='relu'),\n",
    "        nn.Dense(1))\n",
    "net.initialize(init.Normal(sigma=0.01))"
   ]
  },
  {
   "cell_type": "code",
   "execution_count": 72,
   "metadata": {},
   "outputs": [
    {
     "data": {
      "text/plain": [
       "sequential3_ (\n",
       "  Parameter dense6_weight (shape=(45, -1), dtype=float32)\n",
       "  Parameter dense6_bias (shape=(45,), dtype=float32)\n",
       "  Parameter dense7_weight (shape=(45, -1), dtype=float32)\n",
       "  Parameter dense7_bias (shape=(45,), dtype=float32)\n",
       "  Parameter dense8_weight (shape=(1, -1), dtype=float32)\n",
       "  Parameter dense8_bias (shape=(1,), dtype=float32)\n",
       ")"
      ]
     },
     "execution_count": 72,
     "metadata": {},
     "output_type": "execute_result"
    }
   ],
   "source": [
    "net.collect_params()"
   ]
  },
  {
   "cell_type": "code",
   "execution_count": 73,
   "metadata": {},
   "outputs": [],
   "source": [
    "wd=0.03"
   ]
  },
  {
   "cell_type": "code",
   "execution_count": 74,
   "metadata": {},
   "outputs": [],
   "source": [
    "square_loss = gluon.loss.L2Loss()\n",
    "trainer = gluon.Trainer(net.collect_params(), 'sgd', {'learning_rate': 0.0001,'wd': wd})\n",
    "num_examples = 10000"
   ]
  },
  {
   "cell_type": "code",
   "execution_count": 75,
   "metadata": {},
   "outputs": [],
   "source": [
    "# The bias parameter has not decayed. Bias names generally end with \"bias\"\n",
    "net.collect_params('.*bias').setattr('wd_mult', 0)"
   ]
  },
  {
   "cell_type": "code",
   "execution_count": 76,
   "metadata": {},
   "outputs": [],
   "source": [
    "epochs = 3000\n",
    "loss_sequence = []\n",
    "num_batches = num_examples / batch_size\n",
    "validation_RMSE=[]"
   ]
  },
  {
   "cell_type": "code",
   "execution_count": 77,
   "metadata": {},
   "outputs": [
    {
     "name": "stdout",
     "output_type": "stream",
     "text": [
      "Epoch 1, loss: 5.98253,  validation RMSE: 10.921464\n",
      "Epoch 2, loss: 5.982518,  validation RMSE: 10.921456\n",
      "Epoch 3, loss: 5.9825153,  validation RMSE: 10.921451\n",
      "Epoch 4, loss: 5.9825025,  validation RMSE: 10.921445\n",
      "Epoch 5, loss: 5.9825063,  validation RMSE: 10.92144\n",
      "Epoch 6, loss: 5.9825006,  validation RMSE: 10.921436\n",
      "Epoch 7, loss: 5.982494,  validation RMSE: 10.9214325\n",
      "Epoch 8, loss: 5.9824924,  validation RMSE: 10.921429\n",
      "Epoch 9, loss: 5.9824862,  validation RMSE: 10.921426\n",
      "Epoch 10, loss: 5.9824867,  validation RMSE: 10.921422\n",
      "Epoch 11, loss: 5.9824834,  validation RMSE: 10.921419\n",
      "Epoch 12, loss: 5.982477,  validation RMSE: 10.921415\n",
      "Epoch 13, loss: 5.982477,  validation RMSE: 10.921412\n",
      "Epoch 14, loss: 5.9824743,  validation RMSE: 10.92141\n",
      "Epoch 15, loss: 5.9824686,  validation RMSE: 10.921407\n",
      "Epoch 16, loss: 5.9824667,  validation RMSE: 10.921404\n",
      "Epoch 17, loss: 5.982464,  validation RMSE: 10.921401\n",
      "Epoch 18, loss: 5.98246,  validation RMSE: 10.921397\n",
      "Epoch 19, loss: 5.9824576,  validation RMSE: 10.921394\n",
      "Epoch 20, loss: 5.982448,  validation RMSE: 10.921391\n",
      "Epoch 21, loss: 5.982442,  validation RMSE: 10.921387\n",
      "Epoch 22, loss: 5.982445,  validation RMSE: 10.921383\n",
      "Epoch 23, loss: 5.982434,  validation RMSE: 10.921378\n",
      "Epoch 24, loss: 5.9824314,  validation RMSE: 10.921373\n",
      "Epoch 25, loss: 5.9824295,  validation RMSE: 10.921369\n",
      "Epoch 26, loss: 5.9824247,  validation RMSE: 10.921364\n",
      "Epoch 27, loss: 5.982421,  validation RMSE: 10.921358\n",
      "Epoch 28, loss: 5.9824123,  validation RMSE: 10.921352\n",
      "Epoch 29, loss: 5.9824076,  validation RMSE: 10.921347\n",
      "Epoch 30, loss: 5.9824057,  validation RMSE: 10.921339\n",
      "Epoch 31, loss: 5.982393,  validation RMSE: 10.921331\n",
      "Epoch 32, loss: 5.9823856,  validation RMSE: 10.921324\n",
      "Epoch 33, loss: 5.982373,  validation RMSE: 10.921315\n",
      "Epoch 34, loss: 5.982361,  validation RMSE: 10.921306\n",
      "Epoch 35, loss: 5.982356,  validation RMSE: 10.921295\n",
      "Epoch 36, loss: 5.982346,  validation RMSE: 10.921284\n",
      "Epoch 37, loss: 5.982328,  validation RMSE: 10.92127\n",
      "Epoch 38, loss: 5.9823246,  validation RMSE: 10.921257\n",
      "Epoch 39, loss: 5.982298,  validation RMSE: 10.921242\n",
      "Epoch 40, loss: 5.9822855,  validation RMSE: 10.921225\n",
      "Epoch 41, loss: 5.9822674,  validation RMSE: 10.9212055\n",
      "Epoch 42, loss: 5.982249,  validation RMSE: 10.921184\n",
      "Epoch 43, loss: 5.9822235,  validation RMSE: 10.92116\n",
      "Epoch 44, loss: 5.982192,  validation RMSE: 10.921132\n",
      "Epoch 45, loss: 5.9821568,  validation RMSE: 10.921102\n",
      "Epoch 46, loss: 5.9821186,  validation RMSE: 10.921066\n",
      "Epoch 47, loss: 5.982089,  validation RMSE: 10.921027\n",
      "Epoch 48, loss: 5.9820485,  validation RMSE: 10.920982\n",
      "Epoch 49, loss: 5.981995,  validation RMSE: 10.920931\n",
      "Epoch 50, loss: 5.981935,  validation RMSE: 10.920871\n",
      "Epoch 51, loss: 5.9818673,  validation RMSE: 10.920801\n",
      "Epoch 52, loss: 5.981785,  validation RMSE: 10.920721\n",
      "Epoch 53, loss: 5.9816914,  validation RMSE: 10.920626\n",
      "Epoch 54, loss: 5.9815836,  validation RMSE: 10.920514\n",
      "Epoch 55, loss: 5.9814577,  validation RMSE: 10.920381\n",
      "Epoch 56, loss: 5.981302,  validation RMSE: 10.920221\n",
      "Epoch 57, loss: 5.9811115,  validation RMSE: 10.920029\n",
      "Epoch 58, loss: 5.980898,  validation RMSE: 10.919792\n",
      "Epoch 59, loss: 5.9806147,  validation RMSE: 10.919502\n",
      "Epoch 60, loss: 5.98027,  validation RMSE: 10.91914\n",
      "Epoch 61, loss: 5.9798474,  validation RMSE: 10.918684\n",
      "Epoch 62, loss: 5.9793024,  validation RMSE: 10.918101\n",
      "Epoch 63, loss: 5.978592,  validation RMSE: 10.917344\n",
      "Epoch 64, loss: 5.977676,  validation RMSE: 10.916346\n",
      "Epoch 65, loss: 5.976449,  validation RMSE: 10.915004\n",
      "Epoch 66, loss: 5.9747877,  validation RMSE: 10.91316\n",
      "Epoch 67, loss: 5.9724717,  validation RMSE: 10.910563\n",
      "Epoch 68, loss: 5.9691553,  validation RMSE: 10.9068\n",
      "Epoch 69, loss: 5.964266,  validation RMSE: 10.901161\n",
      "Epoch 70, loss: 5.9567943,  validation RMSE: 10.892367\n",
      "Epoch 71, loss: 5.9448814,  validation RMSE: 10.878023\n",
      "Epoch 72, loss: 5.9249096,  validation RMSE: 10.853404\n",
      "Epoch 73, loss: 5.8895993,  validation RMSE: 10.80854\n",
      "Epoch 74, loss: 5.8238854,  validation RMSE: 10.723091\n",
      "Epoch 75, loss: 5.6991425,  validation RMSE: 10.561568\n",
      "Epoch 76, loss: 5.478596,  validation RMSE: 10.290642\n",
      "Epoch 77, loss: 5.1639204,  validation RMSE: 9.950179\n",
      "Epoch 78, loss: 4.8362784,  validation RMSE: 9.652521\n",
      "Epoch 79, loss: 4.586417,  validation RMSE: 9.448726\n",
      "Epoch 80, loss: 4.425551,  validation RMSE: 9.34394\n",
      "Epoch 81, loss: 4.3363295,  validation RMSE: 9.281672\n",
      "Epoch 82, loss: 4.2738504,  validation RMSE: 9.231916\n",
      "Epoch 83, loss: 4.23862,  validation RMSE: 9.21035\n",
      "Epoch 84, loss: 4.212093,  validation RMSE: 9.193224\n",
      "Epoch 85, loss: 4.1829,  validation RMSE: 9.179466\n",
      "Epoch 86, loss: 4.1601377,  validation RMSE: 9.174893\n",
      "Epoch 87, loss: 4.1320877,  validation RMSE: 9.167065\n",
      "Epoch 88, loss: 4.1083584,  validation RMSE: 9.162031\n",
      "Epoch 89, loss: 4.08678,  validation RMSE: 9.139869\n",
      "Epoch 90, loss: 4.066849,  validation RMSE: 9.149204\n",
      "Epoch 91, loss: 4.042615,  validation RMSE: 9.136937\n",
      "Epoch 92, loss: 4.0237184,  validation RMSE: 9.133688\n",
      "Epoch 93, loss: 4.002894,  validation RMSE: 9.127499\n",
      "Epoch 94, loss: 3.9794927,  validation RMSE: 9.128394\n",
      "Epoch 95, loss: 3.9562676,  validation RMSE: 9.1229515\n",
      "Epoch 96, loss: 3.933182,  validation RMSE: 9.118802\n",
      "Epoch 97, loss: 3.9100902,  validation RMSE: 9.111031\n",
      "Epoch 98, loss: 3.8982143,  validation RMSE: 9.106758\n",
      "Epoch 99, loss: 3.8739343,  validation RMSE: 9.109148\n",
      "Epoch 100, loss: 3.8493633,  validation RMSE: 9.117194\n",
      "Epoch 101, loss: 3.829343,  validation RMSE: 9.103481\n",
      "Epoch 102, loss: 3.811201,  validation RMSE: 9.100689\n",
      "Epoch 103, loss: 3.784053,  validation RMSE: 9.108129\n",
      "Epoch 104, loss: 3.766925,  validation RMSE: 9.10639\n",
      "Epoch 105, loss: 3.7365513,  validation RMSE: 9.111391\n",
      "Epoch 106, loss: 3.716524,  validation RMSE: 9.134737\n",
      "Epoch 107, loss: 3.697882,  validation RMSE: 9.121733\n",
      "Epoch 108, loss: 3.6781194,  validation RMSE: 9.121573\n",
      "Epoch 109, loss: 3.6527383,  validation RMSE: 9.1409235\n",
      "Epoch 110, loss: 3.6184766,  validation RMSE: 9.113594\n",
      "Epoch 111, loss: 3.6053817,  validation RMSE: 9.165023\n"
     ]
    }
   ],
   "source": [
    "for e in range(epochs):\n",
    "    cumulative_loss = 0\n",
    "    v_RMSE = 0\n",
    "    # inner loop\n",
    "    for i, (data, label) in enumerate(train_data):\n",
    "        data = data.as_in_context(model_ctx)\n",
    "        label = label.as_in_context(model_ctx)\n",
    "        with autograd.record():\n",
    "            output = net(data)\n",
    "            loss = square_loss(output, label)\n",
    "        loss.backward()\n",
    "        trainer.step(batch_size)\n",
    "        cumulative_loss += np.mean(loss)\n",
    "        \n",
    "    pre=net(validation_x)\n",
    "    pre=pre.reshape(-1,)\n",
    "    v_RMSE=RMSE(validation_y_demean,pre)\n",
    "    validation_RMSE.append(v_RMSE)\n",
    "    print(\"Epoch %s, loss: %s,  validation RMSE: %s\" % (e+1, cumulative_loss / num_examples,v_RMSE))\n",
    "    loss_sequence.append(cumulative_loss)\n",
    "    \n",
    "    if len(validation_RMSE)>60:\n",
    "        if float(validation_RMSE[-20]) - float(validation_RMSE[-1]) <=0.001 :\n",
    "            break #early stop"
   ]
  },
  {
   "cell_type": "code",
   "execution_count": 78,
   "metadata": {},
   "outputs": [
    {
     "data": {
      "text/plain": [
       "Text(0, 0.5, 'average loss')"
      ]
     },
     "execution_count": 78,
     "metadata": {},
     "output_type": "execute_result"
    },
    {
     "data": {
      "image/png": "[encoded data removed]",
      "text/plain": [
       "<Figure size 576x432 with 1 Axes>"
      ]
     },
     "metadata": {
      "needs_background": "light"
     },
     "output_type": "display_data"
    }
   ],
   "source": [
    "# plot the convergence of the estimated loss function\n",
    "plt.figure(num=None,figsize=(8, 6))\n",
    "plt.plot(loss_sequence,label=\"loss\")\n",
    "# Adding some bells and whistles to the plot\n",
    "plt.grid(True, which=\"both\")\n",
    "plt.xlabel('epoch',fontsize=14)\n",
    "plt.ylabel('average loss',fontsize=14)"
   ]
  },
  {
   "cell_type": "code",
   "execution_count": 79,
   "metadata": {},
   "outputs": [
    {
     "data": {
      "text/plain": [
       "Text(0, 0.5, 'validation RMSE')"
      ]
     },
     "execution_count": 79,
     "metadata": {},
     "output_type": "execute_result"
    },
    {
     "data": {
      "image/png": "[encoded data removed]",
      "text/plain": [
       "<Figure size 576x432 with 1 Axes>"
      ]
     },
     "metadata": {
      "needs_background": "light"
     },
     "output_type": "display_data"
    }
   ],
   "source": [
    "# plot the convergence of the validation RMSE\n",
    "plt.figure(num=None,figsize=(8, 6))\n",
    "plt.plot(validation_RMSE,c=\"red\",label=\"validation RMSE\")\n",
    "# Adding some bells and whistles to the plot\n",
    "plt.grid(True, which=\"both\")\n",
    "plt.xlabel('epoch',fontsize=14)\n",
    "plt.ylabel('validation RMSE',fontsize=14)"
   ]
  },
  {
   "cell_type": "code",
   "execution_count": 80,
   "metadata": {},
   "outputs": [
    {
     "data": {
      "text/plain": [
       "Sequential(\n",
       "  (0): Dense(90 -> 45, Activation(relu))\n",
       "  (1): Dense(45 -> 45, Activation(relu))\n",
       "  (2): Dense(45 -> 1, linear)\n",
       ")"
      ]
     },
     "execution_count": 80,
     "metadata": {},
     "output_type": "execute_result"
    }
   ],
   "source": [
    "net"
   ]
  },
  {
   "cell_type": "code",
   "execution_count": 81,
   "metadata": {},
   "outputs": [],
   "source": [
    "pre5=net(X_test_standard)\n",
    "pre5=pre5.reshape(-1,)"
   ]
  },
  {
   "cell_type": "code",
   "execution_count": 82,
   "metadata": {},
   "outputs": [
    {
     "name": "stdout",
     "output_type": "stream",
     "text": [
      "9.255524\n"
     ]
    }
   ],
   "source": [
    "#印出RMSE\n",
    "RMSE5=RMSE(test_y_demean,pre5)\n",
    "print(RMSE5)"
   ]
  },
  {
   "cell_type": "markdown",
   "metadata": {},
   "source": [
    "### MLP_2_dm_dropout"
   ]
  },
  {
   "cell_type": "code",
   "execution_count": 490,
   "metadata": {},
   "outputs": [],
   "source": [
    "dropout1, dropout2 = 0.5 , 0.5"
   ]
  },
  {
   "cell_type": "code",
   "execution_count": 491,
   "metadata": {},
   "outputs": [],
   "source": [
    "net = nn.Sequential()\n",
    "net.add(nn.Dense(45, activation='relu'),\n",
    "         # Add a dropout layer after the first fully connected layer\n",
    "        nn.Dropout(dropout1),\n",
    "        nn.Dense(45, activation='relu'),\n",
    "        # Add a dropout layer after the second fully connected layer\n",
    "        nn.Dropout(dropout2),\n",
    "        nn.Dense(1))\n",
    "net.initialize(init.Normal(sigma=0.01))"
   ]
  },
  {
   "cell_type": "code",
   "execution_count": 492,
   "metadata": {},
   "outputs": [
    {
     "data": {
      "text/plain": [
       "sequential52_ (\n",
       "  Parameter dense153_weight (shape=(45, -1), dtype=float32)\n",
       "  Parameter dense153_bias (shape=(45,), dtype=float32)\n",
       "  Parameter dense154_weight (shape=(45, -1), dtype=float32)\n",
       "  Parameter dense154_bias (shape=(45,), dtype=float32)\n",
       "  Parameter dense155_weight (shape=(1, -1), dtype=float32)\n",
       "  Parameter dense155_bias (shape=(1,), dtype=float32)\n",
       ")"
      ]
     },
     "execution_count": 492,
     "metadata": {},
     "output_type": "execute_result"
    }
   ],
   "source": [
    "net.collect_params()"
   ]
  },
  {
   "cell_type": "code",
   "execution_count": 493,
   "metadata": {},
   "outputs": [],
   "source": [
    "square_loss = gluon.loss.L2Loss()\n",
    "trainer = gluon.Trainer(net.collect_params(), 'sgd', {'learning_rate': 0.0001})\n",
    "num_examples = 10000"
   ]
  },
  {
   "cell_type": "code",
   "execution_count": 494,
   "metadata": {},
   "outputs": [],
   "source": [
    "epochs = 3000\n",
    "loss_sequence = []\n",
    "num_batches = num_examples / batch_size\n",
    "validation_RMSE=[]"
   ]
  },
  {
   "cell_type": "code",
   "execution_count": 495,
   "metadata": {},
   "outputs": [
    {
     "name": "stdout",
     "output_type": "stream",
     "text": [
      "Epoch 1, loss: 5.9825068,  validation RMSE: 10.921441\n",
      "Epoch 2, loss: 5.982495,  validation RMSE: 10.921435\n",
      "Epoch 3, loss: 5.9824877,  validation RMSE: 10.92143\n",
      "Epoch 4, loss: 5.9824843,  validation RMSE: 10.921425\n",
      "Epoch 5, loss: 5.9824786,  validation RMSE: 10.921418\n",
      "Epoch 6, loss: 5.982475,  validation RMSE: 10.921413\n",
      "Epoch 7, loss: 5.982466,  validation RMSE: 10.921409\n",
      "Epoch 8, loss: 5.9824677,  validation RMSE: 10.921404\n",
      "Epoch 9, loss: 5.98246,  validation RMSE: 10.921398\n",
      "Epoch 10, loss: 5.9824553,  validation RMSE: 10.921392\n",
      "Epoch 11, loss: 5.9824576,  validation RMSE: 10.921388\n",
      "Epoch 12, loss: 5.9824333,  validation RMSE: 10.921382\n",
      "Epoch 13, loss: 5.982438,  validation RMSE: 10.921375\n",
      "Epoch 14, loss: 5.982419,  validation RMSE: 10.921369\n",
      "Epoch 15, loss: 5.9824295,  validation RMSE: 10.921362\n",
      "Epoch 16, loss: 5.98242,  validation RMSE: 10.921354\n",
      "Epoch 17, loss: 5.982399,  validation RMSE: 10.921347\n",
      "Epoch 18, loss: 5.9824076,  validation RMSE: 10.921338\n",
      "Epoch 19, loss: 5.9823895,  validation RMSE: 10.9213295\n",
      "Epoch 20, loss: 5.9823785,  validation RMSE: 10.92132\n",
      "Epoch 21, loss: 5.982366,  validation RMSE: 10.9213085\n",
      "Epoch 22, loss: 5.9823494,  validation RMSE: 10.921296\n",
      "Epoch 23, loss: 5.9823565,  validation RMSE: 10.921284\n",
      "Epoch 24, loss: 5.9823213,  validation RMSE: 10.921269\n",
      "Epoch 25, loss: 5.982308,  validation RMSE: 10.921254\n",
      "Epoch 26, loss: 5.98231,  validation RMSE: 10.921237\n",
      "Epoch 27, loss: 5.9822874,  validation RMSE: 10.921218\n",
      "Epoch 28, loss: 5.9822507,  validation RMSE: 10.921196\n",
      "Epoch 29, loss: 5.98225,  validation RMSE: 10.921172\n",
      "Epoch 30, loss: 5.9822035,  validation RMSE: 10.9211445\n",
      "Epoch 31, loss: 5.9821754,  validation RMSE: 10.921112\n",
      "Epoch 32, loss: 5.9821134,  validation RMSE: 10.921075\n",
      "Epoch 33, loss: 5.982106,  validation RMSE: 10.921036\n",
      "Epoch 34, loss: 5.982059,  validation RMSE: 10.92099\n",
      "Epoch 35, loss: 5.981972,  validation RMSE: 10.920935\n",
      "Epoch 36, loss: 5.981954,  validation RMSE: 10.920873\n",
      "Epoch 37, loss: 5.981885,  validation RMSE: 10.920801\n",
      "Epoch 38, loss: 5.9818115,  validation RMSE: 10.920716\n",
      "Epoch 39, loss: 5.981725,  validation RMSE: 10.92062\n",
      "Epoch 40, loss: 5.9815383,  validation RMSE: 10.9205\n",
      "Epoch 41, loss: 5.9814177,  validation RMSE: 10.920358\n",
      "Epoch 42, loss: 5.981284,  validation RMSE: 10.920187\n",
      "Epoch 43, loss: 5.9810915,  validation RMSE: 10.919979\n",
      "Epoch 44, loss: 5.9808435,  validation RMSE: 10.919723\n",
      "Epoch 45, loss: 5.980587,  validation RMSE: 10.919408\n",
      "Epoch 46, loss: 5.980201,  validation RMSE: 10.919007\n",
      "Epoch 47, loss: 5.9798517,  validation RMSE: 10.918517\n",
      "Epoch 48, loss: 5.9791265,  validation RMSE: 10.917866\n",
      "Epoch 49, loss: 5.9784217,  validation RMSE: 10.917023\n",
      "Epoch 50, loss: 5.9773045,  validation RMSE: 10.915882\n",
      "Epoch 51, loss: 5.9757624,  validation RMSE: 10.914308\n",
      "Epoch 52, loss: 5.9738574,  validation RMSE: 10.912094\n",
      "Epoch 53, loss: 5.9714494,  validation RMSE: 10.908996\n",
      "Epoch 54, loss: 5.967136,  validation RMSE: 10.904321\n",
      "Epoch 55, loss: 5.9615946,  validation RMSE: 10.897249\n",
      "Epoch 56, loss: 5.952875,  validation RMSE: 10.886174\n",
      "Epoch 57, loss: 5.937052,  validation RMSE: 10.867263\n",
      "Epoch 58, loss: 5.9102244,  validation RMSE: 10.833521\n",
      "Epoch 59, loss: 5.864398,  validation RMSE: 10.773051\n",
      "Epoch 60, loss: 5.788601,  validation RMSE: 10.673445\n",
      "Epoch 61, loss: 5.6753054,  validation RMSE: 10.533949\n",
      "Epoch 62, loss: 5.5266614,  validation RMSE: 10.362816\n",
      "Epoch 63, loss: 5.371259,  validation RMSE: 10.171979\n",
      "Epoch 64, loss: 5.1964545,  validation RMSE: 9.946791\n",
      "Epoch 65, loss: 5.0267158,  validation RMSE: 9.751819\n",
      "Epoch 66, loss: 4.8978605,  validation RMSE: 9.590976\n",
      "Epoch 67, loss: 4.8277802,  validation RMSE: 9.506922\n",
      "Epoch 68, loss: 4.7797465,  validation RMSE: 9.435673\n",
      "Epoch 69, loss: 4.6753373,  validation RMSE: 9.377065\n",
      "Epoch 70, loss: 4.64106,  validation RMSE: 9.352396\n",
      "Epoch 71, loss: 4.6614323,  validation RMSE: 9.326736\n",
      "Epoch 72, loss: 4.574771,  validation RMSE: 9.293037\n",
      "Epoch 73, loss: 4.5562096,  validation RMSE: 9.278741\n",
      "Epoch 74, loss: 4.573598,  validation RMSE: 9.261734\n",
      "Epoch 75, loss: 4.516724,  validation RMSE: 9.250055\n",
      "Epoch 76, loss: 4.4932923,  validation RMSE: 9.236111\n",
      "Epoch 77, loss: 4.516968,  validation RMSE: 9.237807\n",
      "Epoch 78, loss: 4.4469547,  validation RMSE: 9.220013\n",
      "Epoch 79, loss: 4.480927,  validation RMSE: 9.216569\n",
      "Epoch 80, loss: 4.403525,  validation RMSE: 9.196632\n",
      "Epoch 81, loss: 4.42641,  validation RMSE: 9.187594\n",
      "Epoch 82, loss: 4.452631,  validation RMSE: 9.188989\n",
      "Epoch 83, loss: 4.3439145,  validation RMSE: 9.167613\n",
      "Epoch 84, loss: 4.367492,  validation RMSE: 9.167427\n",
      "Epoch 85, loss: 4.3587,  validation RMSE: 9.174866\n",
      "Epoch 86, loss: 4.3386803,  validation RMSE: 9.154975\n",
      "Epoch 87, loss: 4.337723,  validation RMSE: 9.159329\n",
      "Epoch 88, loss: 4.2784963,  validation RMSE: 9.143284\n",
      "Epoch 89, loss: 4.2838526,  validation RMSE: 9.135114\n",
      "Epoch 90, loss: 4.302621,  validation RMSE: 9.15357\n",
      "Epoch 91, loss: 4.30256,  validation RMSE: 9.14666\n",
      "Epoch 92, loss: 4.2791123,  validation RMSE: 9.131472\n",
      "Epoch 93, loss: 4.280527,  validation RMSE: 9.122683\n",
      "Epoch 94, loss: 4.2656045,  validation RMSE: 9.130326\n",
      "Epoch 95, loss: 4.2041016,  validation RMSE: 9.132261\n",
      "Epoch 96, loss: 4.2206326,  validation RMSE: 9.106076\n",
      "Epoch 97, loss: 4.200244,  validation RMSE: 9.101898\n",
      "Epoch 98, loss: 4.1997156,  validation RMSE: 9.124487\n",
      "Epoch 99, loss: 4.1669693,  validation RMSE: 9.109548\n",
      "Epoch 100, loss: 4.184717,  validation RMSE: 9.110938\n",
      "Epoch 101, loss: 4.1356544,  validation RMSE: 9.106721\n",
      "Epoch 102, loss: 4.1566887,  validation RMSE: 9.100153\n",
      "Epoch 103, loss: 4.1430955,  validation RMSE: 9.111361\n",
      "Epoch 104, loss: 4.0846615,  validation RMSE: 9.0965\n",
      "Epoch 105, loss: 4.0823407,  validation RMSE: 9.092341\n",
      "Epoch 106, loss: 4.139122,  validation RMSE: 9.092152\n",
      "Epoch 107, loss: 4.1177177,  validation RMSE: 9.086428\n",
      "Epoch 108, loss: 4.0968647,  validation RMSE: 9.101422\n",
      "Epoch 109, loss: 4.0570254,  validation RMSE: 9.103837\n",
      "Epoch 110, loss: 4.1051755,  validation RMSE: 9.078799\n",
      "Epoch 111, loss: 4.0948315,  validation RMSE: 9.094019\n",
      "Epoch 112, loss: 4.025823,  validation RMSE: 9.094995\n",
      "Epoch 113, loss: 4.0518,  validation RMSE: 9.081588\n",
      "Epoch 114, loss: 4.0479836,  validation RMSE: 9.089567\n",
      "Epoch 115, loss: 4.024742,  validation RMSE: 9.096731\n",
      "Epoch 116, loss: 3.9967747,  validation RMSE: 9.098403\n",
      "Epoch 117, loss: 4.033781,  validation RMSE: 9.098089\n",
      "Epoch 118, loss: 3.9671614,  validation RMSE: 9.107958\n",
      "Epoch 119, loss: 3.9820402,  validation RMSE: 9.095122\n",
      "Epoch 120, loss: 4.024828,  validation RMSE: 9.118088\n"
     ]
    }
   ],
   "source": [
    "for e in range(epochs):\n",
    "    cumulative_loss = 0\n",
    "    # inner loop\n",
    "    for i, (data, label) in enumerate(train_data):\n",
    "        data = data.as_in_context(model_ctx)\n",
    "        label = label.as_in_context(model_ctx)\n",
    "        with autograd.record():\n",
    "            output = net(data)\n",
    "            loss = square_loss(output, label)\n",
    "        loss.backward()\n",
    "        trainer.step(batch_size)\n",
    "        cumulative_loss += np.mean(loss)\n",
    "        \n",
    "    pre=net(validation_x)\n",
    "    pre=pre.reshape(-1,)\n",
    "    v_RMSE=RMSE(validation_y_demean,pre)\n",
    "    validation_RMSE.append(v_RMSE)\n",
    "    print(\"Epoch %s, loss: %s,  validation RMSE: %s\" % (e+1, cumulative_loss / num_examples,v_RMSE))\n",
    "    loss_sequence.append(cumulative_loss)\n",
    "    \n",
    "    if len(validation_RMSE)>50:\n",
    "        if ( float(validation_RMSE[-20]) - float(validation_RMSE[-1])) <=0.001:\n",
    "            break #early stop"
   ]
  },
  {
   "cell_type": "code",
   "execution_count": 496,
   "metadata": {},
   "outputs": [
    {
     "data": {
      "text/plain": [
       "Text(0, 0.5, 'average loss')"
      ]
     },
     "execution_count": 496,
     "metadata": {},
     "output_type": "execute_result"
    },
    {
     "data": {
      "image/png": "[encoded data removed]",
      "text/plain": [
       "<Figure size 576x432 with 1 Axes>"
      ]
     },
     "metadata": {
      "needs_background": "light"
     },
     "output_type": "display_data"
    }
   ],
   "source": [
    "# plot the convergence of the estimated loss function\n",
    "plt.figure(num=None,figsize=(8, 6))\n",
    "plt.plot(loss_sequence,label=\"loss\")\n",
    "# Adding some bells and whistles to the plot\n",
    "plt.grid(True, which=\"both\")\n",
    "plt.xlabel('epoch',fontsize=14)\n",
    "plt.ylabel('average loss',fontsize=14)"
   ]
  },
  {
   "cell_type": "code",
   "execution_count": 497,
   "metadata": {},
   "outputs": [
    {
     "data": {
      "text/plain": [
       "Text(0, 0.5, 'validation RMSE')"
      ]
     },
     "execution_count": 497,
     "metadata": {},
     "output_type": "execute_result"
    },
    {
     "data": {
      "image/png": "[encoded data removed]",
      "text/plain": [
       "<Figure size 576x432 with 1 Axes>"
      ]
     },
     "metadata": {
      "needs_background": "light"
     },
     "output_type": "display_data"
    }
   ],
   "source": [
    "# plot the convergence of the validation RMSE\n",
    "plt.figure(num=None,figsize=(8, 6))\n",
    "plt.plot(validation_RMSE,c=\"red\",label=\"validation RMSE\")\n",
    "# Adding some bells and whistles to the plot\n",
    "plt.grid(True, which=\"both\")\n",
    "plt.xlabel('epoch',fontsize=14)\n",
    "plt.ylabel('validation RMSE',fontsize=14)"
   ]
  },
  {
   "cell_type": "code",
   "execution_count": 498,
   "metadata": {},
   "outputs": [
    {
     "data": {
      "text/plain": [
       "Sequential(\n",
       "  (0): Dense(90 -> 45, Activation(relu))\n",
       "  (1): Dropout(p = 0.5, axes=())\n",
       "  (2): Dense(45 -> 45, Activation(relu))\n",
       "  (3): Dropout(p = 0.5, axes=())\n",
       "  (4): Dense(45 -> 1, linear)\n",
       ")"
      ]
     },
     "execution_count": 498,
     "metadata": {},
     "output_type": "execute_result"
    }
   ],
   "source": [
    "net"
   ]
  },
  {
   "cell_type": "code",
   "execution_count": 499,
   "metadata": {},
   "outputs": [],
   "source": [
    "pre6=net(X_test_standard)\n",
    "pre6=pre6.reshape(-1,)"
   ]
  },
  {
   "cell_type": "code",
   "execution_count": 500,
   "metadata": {},
   "outputs": [
    {
     "name": "stdout",
     "output_type": "stream",
     "text": [
      "9.197704\n"
     ]
    }
   ],
   "source": [
    "#印出RMSE\n",
    "RMSE6=RMSE(test_y_demean,pre6)\n",
    "print(RMSE6)"
   ]
  },
  {
   "cell_type": "markdown",
   "metadata": {},
   "source": [
    "### MLP_2_ykeep"
   ]
  },
  {
   "cell_type": "code",
   "execution_count": 153,
   "metadata": {},
   "outputs": [],
   "source": [
    "batch_size = 10\n",
    "train_data2 = gluon.data.DataLoader(gluon.data.ArrayDataset(subtrain_x_10000, subtrain_y_10000),\n",
    "                                      batch_size=batch_size, shuffle=True)"
   ]
  },
  {
   "cell_type": "code",
   "execution_count": 154,
   "metadata": {},
   "outputs": [],
   "source": [
    "net = nn.Sequential()\n",
    "net.add(nn.Dense(45, activation='relu'),nn.Dense(45, activation='relu'),\n",
    "        nn.Dense(1))\n",
    "net.initialize(init.Normal(sigma=0.001))"
   ]
  },
  {
   "cell_type": "code",
   "execution_count": 155,
   "metadata": {},
   "outputs": [
    {
     "data": {
      "text/plain": [
       "sequential12_ (\n",
       "  Parameter dense33_weight (shape=(45, -1), dtype=float32)\n",
       "  Parameter dense33_bias (shape=(45,), dtype=float32)\n",
       "  Parameter dense34_weight (shape=(45, -1), dtype=float32)\n",
       "  Parameter dense34_bias (shape=(45,), dtype=float32)\n",
       "  Parameter dense35_weight (shape=(1, -1), dtype=float32)\n",
       "  Parameter dense35_bias (shape=(1,), dtype=float32)\n",
       ")"
      ]
     },
     "execution_count": 155,
     "metadata": {},
     "output_type": "execute_result"
    }
   ],
   "source": [
    "net.collect_params()"
   ]
  },
  {
   "cell_type": "code",
   "execution_count": 156,
   "metadata": {},
   "outputs": [],
   "source": [
    "square_loss = gluon.loss.L2Loss()\n",
    "trainer = gluon.Trainer(net.collect_params(), 'sgd', {'learning_rate': 0.0001})\n",
    "num_examples = 10000"
   ]
  },
  {
   "cell_type": "code",
   "execution_count": 157,
   "metadata": {},
   "outputs": [],
   "source": [
    "epochs = 3000\n",
    "loss_sequence = []\n",
    "num_batches = num_examples / batch_size\n",
    "validation_RMSE=[]"
   ]
  },
  {
   "cell_type": "code",
   "execution_count": 158,
   "metadata": {},
   "outputs": [
    {
     "name": "stdout",
     "output_type": "stream",
     "text": [
      "Epoch 1, loss: 524157440.0,  validation RMSE: 1553.2446\n",
      "Epoch 2, loss: 116172.69,  validation RMSE: 1464.1932\n",
      "Epoch 3, loss: 103233.22,  validation RMSE: 1380.2505\n",
      "Epoch 4, loss: 91735.24,  validation RMSE: 1301.1218\n",
      "Epoch 5, loss: 81518.11,  validation RMSE: 1226.5334\n",
      "Epoch 6, loss: 72439.164,  validation RMSE: 1156.2196\n",
      "Epoch 7, loss: 64371.52,  validation RMSE: 1089.9406\n",
      "Epoch 8, loss: 57202.664,  validation RMSE: 1027.4626\n",
      "Epoch 9, loss: 50832.375,  validation RMSE: 968.5692\n",
      "Epoch 10, loss: 45171.652,  validation RMSE: 913.05316\n",
      "Epoch 11, loss: 40141.6,  validation RMSE: 860.72217\n",
      "Epoch 12, loss: 35671.797,  validation RMSE: 811.3939\n",
      "Epoch 13, loss: 31699.836,  validation RMSE: 764.8955\n",
      "Epoch 14, loss: 28170.402,  validation RMSE: 721.06\n",
      "Epoch 15, loss: 25034.01,  validation RMSE: 679.7408\n",
      "Epoch 16, loss: 22246.973,  validation RMSE: 640.7927\n",
      "Epoch 17, loss: 19770.38,  validation RMSE: 604.0795\n",
      "Epoch 18, loss: 17569.686,  validation RMSE: 569.4731\n",
      "Epoch 19, loss: 15614.095,  validation RMSE: 536.85034\n",
      "Epoch 20, loss: 13876.235,  validation RMSE: 506.0991\n",
      "Epoch 21, loss: 12331.953,  validation RMSE: 477.1125\n",
      "Epoch 22, loss: 10959.693,  validation RMSE: 449.79102\n",
      "Epoch 23, loss: 9740.293,  validation RMSE: 424.03613\n",
      "Epoch 24, loss: 8656.64,  validation RMSE: 399.75824\n",
      "Epoch 25, loss: 7693.6816,  validation RMSE: 376.87555\n",
      "Epoch 26, loss: 6837.981,  validation RMSE: 355.30756\n",
      "Epoch 27, loss: 6077.54,  validation RMSE: 334.97327\n",
      "Epoch 28, loss: 5401.7983,  validation RMSE: 315.80927\n",
      "Epoch 29, loss: 4801.3066,  validation RMSE: 297.74472\n",
      "Epoch 30, loss: 4267.69,  validation RMSE: 280.71896\n",
      "Epoch 31, loss: 3793.52,  validation RMSE: 264.67145\n",
      "Epoch 32, loss: 3372.1155,  validation RMSE: 249.54509\n",
      "Epoch 33, loss: 2997.63,  validation RMSE: 235.28784\n",
      "Epoch 34, loss: 2664.8489,  validation RMSE: 221.85072\n",
      "Epoch 35, loss: 2369.087,  validation RMSE: 209.18355\n",
      "Epoch 36, loss: 2106.2458,  validation RMSE: 197.24615\n",
      "Epoch 37, loss: 1872.6698,  validation RMSE: 185.99661\n",
      "Epoch 38, loss: 1665.1051,  validation RMSE: 175.3926\n",
      "Epoch 39, loss: 1480.6469,  validation RMSE: 165.40065\n",
      "Epoch 40, loss: 1316.7292,  validation RMSE: 155.98575\n",
      "Epoch 41, loss: 1171.029,  validation RMSE: 147.10835\n",
      "Epoch 42, loss: 1041.5297,  validation RMSE: 138.74553\n",
      "Epoch 43, loss: 926.4451,  validation RMSE: 130.8631\n",
      "Epoch 44, loss: 824.1675,  validation RMSE: 123.4373\n",
      "Epoch 45, loss: 733.2758,  validation RMSE: 116.4415\n",
      "Epoch 46, loss: 652.4892,  validation RMSE: 109.8486\n",
      "Epoch 47, loss: 580.6855,  validation RMSE: 103.63908\n",
      "Epoch 48, loss: 516.86957,  validation RMSE: 97.78711\n",
      "Epoch 49, loss: 460.1442,  validation RMSE: 92.27497\n",
      "Epoch 50, loss: 409.7397,  validation RMSE: 87.085236\n",
      "Epoch 51, loss: 364.9402,  validation RMSE: 82.195755\n",
      "Epoch 52, loss: 325.10944,  validation RMSE: 77.59274\n",
      "Epoch 53, loss: 289.7216,  validation RMSE: 73.25852\n",
      "Epoch 54, loss: 258.26263,  validation RMSE: 69.17879\n",
      "Epoch 55, loss: 230.29265,  validation RMSE: 65.33686\n",
      "Epoch 56, loss: 205.43024,  validation RMSE: 61.72225\n",
      "Epoch 57, loss: 183.33363,  validation RMSE: 58.320335\n",
      "Epoch 58, loss: 163.68988,  validation RMSE: 55.119987\n",
      "Epoch 59, loss: 146.22815,  validation RMSE: 52.11061\n",
      "Epoch 60, loss: 130.70555,  validation RMSE: 49.28132\n",
      "Epoch 61, loss: 116.90549,  validation RMSE: 46.6202\n",
      "Epoch 62, loss: 104.6323,  validation RMSE: 44.11939\n",
      "Epoch 63, loss: 93.721634,  validation RMSE: 41.771935\n",
      "Epoch 64, loss: 84.02581,  validation RMSE: 39.567535\n",
      "Epoch 65, loss: 75.403534,  validation RMSE: 37.499012\n",
      "Epoch 66, loss: 67.73567,  validation RMSE: 35.55655\n",
      "Epoch 67, loss: 60.91575,  validation RMSE: 33.73612\n",
      "Epoch 68, loss: 54.853275,  validation RMSE: 32.029873\n",
      "Epoch 69, loss: 49.462185,  validation RMSE: 30.433279\n",
      "Epoch 70, loss: 44.666195,  validation RMSE: 28.937124\n",
      "Epoch 71, loss: 40.401043,  validation RMSE: 27.540071\n",
      "Epoch 72, loss: 36.609013,  validation RMSE: 26.234087\n",
      "Epoch 73, loss: 33.235535,  validation RMSE: 25.01543\n",
      "Epoch 74, loss: 30.235594,  validation RMSE: 23.878479\n",
      "Epoch 75, loss: 27.567266,  validation RMSE: 22.819956\n",
      "Epoch 76, loss: 25.192371,  validation RMSE: 21.834044\n",
      "Epoch 77, loss: 23.078497,  validation RMSE: 20.917065\n",
      "Epoch 78, loss: 21.198946,  validation RMSE: 20.0668\n",
      "Epoch 79, loss: 19.525549,  validation RMSE: 19.277685\n",
      "Epoch 80, loss: 18.037033,  validation RMSE: 18.550373\n",
      "Epoch 81, loss: 16.715242,  validation RMSE: 17.87499\n",
      "Epoch 82, loss: 15.537799,  validation RMSE: 17.252491\n",
      "Epoch 83, loss: 14.487998,  validation RMSE: 16.677368\n",
      "Epoch 84, loss: 13.553087,  validation RMSE: 16.149067\n",
      "Epoch 85, loss: 12.721569,  validation RMSE: 15.662958\n",
      "Epoch 86, loss: 11.982341,  validation RMSE: 15.217555\n",
      "Epoch 87, loss: 11.32414,  validation RMSE: 14.810213\n",
      "Epoch 88, loss: 10.738711,  validation RMSE: 14.438092\n",
      "Epoch 89, loss: 10.216808,  validation RMSE: 14.09639\n",
      "Epoch 90, loss: 9.750975,  validation RMSE: 13.787087\n",
      "Epoch 91, loss: 9.338041,  validation RMSE: 13.504406\n",
      "Epoch 92, loss: 8.970497,  validation RMSE: 13.247652\n",
      "Epoch 93, loss: 8.6422415,  validation RMSE: 13.015306\n",
      "Epoch 94, loss: 8.351667,  validation RMSE: 12.8038845\n",
      "Epoch 95, loss: 8.092758,  validation RMSE: 12.614194\n",
      "Epoch 96, loss: 7.8622084,  validation RMSE: 12.442424\n",
      "Epoch 97, loss: 7.655359,  validation RMSE: 12.287624\n",
      "Epoch 98, loss: 7.471648,  validation RMSE: 12.145338\n",
      "Epoch 99, loss: 7.3085647,  validation RMSE: 12.019885\n",
      "Epoch 100, loss: 7.16396,  validation RMSE: 11.904987\n",
      "Epoch 101, loss: 7.035335,  validation RMSE: 11.803071\n",
      "Epoch 102, loss: 6.9200287,  validation RMSE: 11.710175\n",
      "Epoch 103, loss: 6.8166556,  validation RMSE: 11.628462\n",
      "Epoch 104, loss: 6.7254314,  validation RMSE: 11.554201\n",
      "Epoch 105, loss: 6.643781,  validation RMSE: 11.487156\n",
      "Epoch 106, loss: 6.5704303,  validation RMSE: 11.425769\n",
      "Epoch 107, loss: 6.5059357,  validation RMSE: 11.372403\n",
      "Epoch 108, loss: 6.44836,  validation RMSE: 11.324617\n",
      "Epoch 109, loss: 6.397531,  validation RMSE: 11.281917\n",
      "Epoch 110, loss: 6.352141,  validation RMSE: 11.243384\n",
      "Epoch 111, loss: 6.311332,  validation RMSE: 11.209386\n",
      "Epoch 112, loss: 6.2749677,  validation RMSE: 11.178924\n",
      "Epoch 113, loss: 6.242857,  validation RMSE: 11.150643\n",
      "Epoch 114, loss: 6.2142944,  validation RMSE: 11.126626\n",
      "Epoch 115, loss: 6.1888857,  validation RMSE: 11.104692\n",
      "Epoch 116, loss: 6.1664166,  validation RMSE: 11.0849\n",
      "Epoch 117, loss: 6.145972,  validation RMSE: 11.067055\n",
      "Epoch 118, loss: 6.128073,  validation RMSE: 11.051541\n",
      "Epoch 119, loss: 6.1117043,  validation RMSE: 11.037327\n",
      "Epoch 120, loss: 6.096969,  validation RMSE: 11.026288\n",
      "Epoch 121, loss: 6.085295,  validation RMSE: 11.01417\n",
      "Epoch 122, loss: 6.0735526,  validation RMSE: 11.004574\n",
      "Epoch 123, loss: 6.062875,  validation RMSE: 10.996659\n",
      "Epoch 124, loss: 6.0549593,  validation RMSE: 10.987427\n",
      "Epoch 125, loss: 6.0465083,  validation RMSE: 10.9795\n",
      "Epoch 126, loss: 6.0394235,  validation RMSE: 10.972946\n",
      "Epoch 127, loss: 6.0327387,  validation RMSE: 10.967904\n",
      "Epoch 128, loss: 6.027671,  validation RMSE: 10.962326\n",
      "Epoch 129, loss: 6.0221877,  validation RMSE: 10.959294\n",
      "Epoch 130, loss: 6.0183053,  validation RMSE: 10.953643\n",
      "Epoch 131, loss: 6.013967,  validation RMSE: 10.950017\n",
      "Epoch 132, loss: 6.010383,  validation RMSE: 10.947495\n",
      "Epoch 133, loss: 6.0070333,  validation RMSE: 10.9435005\n",
      "Epoch 134, loss: 6.0043063,  validation RMSE: 10.941939\n",
      "Epoch 135, loss: 6.001794,  validation RMSE: 10.938933\n",
      "Epoch 136, loss: 5.999601,  validation RMSE: 10.936445\n",
      "Epoch 137, loss: 5.997525,  validation RMSE: 10.93491\n",
      "Epoch 138, loss: 5.9954343,  validation RMSE: 10.932687\n",
      "Epoch 139, loss: 5.9940596,  validation RMSE: 10.931812\n",
      "Epoch 140, loss: 5.992331,  validation RMSE: 10.929729\n",
      "Epoch 141, loss: 5.9917154,  validation RMSE: 10.928492\n",
      "Epoch 142, loss: 5.9904957,  validation RMSE: 10.927764\n",
      "Epoch 143, loss: 5.9894385,  validation RMSE: 10.926416\n",
      "Epoch 144, loss: 5.9881763,  validation RMSE: 10.926583\n",
      "Epoch 145, loss: 5.9879556,  validation RMSE: 10.924911\n",
      "Epoch 146, loss: 5.9869075,  validation RMSE: 10.9251585\n",
      "Epoch 147, loss: 5.9863763,  validation RMSE: 10.924061\n",
      "Epoch 148, loss: 5.985742,  validation RMSE: 10.92421\n",
      "Epoch 149, loss: 5.984916,  validation RMSE: 10.922104\n",
      "Epoch 150, loss: 5.9840794,  validation RMSE: 10.922803\n",
      "Epoch 151, loss: 5.9847145,  validation RMSE: 10.921405\n"
     ]
    },
    {
     "name": "stdout",
     "output_type": "stream",
     "text": [
      "Epoch 152, loss: 5.984184,  validation RMSE: 10.921666\n",
      "Epoch 153, loss: 5.9840546,  validation RMSE: 10.920727\n",
      "Epoch 154, loss: 5.9835625,  validation RMSE: 10.920311\n",
      "Epoch 155, loss: 5.9832478,  validation RMSE: 10.920241\n",
      "Epoch 156, loss: 5.9830246,  validation RMSE: 10.919613\n",
      "Epoch 157, loss: 5.982957,  validation RMSE: 10.919514\n",
      "Epoch 158, loss: 5.9825745,  validation RMSE: 10.920088\n",
      "Epoch 159, loss: 5.981745,  validation RMSE: 10.91891\n",
      "Epoch 160, loss: 5.9822183,  validation RMSE: 10.92007\n",
      "Epoch 161, loss: 5.982272,  validation RMSE: 10.91866\n",
      "Epoch 162, loss: 5.9821925,  validation RMSE: 10.919172\n",
      "Epoch 163, loss: 5.9821076,  validation RMSE: 10.918606\n",
      "Epoch 164, loss: 5.9803863,  validation RMSE: 10.920627\n",
      "Epoch 165, loss: 5.9818926,  validation RMSE: 10.918085\n",
      "Epoch 166, loss: 5.980903,  validation RMSE: 10.919383\n",
      "Epoch 167, loss: 5.981748,  validation RMSE: 10.917894\n",
      "Epoch 168, loss: 5.981909,  validation RMSE: 10.91819\n",
      "Epoch 169, loss: 5.9817653,  validation RMSE: 10.91791\n",
      "Epoch 170, loss: 5.9812427,  validation RMSE: 10.919024\n",
      "Epoch 171, loss: 5.980904,  validation RMSE: 10.917594\n",
      "Epoch 172, loss: 5.9817553,  validation RMSE: 10.91759\n",
      "Epoch 173, loss: 5.981388,  validation RMSE: 10.917442\n",
      "Epoch 174, loss: 5.9813423,  validation RMSE: 10.917438\n",
      "Epoch 175, loss: 5.9807353,  validation RMSE: 10.919143\n",
      "Epoch 176, loss: 5.981518,  validation RMSE: 10.917896\n",
      "Epoch 177, loss: 5.981464,  validation RMSE: 10.91775\n",
      "Epoch 178, loss: 5.9810653,  validation RMSE: 10.917219\n",
      "Epoch 179, loss: 5.9811654,  validation RMSE: 10.917173\n",
      "Epoch 180, loss: 5.9814205,  validation RMSE: 10.917339\n",
      "Epoch 181, loss: 5.9809713,  validation RMSE: 10.918186\n",
      "Epoch 182, loss: 5.9812746,  validation RMSE: 10.918238\n",
      "Epoch 183, loss: 5.981344,  validation RMSE: 10.918087\n",
      "Epoch 184, loss: 5.981078,  validation RMSE: 10.917042\n",
      "Epoch 185, loss: 5.979675,  validation RMSE: 10.919689\n",
      "Epoch 186, loss: 5.981374,  validation RMSE: 10.918982\n",
      "Epoch 187, loss: 5.981264,  validation RMSE: 10.917038\n",
      "Epoch 188, loss: 5.9813733,  validation RMSE: 10.917335\n",
      "Epoch 189, loss: 5.9811277,  validation RMSE: 10.917992\n",
      "Epoch 190, loss: 5.9811287,  validation RMSE: 10.918076\n",
      "Epoch 191, loss: 5.981388,  validation RMSE: 10.91707\n",
      "Epoch 192, loss: 5.98126,  validation RMSE: 10.916937\n",
      "Epoch 193, loss: 5.98078,  validation RMSE: 10.91691\n",
      "Epoch 194, loss: 5.981507,  validation RMSE: 10.9171095\n",
      "Epoch 195, loss: 5.981289,  validation RMSE: 10.917362\n",
      "Epoch 196, loss: 5.9811096,  validation RMSE: 10.916895\n",
      "Epoch 197, loss: 5.9810987,  validation RMSE: 10.916932\n",
      "Epoch 198, loss: 5.9808393,  validation RMSE: 10.917142\n",
      "Epoch 199, loss: 5.9809074,  validation RMSE: 10.918333\n",
      "Epoch 200, loss: 5.9814816,  validation RMSE: 10.917264\n",
      "Epoch 201, loss: 5.9809,  validation RMSE: 10.916845\n",
      "Epoch 202, loss: 5.9809494,  validation RMSE: 10.91798\n",
      "Epoch 203, loss: 5.981202,  validation RMSE: 10.917206\n",
      "Epoch 204, loss: 5.981111,  validation RMSE: 10.917837\n"
     ]
    }
   ],
   "source": [
    "for e in range(epochs):\n",
    "    cumulative_loss = 0\n",
    "    # inner loop\n",
    "    for i, (data, label) in enumerate(train_data2):\n",
    "        data = data.as_in_context(model_ctx)\n",
    "        label = label.as_in_context(model_ctx)\n",
    "        with autograd.record():\n",
    "            output = net(data)\n",
    "            loss = square_loss(output, label)\n",
    "        loss.backward()\n",
    "        trainer.step(batch_size)\n",
    "        cumulative_loss += np.mean(loss)\n",
    "        \n",
    "    pre=net(validation_x)\n",
    "    pre=pre.reshape(-1,)\n",
    "    v_RMSE=RMSE(validation_y,pre)\n",
    "    validation_RMSE.append(v_RMSE)\n",
    "    print(\"Epoch %s, loss: %s,  validation RMSE: %s\" % (e+1, cumulative_loss / num_examples,v_RMSE))\n",
    "    loss_sequence.append(cumulative_loss)\n",
    "    \n",
    "    if len(validation_RMSE)>100:\n",
    "        if ( float(validation_RMSE[-40]) - float(validation_RMSE[-1])) <=0.001:\n",
    "            if ( float(validation_RMSE[-37]) - float(validation_RMSE[-3])) <=0.001:\n",
    "                break #early stop"
   ]
  },
  {
   "cell_type": "code",
   "execution_count": 159,
   "metadata": {},
   "outputs": [
    {
     "data": {
      "text/plain": [
       "Text(0, 0.5, 'average loss')"
      ]
     },
     "execution_count": 159,
     "metadata": {},
     "output_type": "execute_result"
    },
    {
     "data": {
      "image/png": "[encoded data removed]",
      "text/plain": [
       "<Figure size 576x432 with 1 Axes>"
      ]
     },
     "metadata": {
      "needs_background": "light"
     },
     "output_type": "display_data"
    }
   ],
   "source": [
    "# plot the convergence of the estimated loss function\n",
    "plt.figure(num=None,figsize=(8, 6))\n",
    "plt.plot(loss_sequence,label=\"loss\")\n",
    "# Adding some bells and whistles to the plot\n",
    "plt.grid(True, which=\"both\")\n",
    "plt.xlabel('epoch',fontsize=14)\n",
    "plt.ylabel('average loss',fontsize=14)"
   ]
  },
  {
   "cell_type": "code",
   "execution_count": 160,
   "metadata": {},
   "outputs": [
    {
     "data": {
      "text/plain": [
       "Text(0, 0.5, 'validation RMSE')"
      ]
     },
     "execution_count": 160,
     "metadata": {},
     "output_type": "execute_result"
    },
    {
     "data": {
      "image/png": "[encoded data removed]",
      "text/plain": [
       "<Figure size 576x432 with 1 Axes>"
      ]
     },
     "metadata": {
      "needs_background": "light"
     },
     "output_type": "display_data"
    }
   ],
   "source": [
    "# plot the convergence of the validation RMSE\n",
    "plt.figure(num=None,figsize=(8, 6))\n",
    "plt.plot(validation_RMSE,c=\"red\",label=\"validation RMSE\")\n",
    "# Adding some bells and whistles to the plot\n",
    "plt.grid(True, which=\"both\")\n",
    "plt.xlabel('epoch',fontsize=14)\n",
    "plt.ylabel('validation RMSE',fontsize=14)"
   ]
  },
  {
   "cell_type": "code",
   "execution_count": 161,
   "metadata": {},
   "outputs": [
    {
     "data": {
      "text/plain": [
       "Sequential(\n",
       "  (0): Dense(90 -> 45, Activation(relu))\n",
       "  (1): Dense(45 -> 45, Activation(relu))\n",
       "  (2): Dense(45 -> 1, linear)\n",
       ")"
      ]
     },
     "execution_count": 161,
     "metadata": {},
     "output_type": "execute_result"
    }
   ],
   "source": [
    "net"
   ]
  },
  {
   "cell_type": "code",
   "execution_count": 162,
   "metadata": {},
   "outputs": [],
   "source": [
    "pre7=net(X_test_standard)\n",
    "pre7=pre7.reshape(-1,)"
   ]
  },
  {
   "cell_type": "code",
   "execution_count": 163,
   "metadata": {},
   "outputs": [
    {
     "data": {
      "text/plain": [
       "(51630,)"
      ]
     },
     "execution_count": 163,
     "metadata": {},
     "output_type": "execute_result"
    }
   ],
   "source": [
    "pre7.shape"
   ]
  },
  {
   "cell_type": "code",
   "execution_count": 164,
   "metadata": {},
   "outputs": [
    {
     "data": {
      "text/plain": [
       "(51630,)"
      ]
     },
     "execution_count": 164,
     "metadata": {},
     "output_type": "execute_result"
    }
   ],
   "source": [
    "Y_test.shape"
   ]
  },
  {
   "cell_type": "code",
   "execution_count": 165,
   "metadata": {},
   "outputs": [
    {
     "name": "stdout",
     "output_type": "stream",
     "text": [
      "10.852086\n"
     ]
    }
   ],
   "source": [
    "#印出RMSE\n",
    "RMSE7=RMSE(Y_test,pre7)\n",
    "print(RMSE7)"
   ]
  },
  {
   "cell_type": "markdown",
   "metadata": {},
   "source": [
    "### MLP_2_ykeep_L2"
   ]
  },
  {
   "cell_type": "code",
   "execution_count": 319,
   "metadata": {},
   "outputs": [],
   "source": [
    "batch_size = 10\n",
    "train_data2 = gluon.data.DataLoader(gluon.data.ArrayDataset(subtrain_x_10000, subtrain_y_10000),\n",
    "                                      batch_size=batch_size, shuffle=True)"
   ]
  },
  {
   "cell_type": "code",
   "execution_count": 320,
   "metadata": {},
   "outputs": [],
   "source": [
    "net = nn.Sequential()\n",
    "net.add(nn.Dense(45, activation='relu'),\n",
    "        nn.Dense(45, activation='relu'),\n",
    "        nn.Dense(1))\n",
    "net.initialize(init.Normal(sigma=0.001))"
   ]
  },
  {
   "cell_type": "code",
   "execution_count": 321,
   "metadata": {},
   "outputs": [
    {
     "data": {
      "text/plain": [
       "sequential33_ (\n",
       "  Parameter dense96_weight (shape=(45, -1), dtype=float32)\n",
       "  Parameter dense96_bias (shape=(45,), dtype=float32)\n",
       "  Parameter dense97_weight (shape=(45, -1), dtype=float32)\n",
       "  Parameter dense97_bias (shape=(45,), dtype=float32)\n",
       "  Parameter dense98_weight (shape=(1, -1), dtype=float32)\n",
       "  Parameter dense98_bias (shape=(1,), dtype=float32)\n",
       ")"
      ]
     },
     "execution_count": 321,
     "metadata": {},
     "output_type": "execute_result"
    }
   ],
   "source": [
    "net.collect_params()"
   ]
  },
  {
   "cell_type": "code",
   "execution_count": 322,
   "metadata": {},
   "outputs": [],
   "source": [
    "wd=0.03"
   ]
  },
  {
   "cell_type": "code",
   "execution_count": 323,
   "metadata": {},
   "outputs": [],
   "source": [
    "square_loss = gluon.loss.L2Loss()\n",
    "trainer = gluon.Trainer(net.collect_params(), 'sgd', {'learning_rate': 0.0001,'wd': wd})\n",
    "num_examples = 10000"
   ]
  },
  {
   "cell_type": "code",
   "execution_count": 324,
   "metadata": {},
   "outputs": [],
   "source": [
    "# The bias parameter has not decayed. Bias names generally end with \"bias\"\n",
    "net.collect_params('.*bias').setattr('wd_mult', 0)"
   ]
  },
  {
   "cell_type": "code",
   "execution_count": 325,
   "metadata": {},
   "outputs": [],
   "source": [
    "epochs = 3000\n",
    "loss_sequence = []\n",
    "num_batches = num_examples / batch_size\n",
    "validation_RMSE=[]"
   ]
  },
  {
   "cell_type": "code",
   "execution_count": 326,
   "metadata": {},
   "outputs": [
    {
     "name": "stdout",
     "output_type": "stream",
     "text": [
      "Epoch 1, loss: 4568685.0,  validation RMSE: 1822.934\n",
      "Epoch 2, loss: 150608.75,  validation RMSE: 1649.457\n",
      "Epoch 3, loss: 123308.016,  validation RMSE: 1492.4902\n",
      "Epoch 4, loss: 100956.19,  validation RMSE: 1350.462\n",
      "Epoch 5, loss: 82656.24,  validation RMSE: 1221.9514\n",
      "Epoch 6, loss: 67673.59,  validation RMSE: 1105.6716\n",
      "Epoch 7, loss: 55407.035,  validation RMSE: 1000.4577\n",
      "Epoch 8, loss: 45364.0,  validation RMSE: 905.25964\n",
      "Epoch 9, loss: 37141.754,  validation RMSE: 819.1235\n",
      "Epoch 10, loss: 30409.945,  validation RMSE: 741.18414\n",
      "Epoch 11, loss: 24898.35,  validation RMSE: 670.6623\n",
      "Epoch 12, loss: 20385.924,  validation RMSE: 606.85626\n",
      "Epoch 13, loss: 16691.562,  validation RMSE: 549.12305\n",
      "Epoch 14, loss: 13666.864,  validation RMSE: 496.88763\n",
      "Epoch 15, loss: 11190.556,  validation RMSE: 449.6246\n",
      "Epoch 16, loss: 9163.067,  validation RMSE: 406.86328\n",
      "Epoch 17, loss: 7503.118,  validation RMSE: 368.17157\n",
      "Epoch 18, loss: 6144.03,  validation RMSE: 333.1648\n",
      "Epoch 19, loss: 5031.3154,  validation RMSE: 301.4939\n",
      "Epoch 20, loss: 4120.33,  validation RMSE: 272.84027\n",
      "Epoch 21, loss: 3374.485,  validation RMSE: 246.91914\n",
      "Epoch 22, loss: 2763.8804,  validation RMSE: 223.46957\n",
      "Epoch 23, loss: 2263.9397,  validation RMSE: 202.2558\n",
      "Epoch 24, loss: 1854.6202,  validation RMSE: 183.06546\n",
      "Epoch 25, loss: 1519.496,  validation RMSE: 165.70906\n",
      "Epoch 26, loss: 1245.1285,  validation RMSE: 150.00957\n",
      "Epoch 27, loss: 1020.4825,  validation RMSE: 135.81241\n",
      "Epoch 28, loss: 836.5664,  validation RMSE: 122.973495\n",
      "Epoch 29, loss: 685.9928,  validation RMSE: 111.366905\n",
      "Epoch 30, loss: 562.71466,  validation RMSE: 100.87581\n",
      "Epoch 31, loss: 461.79724,  validation RMSE: 91.39404\n",
      "Epoch 32, loss: 379.16275,  validation RMSE: 82.82504\n",
      "Epoch 33, loss: 311.50476,  validation RMSE: 75.08637\n",
      "Epoch 34, loss: 256.1227,  validation RMSE: 68.0995\n",
      "Epoch 35, loss: 210.78258,  validation RMSE: 61.795044\n",
      "Epoch 36, loss: 173.65646,  validation RMSE: 56.106445\n",
      "Epoch 37, loss: 143.2621,  validation RMSE: 50.9788\n",
      "Epoch 38, loss: 118.37747,  validation RMSE: 46.361526\n",
      "Epoch 39, loss: 98.00668,  validation RMSE: 42.20727\n",
      "Epoch 40, loss: 81.32565,  validation RMSE: 38.472393\n",
      "Epoch 41, loss: 67.668045,  validation RMSE: 35.119877\n",
      "Epoch 42, loss: 56.4853,  validation RMSE: 32.115482\n",
      "Epoch 43, loss: 47.330414,  validation RMSE: 29.428757\n",
      "Epoch 44, loss: 39.836708,  validation RMSE: 27.031569\n",
      "Epoch 45, loss: 33.700935,  validation RMSE: 24.89741\n",
      "Epoch 46, loss: 28.676981,  validation RMSE: 23.001932\n",
      "Epoch 47, loss: 24.564451,  validation RMSE: 21.327623\n",
      "Epoch 48, loss: 21.197996,  validation RMSE: 19.849722\n",
      "Epoch 49, loss: 18.438986,  validation RMSE: 18.552864\n",
      "Epoch 50, loss: 16.181345,  validation RMSE: 17.418243\n",
      "Epoch 51, loss: 14.330539,  validation RMSE: 16.43184\n",
      "Epoch 52, loss: 12.816802,  validation RMSE: 15.578456\n",
      "Epoch 53, loss: 11.57802,  validation RMSE: 14.842384\n",
      "Epoch 54, loss: 10.564224,  validation RMSE: 14.21263\n",
      "Epoch 55, loss: 9.734384,  validation RMSE: 13.675111\n",
      "Epoch 56, loss: 9.053899,  validation RMSE: 13.217476\n",
      "Epoch 57, loss: 8.496031,  validation RMSE: 12.831202\n",
      "Epoch 58, loss: 8.040711,  validation RMSE: 12.506709\n",
      "Epoch 59, loss: 7.667199,  validation RMSE: 12.234486\n",
      "Epoch 60, loss: 7.3617196,  validation RMSE: 12.006654\n",
      "Epoch 61, loss: 7.111739,  validation RMSE: 11.817179\n",
      "Epoch 62, loss: 6.907132,  validation RMSE: 11.66027\n",
      "Epoch 63, loss: 6.7401695,  validation RMSE: 11.530532\n",
      "Epoch 64, loss: 6.6031733,  validation RMSE: 11.422313\n",
      "Epoch 65, loss: 6.490778,  validation RMSE: 11.333193\n",
      "Epoch 66, loss: 6.398469,  validation RMSE: 11.25946\n",
      "Epoch 67, loss: 6.3231134,  validation RMSE: 11.198961\n",
      "Epoch 68, loss: 6.261276,  validation RMSE: 11.149107\n",
      "Epoch 69, loss: 6.2110043,  validation RMSE: 11.108239\n",
      "Epoch 70, loss: 6.169628,  validation RMSE: 11.074681\n",
      "Epoch 71, loss: 6.1359105,  validation RMSE: 11.047103\n",
      "Epoch 72, loss: 6.1081223,  validation RMSE: 11.024252\n",
      "Epoch 73, loss: 6.085303,  validation RMSE: 11.005852\n",
      "Epoch 74, loss: 6.0668163,  validation RMSE: 10.990593\n",
      "Epoch 75, loss: 6.051489,  validation RMSE: 10.978048\n",
      "Epoch 76, loss: 6.039101,  validation RMSE: 10.967876\n",
      "Epoch 77, loss: 6.028774,  validation RMSE: 10.959341\n",
      "Epoch 78, loss: 6.0205064,  validation RMSE: 10.952654\n",
      "Epoch 79, loss: 6.01374,  validation RMSE: 10.94707\n",
      "Epoch 80, loss: 6.0080857,  validation RMSE: 10.942396\n",
      "Epoch 81, loss: 6.003448,  validation RMSE: 10.938598\n",
      "Epoch 82, loss: 5.999687,  validation RMSE: 10.935468\n",
      "Epoch 83, loss: 5.99658,  validation RMSE: 10.932941\n",
      "Epoch 84, loss: 5.9939923,  validation RMSE: 10.93078\n",
      "Epoch 85, loss: 5.9918513,  validation RMSE: 10.928989\n",
      "Epoch 86, loss: 5.990055,  validation RMSE: 10.92757\n",
      "Epoch 87, loss: 5.988632,  validation RMSE: 10.926397\n",
      "Epoch 88, loss: 5.987555,  validation RMSE: 10.925561\n",
      "Epoch 89, loss: 5.986671,  validation RMSE: 10.924799\n",
      "Epoch 90, loss: 5.985907,  validation RMSE: 10.924177\n",
      "Epoch 91, loss: 5.9852986,  validation RMSE: 10.923697\n",
      "Epoch 92, loss: 5.9847856,  validation RMSE: 10.923245\n",
      "Epoch 93, loss: 5.984345,  validation RMSE: 10.922919\n",
      "Epoch 94, loss: 5.984043,  validation RMSE: 10.92267\n",
      "Epoch 95, loss: 5.9837756,  validation RMSE: 10.922487\n",
      "Epoch 96, loss: 5.983583,  validation RMSE: 10.922288\n",
      "Epoch 97, loss: 5.9833837,  validation RMSE: 10.922135\n",
      "Epoch 98, loss: 5.983237,  validation RMSE: 10.92202\n",
      "Epoch 99, loss: 5.983115,  validation RMSE: 10.921914\n",
      "Epoch 100, loss: 5.982992,  validation RMSE: 10.921811\n",
      "Epoch 101, loss: 5.9828916,  validation RMSE: 10.921747\n",
      "Epoch 102, loss: 5.98283,  validation RMSE: 10.921683\n",
      "Epoch 103, loss: 5.9827685,  validation RMSE: 10.9216385\n",
      "Epoch 104, loss: 5.9827204,  validation RMSE: 10.921592\n",
      "Epoch 105, loss: 5.982663,  validation RMSE: 10.921565\n",
      "Epoch 106, loss: 5.982638,  validation RMSE: 10.921539\n",
      "Epoch 107, loss: 5.9826193,  validation RMSE: 10.921526\n",
      "Epoch 108, loss: 5.9826045,  validation RMSE: 10.92151\n",
      "Epoch 109, loss: 5.982586,  validation RMSE: 10.921495\n",
      "Epoch 110, loss: 5.9825635,  validation RMSE: 10.921482\n",
      "Epoch 111, loss: 5.9825573,  validation RMSE: 10.921474\n",
      "Epoch 112, loss: 5.982548,  validation RMSE: 10.921465\n",
      "Epoch 113, loss: 5.982544,  validation RMSE: 10.921461\n",
      "Epoch 114, loss: 5.982526,  validation RMSE: 10.921453\n",
      "Epoch 115, loss: 5.982518,  validation RMSE: 10.921451\n",
      "Epoch 116, loss: 5.9825087,  validation RMSE: 10.921448\n",
      "Epoch 117, loss: 5.982506,  validation RMSE: 10.921449\n",
      "Epoch 118, loss: 5.98252,  validation RMSE: 10.921446\n",
      "Epoch 119, loss: 5.982519,  validation RMSE: 10.921444\n",
      "Epoch 120, loss: 5.9825163,  validation RMSE: 10.921444\n",
      "Epoch 121, loss: 5.982512,  validation RMSE: 10.921444\n",
      "Epoch 122, loss: 5.98251,  validation RMSE: 10.921444\n",
      "Epoch 123, loss: 5.982505,  validation RMSE: 10.921442\n",
      "Epoch 124, loss: 5.9825106,  validation RMSE: 10.921441\n",
      "Epoch 125, loss: 5.982496,  validation RMSE: 10.92144\n",
      "Epoch 126, loss: 5.9825096,  validation RMSE: 10.92144\n",
      "Epoch 127, loss: 5.9824996,  validation RMSE: 10.92144\n",
      "Epoch 128, loss: 5.9824934,  validation RMSE: 10.92144\n",
      "Epoch 129, loss: 5.9824896,  validation RMSE: 10.92144\n",
      "Epoch 130, loss: 5.9825125,  validation RMSE: 10.92144\n",
      "Epoch 131, loss: 5.9825125,  validation RMSE: 10.92144\n",
      "Epoch 132, loss: 5.9824967,  validation RMSE: 10.92144\n",
      "Epoch 133, loss: 5.982498,  validation RMSE: 10.92144\n",
      "Epoch 134, loss: 5.982516,  validation RMSE: 10.921439\n",
      "Epoch 135, loss: 5.982514,  validation RMSE: 10.921439\n"
     ]
    }
   ],
   "source": [
    "for e in range(epochs):\n",
    "    cumulative_loss = 0\n",
    "    # inner loop\n",
    "    for i, (data, label) in enumerate(train_data2):\n",
    "        data = data.as_in_context(model_ctx)\n",
    "        label = label.as_in_context(model_ctx)\n",
    "        with autograd.record():\n",
    "            output = net(data)\n",
    "            loss = square_loss(output, label)\n",
    "        loss.backward()\n",
    "        trainer.step(batch_size)\n",
    "        cumulative_loss += np.mean(loss)\n",
    "        \n",
    "    pre=net(validation_x)\n",
    "    pre=pre.reshape(-1,)\n",
    "    v_RMSE=RMSE(validation_y,pre)\n",
    "    validation_RMSE.append(v_RMSE)\n",
    "    print(\"Epoch %s, loss: %s,  validation RMSE: %s\" % (e+1, cumulative_loss / num_examples,v_RMSE))\n",
    "    loss_sequence.append(cumulative_loss)\n",
    "    \n",
    "    if len(validation_RMSE)>100:\n",
    "        if ( float(validation_RMSE[-40]) - float(validation_RMSE[-1])) <=0.001:\n",
    "            if ( float(validation_RMSE[-37]) - float(validation_RMSE[-3])) <=0.001:\n",
    "                break #early stop"
   ]
  },
  {
   "cell_type": "code",
   "execution_count": 327,
   "metadata": {},
   "outputs": [
    {
     "data": {
      "text/plain": [
       "Text(0, 0.5, 'average loss')"
      ]
     },
     "execution_count": 327,
     "metadata": {},
     "output_type": "execute_result"
    },
    {
     "data": {
      "image/png": "[encoded data removed]",
      "text/plain": [
       "<Figure size 576x432 with 1 Axes>"
      ]
     },
     "metadata": {
      "needs_background": "light"
     },
     "output_type": "display_data"
    }
   ],
   "source": [
    "# plot the convergence of the estimated loss function\n",
    "plt.figure(num=None,figsize=(8, 6))\n",
    "plt.plot(loss_sequence,label=\"loss\")\n",
    "# Adding some bells and whistles to the plot\n",
    "plt.grid(True, which=\"both\")\n",
    "plt.xlabel('epoch',fontsize=14)\n",
    "plt.ylabel('average loss',fontsize=14)"
   ]
  },
  {
   "cell_type": "code",
   "execution_count": 328,
   "metadata": {},
   "outputs": [
    {
     "data": {
      "text/plain": [
       "Text(0, 0.5, 'validation RMSE')"
      ]
     },
     "execution_count": 328,
     "metadata": {},
     "output_type": "execute_result"
    },
    {
     "data": {
      "image/png": "[encoded data removed]",
      "text/plain": [
       "<Figure size 576x432 with 1 Axes>"
      ]
     },
     "metadata": {
      "needs_background": "light"
     },
     "output_type": "display_data"
    }
   ],
   "source": [
    "# plot the convergence of the validation RMSE\n",
    "plt.figure(num=None,figsize=(8, 6))\n",
    "plt.plot(validation_RMSE,c=\"red\",label=\"validation RMSE\")\n",
    "# Adding some bells and whistles to the plot\n",
    "plt.grid(True, which=\"both\")\n",
    "plt.xlabel('epoch',fontsize=14)\n",
    "plt.ylabel('validation RMSE',fontsize=14)"
   ]
  },
  {
   "cell_type": "code",
   "execution_count": 329,
   "metadata": {},
   "outputs": [
    {
     "data": {
      "text/plain": [
       "Sequential(\n",
       "  (0): Dense(90 -> 45, Activation(relu))\n",
       "  (1): Dense(45 -> 45, Activation(relu))\n",
       "  (2): Dense(45 -> 1, linear)\n",
       ")"
      ]
     },
     "execution_count": 329,
     "metadata": {},
     "output_type": "execute_result"
    }
   ],
   "source": [
    "net"
   ]
  },
  {
   "cell_type": "code",
   "execution_count": 330,
   "metadata": {},
   "outputs": [],
   "source": [
    "pre8=net(X_test_standard)\n",
    "pre8=pre8.reshape(-1,)"
   ]
  },
  {
   "cell_type": "code",
   "execution_count": 331,
   "metadata": {},
   "outputs": [
    {
     "name": "stdout",
     "output_type": "stream",
     "text": [
      "10.85267\n"
     ]
    }
   ],
   "source": [
    "#印出RMSE\n",
    "RMSE8=RMSE(Y_test,pre8)\n",
    "print(RMSE8)"
   ]
  },
  {
   "cell_type": "markdown",
   "metadata": {},
   "source": [
    "### MLP_2_ykeep_dropout\t"
   ]
  },
  {
   "cell_type": "code",
   "execution_count": 575,
   "metadata": {},
   "outputs": [],
   "source": [
    "batch_size = 10\n",
    "train_data2 = gluon.data.DataLoader(gluon.data.ArrayDataset(subtrain_x_10000, subtrain_y_10000),\n",
    "                                      batch_size=batch_size, shuffle=True)"
   ]
  },
  {
   "cell_type": "code",
   "execution_count": 576,
   "metadata": {},
   "outputs": [],
   "source": [
    "dropout1, dropout2 = 0.5 , 0.5"
   ]
  },
  {
   "cell_type": "code",
   "execution_count": 577,
   "metadata": {},
   "outputs": [],
   "source": [
    "net = nn.Sequential()\n",
    "net.add(nn.Dense(45, activation='relu'),\n",
    "         # Add a dropout layer after the first fully connected layer\n",
    "        nn.Dropout(dropout1),\n",
    "        nn.Dense(45, activation='relu'),\n",
    "        # Add a dropout layer after the second fully connected layer\n",
    "        nn.Dropout(dropout2),\n",
    "        nn.Dense(1))"
   ]
  },
  {
   "cell_type": "code",
   "execution_count": 578,
   "metadata": {},
   "outputs": [],
   "source": [
    "net.initialize(init.Normal(sigma=0.001))"
   ]
  },
  {
   "cell_type": "code",
   "execution_count": 579,
   "metadata": {},
   "outputs": [
    {
     "data": {
      "text/plain": [
       "sequential62_ (\n",
       "  Parameter dense183_weight (shape=(45, -1), dtype=float32)\n",
       "  Parameter dense183_bias (shape=(45,), dtype=float32)\n",
       "  Parameter dense184_weight (shape=(45, -1), dtype=float32)\n",
       "  Parameter dense184_bias (shape=(45,), dtype=float32)\n",
       "  Parameter dense185_weight (shape=(1, -1), dtype=float32)\n",
       "  Parameter dense185_bias (shape=(1,), dtype=float32)\n",
       ")"
      ]
     },
     "execution_count": 579,
     "metadata": {},
     "output_type": "execute_result"
    }
   ],
   "source": [
    "net.collect_params()"
   ]
  },
  {
   "cell_type": "code",
   "execution_count": 580,
   "metadata": {},
   "outputs": [],
   "source": [
    "square_loss = gluon.loss.L2Loss()\n",
    "trainer = gluon.Trainer(net.collect_params(), 'sgd', {'learning_rate': 0.000001})\n",
    "num_examples = 10000"
   ]
  },
  {
   "cell_type": "code",
   "execution_count": 581,
   "metadata": {},
   "outputs": [],
   "source": [
    "epochs = 3000\n",
    "loss_sequence = []\n",
    "num_batches = num_examples / batch_size\n",
    "validation_RMSE=[]"
   ]
  },
  {
   "cell_type": "code",
   "execution_count": 582,
   "metadata": {},
   "outputs": [
    {
     "name": "stdout",
     "output_type": "stream",
     "text": [
      "Epoch 1, loss: 199480.69,  validation RMSE: 1996.3987\n",
      "Epoch 2, loss: 199081.44,  validation RMSE: 1994.3898\n",
      "Epoch 3, loss: 198647.83,  validation RMSE: 1991.664\n",
      "Epoch 4, loss: 182157.97,  validation RMSE: 823.1388\n",
      "Epoch 5, loss: 27277.92,  validation RMSE: 260.59274\n",
      "Epoch 6, loss: 17052.932,  validation RMSE: 216.57951\n",
      "Epoch 7, loss: 14512.474,  validation RMSE: 193.401\n",
      "Epoch 8, loss: 14703.401,  validation RMSE: 171.61671\n",
      "Epoch 9, loss: 12305.237,  validation RMSE: 177.24324\n",
      "Epoch 10, loss: 11253.699,  validation RMSE: 150.52039\n",
      "Epoch 11, loss: 11908.033,  validation RMSE: 154.68468\n",
      "Epoch 12, loss: 10280.371,  validation RMSE: 145.56956\n",
      "Epoch 13, loss: 10325.203,  validation RMSE: 130.66933\n",
      "Epoch 14, loss: 9505.181,  validation RMSE: 147.72528\n",
      "Epoch 15, loss: 9547.106,  validation RMSE: 93.84193\n",
      "Epoch 16, loss: 9435.206,  validation RMSE: 115.47801\n",
      "Epoch 17, loss: 8969.498,  validation RMSE: 112.375084\n",
      "Epoch 18, loss: 9182.673,  validation RMSE: 78.33377\n",
      "Epoch 19, loss: 8986.698,  validation RMSE: 145.37755\n",
      "Epoch 20, loss: 8594.732,  validation RMSE: 66.30912\n",
      "Epoch 21, loss: 8469.039,  validation RMSE: 82.90643\n",
      "Epoch 22, loss: 8616.927,  validation RMSE: 97.18928\n",
      "Epoch 23, loss: 8373.677,  validation RMSE: 120.985756\n",
      "Epoch 24, loss: 8411.334,  validation RMSE: 130.6378\n",
      "Epoch 25, loss: 8226.358,  validation RMSE: 92.62813\n",
      "Epoch 26, loss: 8163.7,  validation RMSE: 132.07025\n",
      "Epoch 27, loss: 8168.575,  validation RMSE: 93.58582\n",
      "Epoch 28, loss: 8008.964,  validation RMSE: 75.87432\n",
      "Epoch 29, loss: 7956.8145,  validation RMSE: 120.771\n",
      "Epoch 30, loss: 8158.4014,  validation RMSE: 113.10946\n",
      "Epoch 31, loss: 7799.8633,  validation RMSE: 54.69001\n",
      "Epoch 32, loss: 7888.436,  validation RMSE: 82.07707\n",
      "Epoch 33, loss: 7703.583,  validation RMSE: 53.733143\n",
      "Epoch 34, loss: 7793.723,  validation RMSE: 149.70132\n",
      "Epoch 35, loss: 7577.3994,  validation RMSE: 60.369858\n",
      "Epoch 36, loss: 7433.2246,  validation RMSE: 84.07302\n",
      "Epoch 37, loss: 7683.3193,  validation RMSE: 94.056786\n",
      "Epoch 38, loss: 7539.173,  validation RMSE: 55.383648\n",
      "Epoch 39, loss: 7364.099,  validation RMSE: 72.6093\n",
      "Epoch 40, loss: 7547.0786,  validation RMSE: 115.29649\n",
      "Epoch 41, loss: 7156.085,  validation RMSE: 144.94066\n",
      "Epoch 42, loss: 7064.115,  validation RMSE: 169.37044\n",
      "Epoch 43, loss: 7047.115,  validation RMSE: 80.00221\n",
      "Epoch 44, loss: 7045.9297,  validation RMSE: 130.25594\n",
      "Epoch 45, loss: 6835.312,  validation RMSE: 89.351494\n",
      "Epoch 46, loss: 6968.649,  validation RMSE: 54.106033\n",
      "Epoch 47, loss: 6573.4736,  validation RMSE: 47.95165\n",
      "Epoch 48, loss: 6814.926,  validation RMSE: 97.43107\n",
      "Epoch 49, loss: 6601.7866,  validation RMSE: 131.97797\n",
      "Epoch 50, loss: 6368.55,  validation RMSE: 145.93762\n",
      "Epoch 51, loss: 6229.2334,  validation RMSE: 76.990974\n",
      "Epoch 52, loss: 6253.132,  validation RMSE: 92.663864\n",
      "Epoch 53, loss: 6196.718,  validation RMSE: 43.09991\n",
      "Epoch 54, loss: 6183.284,  validation RMSE: 57.5685\n",
      "Epoch 55, loss: 6016.2,  validation RMSE: 97.2525\n",
      "Epoch 56, loss: 6090.623,  validation RMSE: 104.2567\n",
      "Epoch 57, loss: 5901.893,  validation RMSE: 112.28224\n",
      "Epoch 58, loss: 6074.41,  validation RMSE: 57.3626\n",
      "Epoch 59, loss: 6006.1914,  validation RMSE: 63.20601\n",
      "Epoch 60, loss: 5827.869,  validation RMSE: 37.907246\n",
      "Epoch 61, loss: 5867.1553,  validation RMSE: 74.344444\n",
      "Epoch 62, loss: 5677.434,  validation RMSE: 61.447887\n",
      "Epoch 63, loss: 5616.016,  validation RMSE: 77.57326\n",
      "Epoch 64, loss: 5744.3604,  validation RMSE: 85.87574\n",
      "Epoch 65, loss: 5584.0557,  validation RMSE: 42.51375\n",
      "Epoch 66, loss: 5426.1514,  validation RMSE: 33.73132\n",
      "Epoch 67, loss: 5387.9126,  validation RMSE: 61.295723\n",
      "Epoch 68, loss: 5437.841,  validation RMSE: 108.45022\n",
      "Epoch 69, loss: 5270.975,  validation RMSE: 40.75916\n",
      "Epoch 70, loss: 5466.263,  validation RMSE: 41.312664\n",
      "Epoch 71, loss: 5235.652,  validation RMSE: 147.03273\n",
      "Epoch 72, loss: 5221.18,  validation RMSE: 84.471054\n",
      "Epoch 73, loss: 5214.0703,  validation RMSE: 58.462868\n",
      "Epoch 74, loss: 5222.0625,  validation RMSE: 142.98734\n",
      "Epoch 75, loss: 5204.521,  validation RMSE: 102.53778\n",
      "Epoch 76, loss: 5072.1836,  validation RMSE: 39.7981\n",
      "Epoch 77, loss: 5107.8594,  validation RMSE: 128.99655\n",
      "Epoch 78, loss: 5012.0386,  validation RMSE: 74.60854\n",
      "Epoch 79, loss: 5152.311,  validation RMSE: 119.395935\n",
      "Epoch 80, loss: 5000.858,  validation RMSE: 87.2171\n",
      "Epoch 81, loss: 5110.7017,  validation RMSE: 74.15341\n",
      "Epoch 82, loss: 5069.114,  validation RMSE: 50.024204\n",
      "Epoch 83, loss: 4931.7046,  validation RMSE: 29.365274\n",
      "Epoch 84, loss: 5120.442,  validation RMSE: 40.189045\n",
      "Epoch 85, loss: 4863.09,  validation RMSE: 60.111946\n",
      "Epoch 86, loss: 4967.6353,  validation RMSE: 63.986004\n",
      "Epoch 87, loss: 4998.7554,  validation RMSE: 25.767374\n",
      "Epoch 88, loss: 4886.9707,  validation RMSE: 39.666664\n",
      "Epoch 89, loss: 4887.3677,  validation RMSE: 143.66576\n",
      "Epoch 90, loss: 5019.507,  validation RMSE: 38.829636\n",
      "Epoch 91, loss: 4811.593,  validation RMSE: 87.17199\n",
      "Epoch 92, loss: 4968.2886,  validation RMSE: 89.012726\n",
      "Epoch 93, loss: 4947.9946,  validation RMSE: 81.438126\n",
      "Epoch 94, loss: 4932.5166,  validation RMSE: 45.373596\n",
      "Epoch 95, loss: 4851.851,  validation RMSE: 25.858984\n",
      "Epoch 96, loss: 4900.362,  validation RMSE: 74.78347\n",
      "Epoch 97, loss: 4762.4023,  validation RMSE: 67.20919\n",
      "Epoch 98, loss: 4859.0947,  validation RMSE: 68.599365\n",
      "Epoch 99, loss: 4753.5703,  validation RMSE: 81.526566\n",
      "Epoch 100, loss: 4788.012,  validation RMSE: 66.78019\n",
      "Epoch 101, loss: 4867.224,  validation RMSE: 33.224236\n",
      "Epoch 102, loss: 4825.472,  validation RMSE: 92.41101\n"
     ]
    }
   ],
   "source": [
    "for e in range(epochs):\n",
    "    cumulative_loss = 0\n",
    "    # inner loop\n",
    "    for i, (data, label) in enumerate(train_data2):\n",
    "        data = data.as_in_context(model_ctx)\n",
    "        label = label.as_in_context(model_ctx)\n",
    "        with autograd.record():\n",
    "            output = net(data)\n",
    "            loss = square_loss(output, label)\n",
    "        loss.backward()\n",
    "        trainer.step(batch_size)\n",
    "        cumulative_loss += np.mean(loss)\n",
    "        \n",
    "    pre=net(validation_x)\n",
    "    pre=pre.reshape(-1,)\n",
    "    v_RMSE=RMSE(validation_y,pre)\n",
    "    validation_RMSE.append(v_RMSE)\n",
    "    print(\"Epoch %s, loss: %s,  validation RMSE: %s\" % (e+1, cumulative_loss / num_examples,v_RMSE))\n",
    "    loss_sequence.append(cumulative_loss)\n",
    "    \n",
    "    if len(validation_RMSE)>100:\n",
    "        if ( float(validation_RMSE[-40]) - float(validation_RMSE[-1])) <=0.001:\n",
    "            if ( float(validation_RMSE[-37]) - float(validation_RMSE[-3])) <=0.001:\n",
    "                break #early stop"
   ]
  },
  {
   "cell_type": "code",
   "execution_count": 583,
   "metadata": {},
   "outputs": [
    {
     "data": {
      "text/plain": [
       "Text(0, 0.5, 'average loss')"
      ]
     },
     "execution_count": 583,
     "metadata": {},
     "output_type": "execute_result"
    },
    {
     "data": {
      "image/png": "[encoded data removed]",
      "text/plain": [
       "<Figure size 576x432 with 1 Axes>"
      ]
     },
     "metadata": {
      "needs_background": "light"
     },
     "output_type": "display_data"
    }
   ],
   "source": [
    "# plot the convergence of the estimated loss function\n",
    "plt.figure(num=None,figsize=(8, 6))\n",
    "plt.plot(loss_sequence,label=\"loss\")\n",
    "# Adding some bells and whistles to the plot\n",
    "plt.grid(True, which=\"both\")\n",
    "plt.xlabel('epoch',fontsize=14)\n",
    "plt.ylabel('average loss',fontsize=14)"
   ]
  },
  {
   "cell_type": "code",
   "execution_count": 584,
   "metadata": {},
   "outputs": [
    {
     "data": {
      "text/plain": [
       "Text(0, 0.5, 'validation RMSE')"
      ]
     },
     "execution_count": 584,
     "metadata": {},
     "output_type": "execute_result"
    },
    {
     "data": {
      "image/png": "[encoded data removed]",
      "text/plain": [
       "<Figure size 576x432 with 1 Axes>"
      ]
     },
     "metadata": {
      "needs_background": "light"
     },
     "output_type": "display_data"
    }
   ],
   "source": [
    "# plot the convergence of the validation RMSE\n",
    "plt.figure(num=None,figsize=(8, 6))\n",
    "plt.plot(validation_RMSE,c=\"red\",label=\"validation RMSE\")\n",
    "# Adding some bells and whistles to the plot\n",
    "plt.grid(True, which=\"both\")\n",
    "plt.xlabel('epoch',fontsize=14)\n",
    "plt.ylabel('validation RMSE',fontsize=14)"
   ]
  },
  {
   "cell_type": "code",
   "execution_count": 585,
   "metadata": {},
   "outputs": [
    {
     "data": {
      "text/plain": [
       "Sequential(\n",
       "  (0): Dense(90 -> 45, Activation(relu))\n",
       "  (1): Dropout(p = 0.5, axes=())\n",
       "  (2): Dense(45 -> 45, Activation(relu))\n",
       "  (3): Dropout(p = 0.5, axes=())\n",
       "  (4): Dense(45 -> 1, linear)\n",
       ")"
      ]
     },
     "execution_count": 585,
     "metadata": {},
     "output_type": "execute_result"
    }
   ],
   "source": [
    "net"
   ]
  },
  {
   "cell_type": "code",
   "execution_count": 586,
   "metadata": {},
   "outputs": [],
   "source": [
    "pre9=net(X_test_standard)\n",
    "pre9=pre9.reshape(-1,)"
   ]
  },
  {
   "cell_type": "code",
   "execution_count": 587,
   "metadata": {},
   "outputs": [
    {
     "data": {
      "text/plain": [
       "array([1907.7885, 1898.3359, 1921.6045, ..., 1914.984 , 1897.6555,\n",
       "       1887.128 ])"
      ]
     },
     "execution_count": 587,
     "metadata": {},
     "output_type": "execute_result"
    }
   ],
   "source": [
    "pre9"
   ]
  },
  {
   "cell_type": "code",
   "execution_count": 588,
   "metadata": {},
   "outputs": [
    {
     "name": "stdout",
     "output_type": "stream",
     "text": [
      "92.87263\n"
     ]
    }
   ],
   "source": [
    "#印出RMSE\n",
    "RMSE9=RMSE(Y_test,pre9)\n",
    "print(RMSE9)"
   ]
  },
  {
   "cell_type": "markdown",
   "metadata": {},
   "source": [
    "### MLP_2_dm_dropout_full"
   ]
  },
  {
   "cell_type": "code",
   "execution_count": 613,
   "metadata": {},
   "outputs": [],
   "source": [
    "batch_size = 100\n",
    "train_data3 = gluon.data.DataLoader(gluon.data.ArrayDataset(subtrain_x, subtrain_y_demean),\n",
    "                                      batch_size=batch_size, shuffle=True)"
   ]
  },
  {
   "cell_type": "code",
   "execution_count": 614,
   "metadata": {},
   "outputs": [],
   "source": [
    "dropout1, dropout2 = 0.5 , 0.5"
   ]
  },
  {
   "cell_type": "code",
   "execution_count": 615,
   "metadata": {},
   "outputs": [],
   "source": [
    "net = nn.Sequential()\n",
    "net.add(nn.Dense(45, activation='relu'),\n",
    "         # Add a dropout layer after the first fully connected layer\n",
    "        nn.Dropout(dropout1),\n",
    "        nn.Dense(45, activation='relu'),\n",
    "        # Add a dropout layer after the second fully connected layer\n",
    "        nn.Dropout(dropout2),\n",
    "        nn.Dense(1))"
   ]
  },
  {
   "cell_type": "code",
   "execution_count": 616,
   "metadata": {},
   "outputs": [],
   "source": [
    "net.initialize(init.Normal(sigma=0.01))"
   ]
  },
  {
   "cell_type": "code",
   "execution_count": 617,
   "metadata": {},
   "outputs": [
    {
     "data": {
      "text/plain": [
       "sequential66_ (\n",
       "  Parameter dense195_weight (shape=(45, -1), dtype=float32)\n",
       "  Parameter dense195_bias (shape=(45,), dtype=float32)\n",
       "  Parameter dense196_weight (shape=(45, -1), dtype=float32)\n",
       "  Parameter dense196_bias (shape=(45,), dtype=float32)\n",
       "  Parameter dense197_weight (shape=(1, -1), dtype=float32)\n",
       "  Parameter dense197_bias (shape=(1,), dtype=float32)\n",
       ")"
      ]
     },
     "execution_count": 617,
     "metadata": {},
     "output_type": "execute_result"
    }
   ],
   "source": [
    "net.collect_params()"
   ]
  },
  {
   "cell_type": "code",
   "execution_count": 631,
   "metadata": {},
   "outputs": [],
   "source": [
    "square_loss = gluon.loss.L2Loss()\n",
    "trainer = gluon.Trainer(net.collect_params(), 'sgd', {'learning_rate': 0.0001})\n",
    "num_examples = len(subtrain_x)"
   ]
  },
  {
   "cell_type": "code",
   "execution_count": 619,
   "metadata": {},
   "outputs": [],
   "source": [
    "epochs = 50\n",
    "loss_sequence = []\n",
    "num_batches = num_examples / batch_size\n",
    "validation_RMSE=[]"
   ]
  },
  {
   "cell_type": "code",
   "execution_count": 620,
   "metadata": {},
   "outputs": [
    {
     "name": "stdout",
     "output_type": "stream",
     "text": [
      "Epoch 1, loss: 0.5987284,  validation RMSE: 10.920958\n",
      "Epoch 2, loss: 0.5507234,  validation RMSE: 9.213392\n",
      "Epoch 3, loss: 0.44042802,  validation RMSE: 9.003743\n",
      "Epoch 4, loss: 0.42728764,  validation RMSE: 8.891505\n",
      "Epoch 5, loss: 0.42099416,  validation RMSE: 8.849994\n",
      "Epoch 6, loss: 0.41856828,  validation RMSE: 8.844035\n",
      "Epoch 7, loss: 0.41556713,  validation RMSE: 8.794021\n",
      "Epoch 8, loss: 0.41424128,  validation RMSE: 8.794624\n",
      "Epoch 9, loss: 0.41319162,  validation RMSE: 8.814263\n",
      "Epoch 10, loss: 0.41149595,  validation RMSE: 8.773685\n",
      "Epoch 11, loss: 0.41129714,  validation RMSE: 8.773925\n",
      "Epoch 12, loss: 0.41112253,  validation RMSE: 8.756505\n",
      "Epoch 13, loss: 0.41019598,  validation RMSE: 8.780356\n",
      "Epoch 14, loss: 0.409926,  validation RMSE: 8.745885\n",
      "Epoch 15, loss: 0.40932834,  validation RMSE: 8.759244\n",
      "Epoch 16, loss: 0.40882304,  validation RMSE: 8.732048\n",
      "Epoch 17, loss: 0.4085674,  validation RMSE: 8.745572\n",
      "Epoch 18, loss: 0.40858215,  validation RMSE: 8.749394\n",
      "Epoch 19, loss: 0.4082569,  validation RMSE: 8.760782\n",
      "Epoch 20, loss: 0.40810114,  validation RMSE: 8.774401\n",
      "Epoch 21, loss: 0.40799284,  validation RMSE: 8.744309\n",
      "Epoch 22, loss: 0.40751585,  validation RMSE: 8.751492\n",
      "Epoch 23, loss: 0.40824327,  validation RMSE: 8.734699\n",
      "Epoch 24, loss: 0.40730676,  validation RMSE: 8.750431\n",
      "Epoch 25, loss: 0.40724936,  validation RMSE: 8.730988\n",
      "Epoch 26, loss: 0.4064741,  validation RMSE: 8.730807\n",
      "Epoch 27, loss: 0.40635806,  validation RMSE: 8.740765\n",
      "Epoch 28, loss: 0.40637052,  validation RMSE: 8.7194395\n",
      "Epoch 29, loss: 0.4068834,  validation RMSE: 8.7333145\n",
      "Epoch 30, loss: 0.40606838,  validation RMSE: 8.721781\n",
      "Epoch 31, loss: 0.405643,  validation RMSE: 8.743047\n",
      "Epoch 32, loss: 0.4065659,  validation RMSE: 8.722379\n",
      "Epoch 33, loss: 0.4059518,  validation RMSE: 8.70752\n",
      "Epoch 34, loss: 0.40512592,  validation RMSE: 8.771481\n",
      "Epoch 35, loss: 0.40595457,  validation RMSE: 8.715358\n",
      "Epoch 36, loss: 0.40616024,  validation RMSE: 8.725955\n",
      "Epoch 37, loss: 0.4059492,  validation RMSE: 8.72841\n",
      "Epoch 38, loss: 0.40537742,  validation RMSE: 8.725032\n",
      "Epoch 39, loss: 0.40556332,  validation RMSE: 8.728509\n",
      "Epoch 40, loss: 0.40541124,  validation RMSE: 8.720812\n",
      "Epoch 41, loss: 0.4055687,  validation RMSE: 8.733984\n",
      "Epoch 42, loss: 0.40522256,  validation RMSE: 8.734735\n",
      "Epoch 43, loss: 0.40570188,  validation RMSE: 8.738078\n",
      "Epoch 44, loss: 0.40505958,  validation RMSE: 8.719713\n",
      "Epoch 45, loss: 0.4052241,  validation RMSE: 8.726797\n",
      "Epoch 46, loss: 0.4049665,  validation RMSE: 8.710772\n",
      "Epoch 47, loss: 0.40491393,  validation RMSE: 8.720177\n",
      "Epoch 48, loss: 0.40447295,  validation RMSE: 8.733175\n",
      "Epoch 49, loss: 0.4042602,  validation RMSE: 8.727178\n",
      "Epoch 50, loss: 0.40403298,  validation RMSE: 8.703787\n"
     ]
    }
   ],
   "source": [
    "for e in range(epochs):\n",
    "    cumulative_loss = 0\n",
    "    # inner loop\n",
    "    for i, (data, label) in enumerate(train_data3):\n",
    "        data = data.as_in_context(model_ctx)\n",
    "        label = label.as_in_context(model_ctx)\n",
    "        with autograd.record():\n",
    "            output = net(data)\n",
    "            loss = square_loss(output, label)\n",
    "        loss.backward()\n",
    "        trainer.step(batch_size)\n",
    "        cumulative_loss += np.mean(loss)\n",
    "        \n",
    "    pre=net(validation_x)\n",
    "    pre=pre.reshape(-1,)\n",
    "    v_RMSE=RMSE(validation_y_demean,pre)\n",
    "    validation_RMSE.append(v_RMSE)\n",
    "    print(\"Epoch %s, loss: %s,  validation RMSE: %s\" % (e+1, cumulative_loss / num_examples,v_RMSE))\n",
    "    loss_sequence.append(cumulative_loss)\n"
   ]
  },
  {
   "cell_type": "code",
   "execution_count": 621,
   "metadata": {},
   "outputs": [
    {
     "data": {
      "text/plain": [
       "Text(0, 0.5, 'average loss')"
      ]
     },
     "execution_count": 621,
     "metadata": {},
     "output_type": "execute_result"
    },
    {
     "data": {
      "image/png": "[encoded data removed]",
      "text/plain": [
       "<Figure size 576x432 with 1 Axes>"
      ]
     },
     "metadata": {
      "needs_background": "light"
     },
     "output_type": "display_data"
    }
   ],
   "source": [
    "# plot the convergence of the estimated loss function\n",
    "plt.figure(num=None,figsize=(8, 6))\n",
    "plt.plot(loss_sequence,label=\"loss\")\n",
    "# Adding some bells and whistles to the plot\n",
    "plt.grid(True, which=\"both\")\n",
    "plt.xlabel('epoch',fontsize=14)\n",
    "plt.ylabel('average loss',fontsize=14)"
   ]
  },
  {
   "cell_type": "code",
   "execution_count": 622,
   "metadata": {},
   "outputs": [
    {
     "data": {
      "text/plain": [
       "Text(0, 0.5, 'validation RMSE')"
      ]
     },
     "execution_count": 622,
     "metadata": {},
     "output_type": "execute_result"
    },
    {
     "data": {
      "image/png": "[encoded data removed]",
      "text/plain": [
       "<Figure size 576x432 with 1 Axes>"
      ]
     },
     "metadata": {
      "needs_background": "light"
     },
     "output_type": "display_data"
    }
   ],
   "source": [
    "# plot the convergence of the validation RMSE\n",
    "plt.figure(num=None,figsize=(8, 6))\n",
    "plt.plot(validation_RMSE,c=\"red\",label=\"validation RMSE\")\n",
    "# Adding some bells and whistles to the plot\n",
    "plt.grid(True, which=\"both\")\n",
    "plt.xlabel('epoch',fontsize=14)\n",
    "plt.ylabel('validation RMSE',fontsize=14)"
   ]
  },
  {
   "cell_type": "code",
   "execution_count": 623,
   "metadata": {},
   "outputs": [
    {
     "data": {
      "text/plain": [
       "Sequential(\n",
       "  (0): Dense(90 -> 45, Activation(relu))\n",
       "  (1): Dropout(p = 0.5, axes=())\n",
       "  (2): Dense(45 -> 45, Activation(relu))\n",
       "  (3): Dropout(p = 0.5, axes=())\n",
       "  (4): Dense(45 -> 1, linear)\n",
       ")"
      ]
     },
     "execution_count": 623,
     "metadata": {},
     "output_type": "execute_result"
    }
   ],
   "source": [
    "net"
   ]
  },
  {
   "cell_type": "code",
   "execution_count": 624,
   "metadata": {},
   "outputs": [],
   "source": [
    "pre10=net(X_test_standard)\n",
    "pre10=pre10.reshape(-1,)"
   ]
  },
  {
   "cell_type": "code",
   "execution_count": 625,
   "metadata": {},
   "outputs": [
    {
     "name": "stdout",
     "output_type": "stream",
     "text": [
      "8.858317\n"
     ]
    }
   ],
   "source": [
    "#印出RMSE\n",
    "RMSE10=RMSE(test_y_demean,pre10)\n",
    "print(RMSE10)"
   ]
  },
  {
   "cell_type": "markdown",
   "metadata": {},
   "source": [
    "## Q2"
   ]
  },
  {
   "cell_type": "code",
   "execution_count": 626,
   "metadata": {},
   "outputs": [],
   "source": [
    "case=['OLS','MLP_0_dm','MLP_1_dm','MLP_2_dm','MLP_2_dm_L2','MLP_2_dm_dropout'\n",
    "      ,'MLP_2_ykeep','MLP_2_ykeep_L2','MLP_2_ykeep_dropout','MLP_2_dm_dropout_full']"
   ]
  },
  {
   "cell_type": "code",
   "execution_count": 628,
   "metadata": {},
   "outputs": [],
   "source": [
    "RMSE_value=[RMSE1,RMSE2,RMSE3,RMSE4,RMSE5,RMSE6,RMSE7,RMSE8,RMSE9,RMSE10]"
   ]
  },
  {
   "cell_type": "code",
   "execution_count": 630,
   "metadata": {},
   "outputs": [
    {
     "data": {
      "text/html": [
       "<div>\n",
       "<style scoped>\n",
       "    .dataframe tbody tr th:only-of-type {\n",
       "        vertical-align: middle;\n",
       "    }\n",
       "\n",
       "    .dataframe tbody tr th {\n",
       "        vertical-align: top;\n",
       "    }\n",
       "\n",
       "    .dataframe thead th {\n",
       "        text-align: right;\n",
       "    }\n",
       "</style>\n",
       "<table border=\"1\" class=\"dataframe\">\n",
       "  <thead>\n",
       "    <tr style=\"text-align: right;\">\n",
       "      <th></th>\n",
       "      <th>case</th>\n",
       "      <th>RSME</th>\n",
       "    </tr>\n",
       "  </thead>\n",
       "  <tbody>\n",
       "    <tr>\n",
       "      <th>0</th>\n",
       "      <td>OLS</td>\n",
       "      <td>9.550725</td>\n",
       "    </tr>\n",
       "    <tr>\n",
       "      <th>1</th>\n",
       "      <td>MLP_0_dm</td>\n",
       "      <td>9.549119</td>\n",
       "    </tr>\n",
       "    <tr>\n",
       "      <th>2</th>\n",
       "      <td>MLP_1_dm</td>\n",
       "      <td>9.242959</td>\n",
       "    </tr>\n",
       "    <tr>\n",
       "      <th>3</th>\n",
       "      <td>MLP_2_dm</td>\n",
       "      <td>9.216016</td>\n",
       "    </tr>\n",
       "    <tr>\n",
       "      <th>4</th>\n",
       "      <td>MLP_2_dm_L2</td>\n",
       "      <td>9.255524</td>\n",
       "    </tr>\n",
       "    <tr>\n",
       "      <th>5</th>\n",
       "      <td>MLP_2_dm_dropout</td>\n",
       "      <td>9.197704</td>\n",
       "    </tr>\n",
       "    <tr>\n",
       "      <th>6</th>\n",
       "      <td>MLP_2_ykeep</td>\n",
       "      <td>10.852086</td>\n",
       "    </tr>\n",
       "    <tr>\n",
       "      <th>7</th>\n",
       "      <td>MLP_2_ykeep_L2</td>\n",
       "      <td>10.85267</td>\n",
       "    </tr>\n",
       "    <tr>\n",
       "      <th>8</th>\n",
       "      <td>MLP_2_ykeep_dropout</td>\n",
       "      <td>92.87263</td>\n",
       "    </tr>\n",
       "    <tr>\n",
       "      <th>9</th>\n",
       "      <td>MLP_2_dm_dropout_full</td>\n",
       "      <td>8.858317</td>\n",
       "    </tr>\n",
       "  </tbody>\n",
       "</table>\n",
       "</div>"
      ],
      "text/plain": [
       "                    case       RSME\n",
       "0                    OLS   9.550725\n",
       "1               MLP_0_dm   9.549119\n",
       "2               MLP_1_dm   9.242959\n",
       "3               MLP_2_dm   9.216016\n",
       "4            MLP_2_dm_L2   9.255524\n",
       "5       MLP_2_dm_dropout   9.197704\n",
       "6            MLP_2_ykeep  10.852086\n",
       "7         MLP_2_ykeep_L2   10.85267\n",
       "8    MLP_2_ykeep_dropout   92.87263\n",
       "9  MLP_2_dm_dropout_full   8.858317"
      ]
     },
     "execution_count": 630,
     "metadata": {},
     "output_type": "execute_result"
    }
   ],
   "source": [
    "df_summary=pd.DataFrame({'case':case,'RSME':RMSE_value})\n",
    "df_summary"
   ]
  },
  {
   "cell_type": "markdown",
   "metadata": {},
   "source": [
    "從最後的結果可以看到最好的RSME為：Case10:MLP_2_dm_dropout_full\t的 8.858317\n",
    "\n",
    "並且可以發現：\n",
    "\n",
    "1.demean_y 的效果會比keep_y 來得更好，而且 keep_y 使用dropout時 模型表現不穩定。\n",
    "\n",
    "2.加上兩層hidden layer 會比一層hidden layer表現來得好，而一層hidden layer也會比無hidden layer表現來得好。\n",
    "\n",
    "3.demean_y後，並加上兩層hidden layer再搭配dropout的模型 在只有10000筆資料時，效果最好。\n",
    "\n",
    "4.在找出適用的模型後，再將training data數量增加，一樣有效大幅下降test 的RMSE。"
   ]
  },
  {
   "cell_type": "markdown",
   "metadata": {},
   "source": [
    "從這次作業也可以總結當我們訓練深度學習模型時，我們應該要注意validation data才不會有overfitting的情形發生，至於要不要demean的話，可能要再視模型使用，至少這次迴歸的模型中demean效果是很顯著的。\n",
    "\n",
    "最後調整完模型後，並將訓練資料筆數增加，並放入調整好的模型，如此就能使用最恰當的模型進行預測，也不會有過適的問題。\n",
    "\n",
    "我期末專案當時就是沒有考量到這個點，所以當時把訓練模型訓練得太好，反而預測效果不佳，尤其在深度學習的模型中要特別注意。"
   ]
  },
  {
   "cell_type": "code",
   "execution_count": null,
   "metadata": {},
   "outputs": [],
   "source": []
  }
 ],
 "metadata": {
  "kernelspec": {
   "display_name": "Python 3",
   "language": "python",
   "name": "python3"
  },
  "language_info": {
   "codemirror_mode": {
    "name": "ipython",
    "version": 3
   },
   "file_extension": ".py",
   "mimetype": "text/x-python",
   "name": "python",
   "nbconvert_exporter": "python",
   "pygments_lexer": "ipython3",
   "version": "3.7.4"
  }
 },
 "nbformat": 4,
 "nbformat_minor": 2
}
