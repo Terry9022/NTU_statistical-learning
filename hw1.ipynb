{
 "cells": [
  {
   "cell_type": "markdown",
   "metadata": {},
   "source": [
    "## 統計學習HW1 KNN_Regressor"
   ]
  },
  {
   "cell_type": "code",
   "execution_count": 2,
   "metadata": {},
   "outputs": [],
   "source": [
    "#第一題\n",
    "#Q1.1\n",
    "# 根據題目訂出我自己的knn_regressor Class\n",
    "import numpy as np\n",
    "\n",
    "class myknn_regressor():\n",
    "    \n",
    "    def __init__(self,k,f):\n",
    "        self.k = int(k)\n",
    "        self.f = f\n",
    "        \n",
    "    def fit(self, X, y):\n",
    "        self.data = X\n",
    "        self.targets = y\n",
    "        \n",
    "    def euclidean_distance(self, X):   #先將euclidean_distance的距離公式寫好 以等等判斷最近的鄰居點\n",
    "        n_samples, _ = X.shape\n",
    "        l2 = [np.sqrt(np.sum((self.data - X[i])**2, axis=1)) for i in range(n_samples)]\n",
    "        return np.array(l2)\n",
    "\n",
    "    def predict(self, X):\n",
    "        # step 1: 計算出input data 跟training data 的距離\n",
    "        dists = self.euclidean_distance(X)\n",
    "        k = self.k\n",
    "        \n",
    "        # step 2: find the k nearest neighbors\n",
    "        #如果輸入k>10而且指定f為remove_outliers法 則預測方式如下\n",
    "        if (k > 10) and (self.f == \"remove_outliers\"):  \n",
    "            knn = np.argsort(dists)[:, :k]   #找出距離最近k個鄰居點的索引值\n",
    "            y_knn = self.targets[knn]   #並根據索引值代入至 training data的 target 找出要拿來預測用的k個值\n",
    "            y_Q1 = np.quantile(y_knn, 0.25, axis=1)  #算出k個 target值的第一四分位數\n",
    "            y_Q3 = np.quantile(y_knn, 0.75, axis=1)  #算出k個 target值的第三四分位數\n",
    "            IOR  = y_Q3 - y_Q1\n",
    "            lower= y_Q1-IOR*1.5  #根據第一四分位數和第三四分位數 算出我們定義outliners 的下限\n",
    "            upper= y_Q3+IOR*1.5  #根據第一四分位數和第三四分位數 算出我們定義outliners 的上限\n",
    "            y_knn_list=[]\n",
    "            \n",
    "        #用我們定義outliners的上下限來判斷要不要將k個target裡面的值排除掉，如果超過區間則排出，再計算其他剩下值的平均並以此當作預測值\n",
    "            for i in range(len(y_knn)):\n",
    "                y_knn_row=y_knn[i][~(np.logical_or(y_knn[i]>upper[i], y_knn[i]<lower[i]))]\n",
    "                y_knn_list.append(np.mean(y_knn_row))\n",
    "            return np.array(y_knn_list)\n",
    "        \n",
    "        #如果不是如上面指定的預測方式，或是k點數量小於10，則直接回傳最近k個鄰居點的平均值 \n",
    "        else:    \n",
    "            knn = np.argsort(dists)[:, :k]\n",
    "            y_knn = self.targets[knn]\n",
    "            return np.mean(y_knn,axis=1) \n",
    "         "
   ]
  },
  {
   "cell_type": "code",
   "execution_count": 3,
   "metadata": {},
   "outputs": [],
   "source": [
    "#Q1.2\n",
    "#載入套件 並讀入資料集\n",
    "import pickle\n",
    "\n",
    "with open('msd_data1.pickle','rb') as f:\n",
    "    myobj = pickle.load(f)"
   ]
  },
  {
   "cell_type": "code",
   "execution_count": 4,
   "metadata": {},
   "outputs": [
    {
     "data": {
      "text/plain": [
       "{'X_train': array([[  53.39967,   56.67781,   55.63508, ...,    1.3159 ,    2.37448,\n",
       "            1.85999],\n",
       "        [  42.83464,  -33.90478,   38.97704, ...,    9.72827, -175.51446,\n",
       "          -15.8389 ],\n",
       "        [  49.88591,   23.30563,   54.79012, ...,    1.94152,  101.27241,\n",
       "            8.99355],\n",
       "        ...,\n",
       "        [  41.04397,  -96.30727,   56.8073 , ...,    3.60251,  -97.24809,\n",
       "           -5.80797],\n",
       "        [  42.8676 ,   43.36365,   29.17957, ...,   18.71014,  208.9029 ,\n",
       "          -11.08426],\n",
       "        [  36.57558,   29.8733 ,   -3.08101, ...,   21.0417 ,  106.60317,\n",
       "            3.44396]]),\n",
       " 'Y_train': array([1996., 2001., 2003., ..., 2009., 1982., 1981.]),\n",
       " 'X_test': array([[  38.51784,   55.38723,   10.31652, ...,    6.66624,  -73.75585,\n",
       "            9.47857],\n",
       "        [  44.7309 ,   46.25776,    8.55636, ...,    4.5564 ,   53.49956,\n",
       "            5.39116],\n",
       "        [  43.08912,   45.70197,   17.18467, ...,  -13.64909,   -7.42137,\n",
       "           -4.97266],\n",
       "        ...,\n",
       "        [  39.81814,   62.12221,    6.60567, ...,   28.27807,  -60.00203,\n",
       "          -11.19226],\n",
       "        [  50.25968,   43.10325,   24.72866, ...,    2.71602,  -44.27226,\n",
       "           -2.54583],\n",
       "        [  41.39744,   -8.88692,  -20.15887, ...,    8.63798, -120.34024,\n",
       "            3.65709]]),\n",
       " 'Y_test': array([1998., 1988., 2005., ..., 1990., 2005., 1989.])}"
      ]
     },
     "execution_count": 4,
     "metadata": {},
     "output_type": "execute_result"
    }
   ],
   "source": [
    "myobj"
   ]
  },
  {
   "cell_type": "code",
   "execution_count": 5,
   "metadata": {},
   "outputs": [
    {
     "name": "stdout",
     "output_type": "stream",
     "text": [
      "(5000, 90)\n",
      "(5000,)\n",
      "(3000, 90)\n",
      "(3000,)\n"
     ]
    }
   ],
   "source": [
    "print(myobj['X_train'].shape)\n",
    "print(myobj['Y_train'].shape)\n",
    "print(myobj['X_test'].shape)\n",
    "print(myobj['Y_test'].shape)"
   ]
  },
  {
   "cell_type": "code",
   "execution_count": 6,
   "metadata": {},
   "outputs": [],
   "source": [
    "X_train=myobj['X_train']\n",
    "Y_train=myobj['Y_train']\n",
    "X_test=myobj['X_test']\n",
    "Y_test=myobj['Y_test']"
   ]
  },
  {
   "cell_type": "code",
   "execution_count": 7,
   "metadata": {},
   "outputs": [],
   "source": [
    "#定義出標準化的函數\n",
    "def standardization(data):\n",
    "    mu = np.mean(data, axis=0)\n",
    "    sigma = np.std(data, axis=0)\n",
    "    return (data - mu) / sigma"
   ]
  },
  {
   "cell_type": "code",
   "execution_count": 8,
   "metadata": {},
   "outputs": [],
   "source": [
    "#將要來預測的X_feature標準化\n",
    "X_train_standard=standardization(X_train)\n",
    "X_test_standard=standardization(X_test)"
   ]
  },
  {
   "cell_type": "code",
   "execution_count": 9,
   "metadata": {},
   "outputs": [],
   "source": [
    "#定義出RMSE的函數\n",
    "def RMSE(y, y_pred):\n",
    "    mse = np.mean((y - y_pred)**2) \n",
    "    return  np.sqrt(mse)"
   ]
  },
  {
   "cell_type": "code",
   "execution_count": 10,
   "metadata": {},
   "outputs": [],
   "source": [
    "#將標準化的training data訓練myknn_regressor並以 equal_weight方式 來預測目標target value\n",
    "myknn = myknn_regressor(20, \"equal_weight\")\n",
    "myknn.fit(X_train_standard, Y_train)\n",
    "ypred = myknn.predict(X_test_standard)"
   ]
  },
  {
   "cell_type": "code",
   "execution_count": 11,
   "metadata": {},
   "outputs": [
    {
     "name": "stdout",
     "output_type": "stream",
     "text": [
      "10.292158827638316\n"
     ]
    }
   ],
   "source": [
    "#印出RMSE\n",
    "print(RMSE(Y_test,ypred))"
   ]
  },
  {
   "cell_type": "code",
   "execution_count": 12,
   "metadata": {},
   "outputs": [
    {
     "name": "stdout",
     "output_type": "stream",
     "text": [
      "[1992.9  1994.05 2000.05 1991.5  1992.8  1998.5  1987.1  1990.9  2001.8\n",
      " 2003.   2001.15 1998.65 1995.55 1997.2  1995.05 1997.35 1992.15 1999.1\n",
      " 2003.6  1995.75]\n"
     ]
    }
   ],
   "source": [
    "#並印出前20筆的預測值\n",
    "print(ypred[:20])"
   ]
  },
  {
   "cell_type": "code",
   "execution_count": 13,
   "metadata": {},
   "outputs": [],
   "source": [
    "#Q1.3\n",
    "#將標準化的training data訓練myknn_regressor並以 remove_outliers方式 來預測目標target value\n",
    "myknn2 = myknn_regressor(20, \"remove_outliers\")\n",
    "myknn2.fit(X_train_standard, Y_train)\n",
    "ypred2 = myknn2.predict(X_test_standard)"
   ]
  },
  {
   "cell_type": "code",
   "execution_count": 14,
   "metadata": {},
   "outputs": [
    {
     "name": "stdout",
     "output_type": "stream",
     "text": [
      "10.225720983625129\n"
     ]
    }
   ],
   "source": [
    "#印出RMSE\n",
    "print(RMSE(Y_test,ypred2))"
   ]
  },
  {
   "cell_type": "code",
   "execution_count": 15,
   "metadata": {},
   "outputs": [
    {
     "name": "stdout",
     "output_type": "stream",
     "text": [
      "[1992.9        1994.05       2000.05       1992.73684211 1992.8\n",
      " 2000.         1987.1        1990.9        2001.8        2003.94736842\n",
      " 2001.15       2000.94444444 1995.55       1997.2        1998.61111111\n",
      " 1997.35       1992.15       2004.23529412 2003.6        1995.75      ]\n"
     ]
    }
   ],
   "source": [
    "#並印出前20筆的預測值\n",
    "print(ypred2[:20])"
   ]
  },
  {
   "cell_type": "code",
   "execution_count": 16,
   "metadata": {},
   "outputs": [],
   "source": [
    "#第二題\n",
    "#載入sklearn 的knn regressor\n",
    "#並建立k的list以等等tune出最佳表現的k值\n",
    "from sklearn.neighbors import KNeighborsRegressor\n",
    "𝑘_range = [1,2,3,4,5,10,15,20,25,30,35,40,45,50,55,60,80,100,120,140,160,180,200]"
   ]
  },
  {
   "cell_type": "code",
   "execution_count": 17,
   "metadata": {},
   "outputs": [],
   "source": [
    "# Case1 第一個case為用sklearn的knn regressor\n",
    "#將標準化的training data訓練sklearn的knn regressor來預測目標target value 並印出不同k值所產生的RSME\n",
    "Knn1_list=[]\n",
    "for i in k_range:\n",
    "    Knn1 = KNeighborsRegressor(n_neighbors=i)\n",
    "    Knn1.fit(X_train_standard, Y_train) \n",
    "    ypred3= Knn1.predict(X_test_standard)\n",
    "    Knn1_list.append(RMSE(Y_test,ypred3))"
   ]
  },
  {
   "cell_type": "code",
   "execution_count": 18,
   "metadata": {},
   "outputs": [
    {
     "data": {
      "text/plain": [
       "[13.94019368588543,\n",
       " 12.097861381252473,\n",
       " 11.448255568232025,\n",
       " 11.043653909221652,\n",
       " 10.900440969673351,\n",
       " 10.46269085847422,\n",
       " 10.359457586258149,\n",
       " 10.292158827638316,\n",
       " 10.261870966511582,\n",
       " 10.257804039057469,\n",
       " 10.235202506063867,\n",
       " 10.209997388181186,\n",
       " 10.204546360311813,\n",
       " 10.228160003962914,\n",
       " 10.232596529500087,\n",
       " 10.242063661955804,\n",
       " 10.245796391589902,\n",
       " 10.260879617914505,\n",
       " 10.284962306823381,\n",
       " 10.299767106540788,\n",
       " 10.318954408812253,\n",
       " 10.347841640420786,\n",
       " 10.370087243686365]"
      ]
     },
     "execution_count": 18,
     "metadata": {},
     "output_type": "execute_result"
    }
   ],
   "source": [
    "Knn1_list"
   ]
  },
  {
   "cell_type": "code",
   "execution_count": 19,
   "metadata": {},
   "outputs": [],
   "source": [
    "# Case2  第二個case為用sklearn的knn regressor\n",
    "#將沒有標準化的training data訓練sklearn的knn regressor來預測目標target value 並印出不同k值所產生的RSME\n",
    "Knn2_list=[]\n",
    "for i in k_range:\n",
    "    Knn2 = KNeighborsRegressor(n_neighbors=i)\n",
    "    Knn2.fit(X_train, Y_train) \n",
    "    ypred4= Knn2.predict(X_test)\n",
    "    Knn2_list.append(RMSE(Y_test,ypred4))"
   ]
  },
  {
   "cell_type": "code",
   "execution_count": 20,
   "metadata": {},
   "outputs": [
    {
     "data": {
      "text/plain": [
       "[14.923638966418345,\n",
       " 12.777499755429464,\n",
       " 12.075674967716129,\n",
       " 11.767805657810635,\n",
       " 11.466392632384432,\n",
       " 11.07746090040493,\n",
       " 10.888979137947995,\n",
       " 10.797788546734928,\n",
       " 10.79007301797969,\n",
       " 10.75026561256701,\n",
       " 10.717738719772289,\n",
       " 10.714437504678756,\n",
       " 10.698494013475852,\n",
       " 10.69110105960404,\n",
       " 10.682608734124413,\n",
       " 10.672535729098724,\n",
       " 10.662907517124493,\n",
       " 10.67701950452466,\n",
       " 10.683139638996407,\n",
       " 10.687017556442052,\n",
       " 10.691630026202155,\n",
       " 10.69071978380711,\n",
       " 10.698853374700175]"
      ]
     },
     "execution_count": 20,
     "metadata": {},
     "output_type": "execute_result"
    }
   ],
   "source": [
    "Knn2_list"
   ]
  },
  {
   "cell_type": "code",
   "execution_count": 21,
   "metadata": {},
   "outputs": [],
   "source": [
    "# Case3  第三個case為用myknn_regressor\n",
    "#將標準化的training data訓練myknn_regressor並以 remove_outliers方式 來預測目標target value 並印出不同k值所產生的RSME\n",
    "Knn3_list=[]\n",
    "for i in k_range:\n",
    "    Knn3 = myknn_regressor(i,\"remove_outliers\")\n",
    "    Knn3.fit(X_train_standard, Y_train) \n",
    "    ypred5= Knn3.predict(X_test_standard)\n",
    "    Knn3_list.append(RMSE(Y_test,ypred5))"
   ]
  },
  {
   "cell_type": "code",
   "execution_count": 22,
   "metadata": {},
   "outputs": [
    {
     "data": {
      "text/plain": [
       "[13.94019368588543,\n",
       " 12.097861381252473,\n",
       " 11.448255568232025,\n",
       " 11.043653909221652,\n",
       " 10.900440969673351,\n",
       " 10.46269085847422,\n",
       " 10.343823629898093,\n",
       " 10.225720983625129,\n",
       " 10.213345451143018,\n",
       " 10.188079193609305,\n",
       " 10.161597862384458,\n",
       " 10.095243787687673,\n",
       " 10.056682304105307,\n",
       " 10.089018275220825,\n",
       " 10.076818047624425,\n",
       " 10.089731397690318,\n",
       " 10.067742577227309,\n",
       " 10.063088284816118,\n",
       " 10.088531815151665,\n",
       " 10.10597373451231,\n",
       " 10.109055850913563,\n",
       " 10.14313493144064,\n",
       " 10.170153335037124]"
      ]
     },
     "execution_count": 22,
     "metadata": {},
     "output_type": "execute_result"
    }
   ],
   "source": [
    "Knn3_list"
   ]
  },
  {
   "cell_type": "code",
   "execution_count": 28,
   "metadata": {},
   "outputs": [
    {
     "data": {
      "image/png": "[encoded data removed]",
      "text/plain": [
       "<Figure size 432x288 with 1 Axes>"
      ]
     },
     "metadata": {
      "needs_background": "light"
     },
     "output_type": "display_data"
    }
   ],
   "source": [
    "#最後將三種不同的Case，根據k值產生出不同的RSME的直線圖，畫在同一個圖中進行模型的好壞比較\n",
    "import matplotlib.pyplot as plt\n",
    "line1, = plt.plot(k_range, Knn1_list, \"blue\", label= \"Case1: sklearn.KNN with standardization\")\n",
    "line2, = plt.plot(k_range, Knn2_list, \"black\", label= \"Case2: sklearn.KNN without standardization\")\n",
    "line3, = plt.plot(k_range, Knn3_list, \"red\", label= \"Case3: myknn_regressor using remove_outliers\")\n",
    "plt.legend()\n",
    "plt.xlabel(\"Value of K for KNN\")  \n",
    "plt.ylabel(\"RSME\")  \n",
    "plt.show() "
   ]
  },
  {
   "cell_type": "markdown",
   "metadata": {},
   "source": [
    "由最後的結果可以觀察出：\n",
    "\n",
    "1.如果沒有將feature標準化的話，模型表現會較差，容易預測不準\n",
    "\n",
    "2.以我自己建立的 knn_regressor由於有將outliners排除，因此RSME在K值大於25以後比sklearn的knn regressor來得小，表現三者之中最佳\n",
    "\n",
    "3.在我自己建立的 knn_regressor在K值不大於10之前，由於計算距離以及根據最近鄰居，預測方法皆是取平均，演算法與sklearn差不多，因此RSME都差不多，模型表現差不多，也說明outliners排除法要在K值有一定大小時，才有真正達到將outliners排除以利預測更準之效果"
   ]
  },
  {
   "cell_type": "code",
   "execution_count": null,
   "metadata": {},
   "outputs": [],
   "source": []
  }
 ],
 "metadata": {
  "kernelspec": {
   "display_name": "Python 3",
   "language": "python",
   "name": "python3"
  },
  "language_info": {
   "codemirror_mode": {
    "name": "ipython",
    "version": 3
   },
   "file_extension": ".py",
   "mimetype": "text/x-python",
   "name": "python",
   "nbconvert_exporter": "python",
   "pygments_lexer": "ipython3",
   "version": "3.7.4"
  }
 },
 "nbformat": 4,
 "nbformat_minor": 2
}
